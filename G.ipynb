{
  "nbformat": 4,
  "nbformat_minor": 0,
  "metadata": {
    "colab": {
      "name": "G.ipynb",
      "provenance": [],
      "collapsed_sections": [],
      "authorship_tag": "ABX9TyMVJB8KAJmWDWT3ZG8Cm4Go",
      "include_colab_link": true
    },
    "kernelspec": {
      "name": "python3",
      "display_name": "Python 3"
    },
    "language_info": {
      "name": "python"
    }
  },
  "cells": [
    {
      "cell_type": "markdown",
      "metadata": {
        "id": "view-in-github",
        "colab_type": "text"
      },
      "source": [
        "<a href=\"https://colab.research.google.com/github/Manikandan-professional/Miscellaneous/blob/main/G.ipynb\" target=\"_parent\"><img src=\"https://colab.research.google.com/assets/colab-badge.svg\" alt=\"Open In Colab\"/></a>"
      ]
    },
    {
      "cell_type": "markdown",
      "source": [
        "# **Importing the Necessary packages required**"
      ],
      "metadata": {
        "id": "_pyTtfYBbH68"
      }
    },
    {
      "cell_type": "code",
      "execution_count": 84,
      "metadata": {
        "id": "lsjc_AU9UQ__"
      },
      "outputs": [],
      "source": [
        "import pandas as pd\n",
        "import numpy as np\n",
        "from sklearn.model_selection import train_test_split\n",
        "from sklearn.linear_model import LinearRegression\n",
        "from sklearn.linear_model import LogisticRegression\n",
        "from sklearn.neighbors import KNeighborsClassifier\n",
        "import matplotlib.pyplot as plt\n",
        "import seaborn as sns"
      ]
    },
    {
      "cell_type": "markdown",
      "source": [
        "# **Excel to DataFrame Conversion**"
      ],
      "metadata": {
        "id": "tOLlP7LOmAri"
      }
    },
    {
      "cell_type": "code",
      "source": [
        "link_Dataset='https://raw.githubusercontent.com/Manikandan-professional/Miscellaneous/main/train.csv'\n",
        "link_Dataset_csv=pd.read_csv(link_Dataset)\n",
        "df=pd.DataFrame(link_Dataset_csv)\n",
        "df"
      ],
      "metadata": {
        "colab": {
          "base_uri": "https://localhost:8080/",
          "height": 661
        },
        "id": "M3xYc9Yub9ED",
        "outputId": "5b183347-ca11-4a4e-f8d6-8e9a6f92507c"
      },
      "execution_count": 85,
      "outputs": [
        {
          "output_type": "execute_result",
          "data": {
            "text/html": [
              "\n",
              "  <div id=\"df-a513f201-468c-40a6-8764-2ea580da6237\">\n",
              "    <div class=\"colab-df-container\">\n",
              "      <div>\n",
              "<style scoped>\n",
              "    .dataframe tbody tr th:only-of-type {\n",
              "        vertical-align: middle;\n",
              "    }\n",
              "\n",
              "    .dataframe tbody tr th {\n",
              "        vertical-align: top;\n",
              "    }\n",
              "\n",
              "    .dataframe thead th {\n",
              "        text-align: right;\n",
              "    }\n",
              "</style>\n",
              "<table border=\"1\" class=\"dataframe\">\n",
              "  <thead>\n",
              "    <tr style=\"text-align: right;\">\n",
              "      <th></th>\n",
              "      <th>PRT_ID</th>\n",
              "      <th>AREA</th>\n",
              "      <th>INT_SQFT</th>\n",
              "      <th>DATE_SALE</th>\n",
              "      <th>DIST_MAINROAD</th>\n",
              "      <th>N_BEDROOM</th>\n",
              "      <th>N_BATHROOM</th>\n",
              "      <th>N_ROOM</th>\n",
              "      <th>SALE_COND</th>\n",
              "      <th>PARK_FACIL</th>\n",
              "      <th>DATE_BUILD</th>\n",
              "      <th>BUILDTYPE</th>\n",
              "      <th>UTILITY_AVAIL</th>\n",
              "      <th>STREET</th>\n",
              "      <th>MZZONE</th>\n",
              "      <th>QS_ROOMS</th>\n",
              "      <th>QS_BATHROOM</th>\n",
              "      <th>QS_BEDROOM</th>\n",
              "      <th>QS_OVERALL</th>\n",
              "      <th>REG_FEE</th>\n",
              "      <th>COMMIS</th>\n",
              "      <th>SALES_PRICE</th>\n",
              "    </tr>\n",
              "  </thead>\n",
              "  <tbody>\n",
              "    <tr>\n",
              "      <th>0</th>\n",
              "      <td>P03210</td>\n",
              "      <td>Karapakkam</td>\n",
              "      <td>1004</td>\n",
              "      <td>04-05-2011</td>\n",
              "      <td>131</td>\n",
              "      <td>1.0</td>\n",
              "      <td>1.0</td>\n",
              "      <td>3</td>\n",
              "      <td>AbNormal</td>\n",
              "      <td>Yes</td>\n",
              "      <td>15-05-1967</td>\n",
              "      <td>Commercial</td>\n",
              "      <td>AllPub</td>\n",
              "      <td>Paved</td>\n",
              "      <td>A</td>\n",
              "      <td>4.0</td>\n",
              "      <td>3.9</td>\n",
              "      <td>4.9</td>\n",
              "      <td>4.330</td>\n",
              "      <td>380000</td>\n",
              "      <td>144400</td>\n",
              "      <td>7600000</td>\n",
              "    </tr>\n",
              "    <tr>\n",
              "      <th>1</th>\n",
              "      <td>P09411</td>\n",
              "      <td>Anna Nagar</td>\n",
              "      <td>1986</td>\n",
              "      <td>19-12-2006</td>\n",
              "      <td>26</td>\n",
              "      <td>2.0</td>\n",
              "      <td>1.0</td>\n",
              "      <td>5</td>\n",
              "      <td>AbNormal</td>\n",
              "      <td>No</td>\n",
              "      <td>22-12-1995</td>\n",
              "      <td>Commercial</td>\n",
              "      <td>AllPub</td>\n",
              "      <td>Gravel</td>\n",
              "      <td>RH</td>\n",
              "      <td>4.9</td>\n",
              "      <td>4.2</td>\n",
              "      <td>2.5</td>\n",
              "      <td>3.765</td>\n",
              "      <td>760122</td>\n",
              "      <td>304049</td>\n",
              "      <td>21717770</td>\n",
              "    </tr>\n",
              "    <tr>\n",
              "      <th>2</th>\n",
              "      <td>P01812</td>\n",
              "      <td>Adyar</td>\n",
              "      <td>909</td>\n",
              "      <td>04-02-2012</td>\n",
              "      <td>70</td>\n",
              "      <td>1.0</td>\n",
              "      <td>1.0</td>\n",
              "      <td>3</td>\n",
              "      <td>AbNormal</td>\n",
              "      <td>Yes</td>\n",
              "      <td>09-02-1992</td>\n",
              "      <td>Commercial</td>\n",
              "      <td>ELO</td>\n",
              "      <td>Gravel</td>\n",
              "      <td>RL</td>\n",
              "      <td>4.1</td>\n",
              "      <td>3.8</td>\n",
              "      <td>2.2</td>\n",
              "      <td>3.090</td>\n",
              "      <td>421094</td>\n",
              "      <td>92114</td>\n",
              "      <td>13159200</td>\n",
              "    </tr>\n",
              "    <tr>\n",
              "      <th>3</th>\n",
              "      <td>P05346</td>\n",
              "      <td>Velachery</td>\n",
              "      <td>1855</td>\n",
              "      <td>13-03-2010</td>\n",
              "      <td>14</td>\n",
              "      <td>3.0</td>\n",
              "      <td>2.0</td>\n",
              "      <td>5</td>\n",
              "      <td>Family</td>\n",
              "      <td>No</td>\n",
              "      <td>18-03-1988</td>\n",
              "      <td>Others</td>\n",
              "      <td>NoSewr</td>\n",
              "      <td>Paved</td>\n",
              "      <td>I</td>\n",
              "      <td>4.7</td>\n",
              "      <td>3.9</td>\n",
              "      <td>3.6</td>\n",
              "      <td>4.010</td>\n",
              "      <td>356321</td>\n",
              "      <td>77042</td>\n",
              "      <td>9630290</td>\n",
              "    </tr>\n",
              "    <tr>\n",
              "      <th>4</th>\n",
              "      <td>P06210</td>\n",
              "      <td>Karapakkam</td>\n",
              "      <td>1226</td>\n",
              "      <td>05-10-2009</td>\n",
              "      <td>84</td>\n",
              "      <td>1.0</td>\n",
              "      <td>1.0</td>\n",
              "      <td>3</td>\n",
              "      <td>AbNormal</td>\n",
              "      <td>Yes</td>\n",
              "      <td>13-10-1979</td>\n",
              "      <td>Others</td>\n",
              "      <td>AllPub</td>\n",
              "      <td>Gravel</td>\n",
              "      <td>C</td>\n",
              "      <td>3.0</td>\n",
              "      <td>2.5</td>\n",
              "      <td>4.1</td>\n",
              "      <td>3.290</td>\n",
              "      <td>237000</td>\n",
              "      <td>74063</td>\n",
              "      <td>7406250</td>\n",
              "    </tr>\n",
              "    <tr>\n",
              "      <th>...</th>\n",
              "      <td>...</td>\n",
              "      <td>...</td>\n",
              "      <td>...</td>\n",
              "      <td>...</td>\n",
              "      <td>...</td>\n",
              "      <td>...</td>\n",
              "      <td>...</td>\n",
              "      <td>...</td>\n",
              "      <td>...</td>\n",
              "      <td>...</td>\n",
              "      <td>...</td>\n",
              "      <td>...</td>\n",
              "      <td>...</td>\n",
              "      <td>...</td>\n",
              "      <td>...</td>\n",
              "      <td>...</td>\n",
              "      <td>...</td>\n",
              "      <td>...</td>\n",
              "      <td>...</td>\n",
              "      <td>...</td>\n",
              "      <td>...</td>\n",
              "      <td>...</td>\n",
              "    </tr>\n",
              "    <tr>\n",
              "      <th>7104</th>\n",
              "      <td>P06508</td>\n",
              "      <td>Karapakkam</td>\n",
              "      <td>787</td>\n",
              "      <td>03-08-2009</td>\n",
              "      <td>40</td>\n",
              "      <td>1.0</td>\n",
              "      <td>1.0</td>\n",
              "      <td>2</td>\n",
              "      <td>Partial</td>\n",
              "      <td>Yes</td>\n",
              "      <td>11-08-1977</td>\n",
              "      <td>Commercial</td>\n",
              "      <td>ELO</td>\n",
              "      <td>Paved</td>\n",
              "      <td>RL</td>\n",
              "      <td>4.6</td>\n",
              "      <td>3.8</td>\n",
              "      <td>4.1</td>\n",
              "      <td>4.160</td>\n",
              "      <td>425350</td>\n",
              "      <td>119098</td>\n",
              "      <td>8507000</td>\n",
              "    </tr>\n",
              "    <tr>\n",
              "      <th>7105</th>\n",
              "      <td>P09794</td>\n",
              "      <td>Velachery</td>\n",
              "      <td>1896</td>\n",
              "      <td>13-07-2005</td>\n",
              "      <td>156</td>\n",
              "      <td>3.0</td>\n",
              "      <td>2.0</td>\n",
              "      <td>5</td>\n",
              "      <td>Partial</td>\n",
              "      <td>Yes</td>\n",
              "      <td>24-07-1961</td>\n",
              "      <td>Others</td>\n",
              "      <td>ELO</td>\n",
              "      <td>Paved</td>\n",
              "      <td>I</td>\n",
              "      <td>3.1</td>\n",
              "      <td>3.5</td>\n",
              "      <td>4.3</td>\n",
              "      <td>3.640</td>\n",
              "      <td>349177</td>\n",
              "      <td>79812</td>\n",
              "      <td>9976480</td>\n",
              "    </tr>\n",
              "    <tr>\n",
              "      <th>7106</th>\n",
              "      <td>P09293</td>\n",
              "      <td>T Nagar</td>\n",
              "      <td>1973</td>\n",
              "      <td>29-01-2007</td>\n",
              "      <td>63</td>\n",
              "      <td>2.0</td>\n",
              "      <td>1.0</td>\n",
              "      <td>5</td>\n",
              "      <td>Family</td>\n",
              "      <td>Yes</td>\n",
              "      <td>07-02-1972</td>\n",
              "      <td>Commercial</td>\n",
              "      <td>AllPub</td>\n",
              "      <td>Gravel</td>\n",
              "      <td>RM</td>\n",
              "      <td>2.6</td>\n",
              "      <td>2.9</td>\n",
              "      <td>4.9</td>\n",
              "      <td>3.710</td>\n",
              "      <td>885666</td>\n",
              "      <td>116535</td>\n",
              "      <td>23307000</td>\n",
              "    </tr>\n",
              "    <tr>\n",
              "      <th>7107</th>\n",
              "      <td>P09021</td>\n",
              "      <td>Chrompet</td>\n",
              "      <td>1023</td>\n",
              "      <td>11-05-2007</td>\n",
              "      <td>44</td>\n",
              "      <td>1.0</td>\n",
              "      <td>1.0</td>\n",
              "      <td>3</td>\n",
              "      <td>Partial</td>\n",
              "      <td>Yes</td>\n",
              "      <td>15-05-1990</td>\n",
              "      <td>House</td>\n",
              "      <td>AllPub</td>\n",
              "      <td>Pavd</td>\n",
              "      <td>RM</td>\n",
              "      <td>3.0</td>\n",
              "      <td>2.8</td>\n",
              "      <td>3.6</td>\n",
              "      <td>3.100</td>\n",
              "      <td>282319</td>\n",
              "      <td>38941</td>\n",
              "      <td>9735150</td>\n",
              "    </tr>\n",
              "    <tr>\n",
              "      <th>7108</th>\n",
              "      <td>P04325</td>\n",
              "      <td>Chrompet</td>\n",
              "      <td>884</td>\n",
              "      <td>22-09-2010</td>\n",
              "      <td>75</td>\n",
              "      <td>1.0</td>\n",
              "      <td>1.0</td>\n",
              "      <td>3</td>\n",
              "      <td>Normal Sale</td>\n",
              "      <td>No</td>\n",
              "      <td>23-09-2006</td>\n",
              "      <td>Commercial</td>\n",
              "      <td>NoSewr</td>\n",
              "      <td>No Access</td>\n",
              "      <td>RM</td>\n",
              "      <td>2.3</td>\n",
              "      <td>3.8</td>\n",
              "      <td>2.4</td>\n",
              "      <td>2.930</td>\n",
              "      <td>283410</td>\n",
              "      <td>45346</td>\n",
              "      <td>11336400</td>\n",
              "    </tr>\n",
              "  </tbody>\n",
              "</table>\n",
              "<p>7109 rows × 22 columns</p>\n",
              "</div>\n",
              "      <button class=\"colab-df-convert\" onclick=\"convertToInteractive('df-a513f201-468c-40a6-8764-2ea580da6237')\"\n",
              "              title=\"Convert this dataframe to an interactive table.\"\n",
              "              style=\"display:none;\">\n",
              "        \n",
              "  <svg xmlns=\"http://www.w3.org/2000/svg\" height=\"24px\"viewBox=\"0 0 24 24\"\n",
              "       width=\"24px\">\n",
              "    <path d=\"M0 0h24v24H0V0z\" fill=\"none\"/>\n",
              "    <path d=\"M18.56 5.44l.94 2.06.94-2.06 2.06-.94-2.06-.94-.94-2.06-.94 2.06-2.06.94zm-11 1L8.5 8.5l.94-2.06 2.06-.94-2.06-.94L8.5 2.5l-.94 2.06-2.06.94zm10 10l.94 2.06.94-2.06 2.06-.94-2.06-.94-.94-2.06-.94 2.06-2.06.94z\"/><path d=\"M17.41 7.96l-1.37-1.37c-.4-.4-.92-.59-1.43-.59-.52 0-1.04.2-1.43.59L10.3 9.45l-7.72 7.72c-.78.78-.78 2.05 0 2.83L4 21.41c.39.39.9.59 1.41.59.51 0 1.02-.2 1.41-.59l7.78-7.78 2.81-2.81c.8-.78.8-2.07 0-2.86zM5.41 20L4 18.59l7.72-7.72 1.47 1.35L5.41 20z\"/>\n",
              "  </svg>\n",
              "      </button>\n",
              "      \n",
              "  <style>\n",
              "    .colab-df-container {\n",
              "      display:flex;\n",
              "      flex-wrap:wrap;\n",
              "      gap: 12px;\n",
              "    }\n",
              "\n",
              "    .colab-df-convert {\n",
              "      background-color: #E8F0FE;\n",
              "      border: none;\n",
              "      border-radius: 50%;\n",
              "      cursor: pointer;\n",
              "      display: none;\n",
              "      fill: #1967D2;\n",
              "      height: 32px;\n",
              "      padding: 0 0 0 0;\n",
              "      width: 32px;\n",
              "    }\n",
              "\n",
              "    .colab-df-convert:hover {\n",
              "      background-color: #E2EBFA;\n",
              "      box-shadow: 0px 1px 2px rgba(60, 64, 67, 0.3), 0px 1px 3px 1px rgba(60, 64, 67, 0.15);\n",
              "      fill: #174EA6;\n",
              "    }\n",
              "\n",
              "    [theme=dark] .colab-df-convert {\n",
              "      background-color: #3B4455;\n",
              "      fill: #D2E3FC;\n",
              "    }\n",
              "\n",
              "    [theme=dark] .colab-df-convert:hover {\n",
              "      background-color: #434B5C;\n",
              "      box-shadow: 0px 1px 3px 1px rgba(0, 0, 0, 0.15);\n",
              "      filter: drop-shadow(0px 1px 2px rgba(0, 0, 0, 0.3));\n",
              "      fill: #FFFFFF;\n",
              "    }\n",
              "  </style>\n",
              "\n",
              "      <script>\n",
              "        const buttonEl =\n",
              "          document.querySelector('#df-a513f201-468c-40a6-8764-2ea580da6237 button.colab-df-convert');\n",
              "        buttonEl.style.display =\n",
              "          google.colab.kernel.accessAllowed ? 'block' : 'none';\n",
              "\n",
              "        async function convertToInteractive(key) {\n",
              "          const element = document.querySelector('#df-a513f201-468c-40a6-8764-2ea580da6237');\n",
              "          const dataTable =\n",
              "            await google.colab.kernel.invokeFunction('convertToInteractive',\n",
              "                                                     [key], {});\n",
              "          if (!dataTable) return;\n",
              "\n",
              "          const docLinkHtml = 'Like what you see? Visit the ' +\n",
              "            '<a target=\"_blank\" href=https://colab.research.google.com/notebooks/data_table.ipynb>data table notebook</a>'\n",
              "            + ' to learn more about interactive tables.';\n",
              "          element.innerHTML = '';\n",
              "          dataTable['output_type'] = 'display_data';\n",
              "          await google.colab.output.renderOutput(dataTable, element);\n",
              "          const docLink = document.createElement('div');\n",
              "          docLink.innerHTML = docLinkHtml;\n",
              "          element.appendChild(docLink);\n",
              "        }\n",
              "      </script>\n",
              "    </div>\n",
              "  </div>\n",
              "  "
            ],
            "text/plain": [
              "      PRT_ID        AREA  INT_SQFT  ... REG_FEE  COMMIS  SALES_PRICE\n",
              "0     P03210  Karapakkam      1004  ...  380000  144400      7600000\n",
              "1     P09411  Anna Nagar      1986  ...  760122  304049     21717770\n",
              "2     P01812       Adyar       909  ...  421094   92114     13159200\n",
              "3     P05346   Velachery      1855  ...  356321   77042      9630290\n",
              "4     P06210  Karapakkam      1226  ...  237000   74063      7406250\n",
              "...      ...         ...       ...  ...     ...     ...          ...\n",
              "7104  P06508  Karapakkam       787  ...  425350  119098      8507000\n",
              "7105  P09794   Velachery      1896  ...  349177   79812      9976480\n",
              "7106  P09293     T Nagar      1973  ...  885666  116535     23307000\n",
              "7107  P09021    Chrompet      1023  ...  282319   38941      9735150\n",
              "7108  P04325    Chrompet       884  ...  283410   45346     11336400\n",
              "\n",
              "[7109 rows x 22 columns]"
            ]
          },
          "metadata": {},
          "execution_count": 85
        }
      ]
    },
    {
      "cell_type": "markdown",
      "source": [
        "# **Table Format of Column Names**"
      ],
      "metadata": {
        "id": "3KSd3sral_6T"
      }
    },
    {
      "cell_type": "markdown",
      "source": [
        "***The Below script gives us the column names available in the dataset given to us***"
      ],
      "metadata": {
        "id": "vQOvTWdppxqk"
      }
    },
    {
      "cell_type": "code",
      "source": [
        "for i in range(0,df.shape[1],1):\n",
        "  if i%2==0:\n",
        "      print(i+1,'.',df.columns[i],' (',df.dtypes[df.columns[i]],') ',end=\"-------------------\")\n",
        "  else:\n",
        "      print(i+1,'.',df.columns[i],' (',df.dtypes[df.columns[i]],') ')\n",
        "      print()"
      ],
      "metadata": {
        "colab": {
          "base_uri": "https://localhost:8080/"
        },
        "id": "NgQc2Gx_iYG7",
        "outputId": "c336ee0f-16cb-4b12-b09f-920ab58ae759"
      },
      "execution_count": 86,
      "outputs": [
        {
          "output_type": "stream",
          "name": "stdout",
          "text": [
            "1 . PRT_ID  ( object ) -------------------2 . AREA  ( object ) \n",
            "\n",
            "3 . INT_SQFT  ( int64 ) -------------------4 . DATE_SALE  ( object ) \n",
            "\n",
            "5 . DIST_MAINROAD  ( int64 ) -------------------6 . N_BEDROOM  ( float64 ) \n",
            "\n",
            "7 . N_BATHROOM  ( float64 ) -------------------8 . N_ROOM  ( int64 ) \n",
            "\n",
            "9 . SALE_COND  ( object ) -------------------10 . PARK_FACIL  ( object ) \n",
            "\n",
            "11 . DATE_BUILD  ( object ) -------------------12 . BUILDTYPE  ( object ) \n",
            "\n",
            "13 . UTILITY_AVAIL  ( object ) -------------------14 . STREET  ( object ) \n",
            "\n",
            "15 . MZZONE  ( object ) -------------------16 . QS_ROOMS  ( float64 ) \n",
            "\n",
            "17 . QS_BATHROOM  ( float64 ) -------------------18 . QS_BEDROOM  ( float64 ) \n",
            "\n",
            "19 . QS_OVERALL  ( float64 ) -------------------20 . REG_FEE  ( int64 ) \n",
            "\n",
            "21 . COMMIS  ( int64 ) -------------------22 . SALES_PRICE  ( int64 ) \n",
            "\n"
          ]
        }
      ]
    },
    {
      "cell_type": "markdown",
      "source": [
        "# **Table Format of Null Values**"
      ],
      "metadata": {
        "id": "AX_SEjyrmP77"
      }
    },
    {
      "cell_type": "markdown",
      "source": [
        "***This is a representation of Null values using the table format for easier view***"
      ],
      "metadata": {
        "id": "wZRLXd0srQAb"
      }
    },
    {
      "cell_type": "code",
      "source": [
        "l1=[]\n",
        "print('***********************************************')\n",
        "print()\n",
        "print('Name of the Column   |   Number of Null Values')\n",
        "print()\n",
        "for i in range(0,df.shape[1],1):\n",
        "  if df[df.columns[i]].isnull().sum()>0: # Taking only the null values  \n",
        "    l1.append(df.columns[i])\n",
        "    print('***********************************************')\n",
        "    print()\n",
        "    print(df.columns[i],'                    ',df[df.columns[i]].isnull().sum())\n",
        "    print()\n",
        "print('***********************************************')"
      ],
      "metadata": {
        "colab": {
          "base_uri": "https://localhost:8080/"
        },
        "id": "BexM03b7gi-z",
        "outputId": "768fa98b-1e16-4f82-f54b-91ede12e2343"
      },
      "execution_count": 87,
      "outputs": [
        {
          "output_type": "stream",
          "name": "stdout",
          "text": [
            "***********************************************\n",
            "\n",
            "Name of the Column   |   Number of Null Values\n",
            "\n",
            "***********************************************\n",
            "\n",
            "N_BEDROOM                      1\n",
            "\n",
            "***********************************************\n",
            "\n",
            "N_BATHROOM                      5\n",
            "\n",
            "***********************************************\n",
            "\n",
            "QS_OVERALL                      48\n",
            "\n",
            "***********************************************\n"
          ]
        }
      ]
    },
    {
      "cell_type": "markdown",
      "source": [
        "# **Handling of Null Values**"
      ],
      "metadata": {
        "id": "9pbN4OmRmp-j"
      }
    },
    {
      "cell_type": "markdown",
      "source": [
        "***This particular block is used to make our decision about the Null values***"
      ],
      "metadata": {
        "id": "WGBf26ekrZZ7"
      }
    },
    {
      "cell_type": "code",
      "source": [
        "for i in range(0,len(l1),1):\n",
        "  print('****************************************************************')\n",
        "  print('Name of the Column is:                             ',l1[i])\n",
        "  print('Number of Rows in',l1[i],'Column is:              ',df.shape[0])\n",
        "  print('Number of Missing values in',l1[i],'Column is:      ',df[l1[i]].isnull().sum())\n",
        "  print('Percentage of Missing values in',l1[i],'Column is: ',round((df[l1[i]].isnull().sum()/df.shape[0])*100,2))\n",
        "print('*****************************************************************')"
      ],
      "metadata": {
        "colab": {
          "base_uri": "https://localhost:8080/"
        },
        "id": "pSW0o5aKmpXj",
        "outputId": "834f232d-45af-47b1-cdb2-89e23a8bd9d7"
      },
      "execution_count": 88,
      "outputs": [
        {
          "output_type": "stream",
          "name": "stdout",
          "text": [
            "****************************************************************\n",
            "Name of the Column is:                              N_BEDROOM\n",
            "Number of Rows in N_BEDROOM Column is:               7109\n",
            "Number of Missing values in N_BEDROOM Column is:       1\n",
            "Percentage of Missing values in N_BEDROOM Column is:  0.01\n",
            "****************************************************************\n",
            "Name of the Column is:                              N_BATHROOM\n",
            "Number of Rows in N_BATHROOM Column is:               7109\n",
            "Number of Missing values in N_BATHROOM Column is:       5\n",
            "Percentage of Missing values in N_BATHROOM Column is:  0.07\n",
            "****************************************************************\n",
            "Name of the Column is:                              QS_OVERALL\n",
            "Number of Rows in QS_OVERALL Column is:               7109\n",
            "Number of Missing values in QS_OVERALL Column is:       48\n",
            "Percentage of Missing values in QS_OVERALL Column is:  0.68\n",
            "*****************************************************************\n"
          ]
        }
      ]
    },
    {
      "cell_type": "markdown",
      "source": [
        "# **Decision Execution - Null Values**"
      ],
      "metadata": {
        "id": "r8cjGcMStQ0d"
      }
    },
    {
      "cell_type": "markdown",
      "source": [
        "***1. Since there are 0.01% missing values in N_Bedroom this can be removed as we are going to loose only one row, for N_Bathroom there are 5 rows which has missing values with 0.07% missing from the rows this can also be removed. And finally QS_Overall has 0.68% missing data with 48 rows. Total of 0.74 missing values in the whole dataset and droping it will not make any difference in the dataset***\n",
        "\n",
        "**Droping the Null values**\n",
        "\n"
      ],
      "metadata": {
        "id": "ZSAj1yeBtYzj"
      }
    },
    {
      "cell_type": "code",
      "source": [
        "print('Number of Rows BEFORE droping the Null values rows: ',df.shape[0])\n",
        "a=df.shape[0]\n",
        "df=df.dropna(axis=0)\n",
        "print('Number of Rows AFTER droping the Null values rows: ',df.shape[0])\n",
        "b=df.shape[0]\n",
        "print('Percentage of removed value is: ',100-((b/a)*100))\n",
        "print('Percentage of removed value is: ',(b/a)*100)"
      ],
      "metadata": {
        "colab": {
          "base_uri": "https://localhost:8080/"
        },
        "id": "4agG8fjLu46L",
        "outputId": "0ac8efe2-382a-46e1-b6ac-73416b4310bd"
      },
      "execution_count": 89,
      "outputs": [
        {
          "output_type": "stream",
          "name": "stdout",
          "text": [
            "Number of Rows BEFORE droping the Null values rows:  7109\n",
            "Number of Rows AFTER droping the Null values rows:  7056\n",
            "Percentage of removed value is:  0.7455338303558818\n",
            "Percentage of removed value is:  99.25446616964412\n"
          ]
        }
      ]
    },
    {
      "cell_type": "markdown",
      "source": [
        "# **Decision Execution - Removing the Unwanted Column or Less information Columns**"
      ],
      "metadata": {
        "id": "QuG5yDxS_a6c"
      }
    },
    {
      "cell_type": "code",
      "source": [
        "df=df.drop(columns=['PRT_ID','SALE_COND','MZZONE','QS_ROOMS','QS_BATHROOM','QS_BEDROOM','QS_OVERALL','REG_FEE','COMMIS'],axis=1)"
      ],
      "metadata": {
        "id": "ZEqfdaY5_jwU"
      },
      "execution_count": 90,
      "outputs": []
    },
    {
      "cell_type": "markdown",
      "source": [
        "# **Information about the Cleaned Data**"
      ],
      "metadata": {
        "id": "brMaeaWNAfHE"
      }
    },
    {
      "cell_type": "code",
      "source": [
        "df.info()"
      ],
      "metadata": {
        "colab": {
          "base_uri": "https://localhost:8080/"
        },
        "id": "WtBHjmQDmabD",
        "outputId": "c90de399-a9e5-4e78-8cb6-ce14ea88617a"
      },
      "execution_count": 91,
      "outputs": [
        {
          "output_type": "stream",
          "name": "stdout",
          "text": [
            "<class 'pandas.core.frame.DataFrame'>\n",
            "Int64Index: 7056 entries, 0 to 7108\n",
            "Data columns (total 13 columns):\n",
            " #   Column         Non-Null Count  Dtype  \n",
            "---  ------         --------------  -----  \n",
            " 0   AREA           7056 non-null   object \n",
            " 1   INT_SQFT       7056 non-null   int64  \n",
            " 2   DATE_SALE      7056 non-null   object \n",
            " 3   DIST_MAINROAD  7056 non-null   int64  \n",
            " 4   N_BEDROOM      7056 non-null   float64\n",
            " 5   N_BATHROOM     7056 non-null   float64\n",
            " 6   N_ROOM         7056 non-null   int64  \n",
            " 7   PARK_FACIL     7056 non-null   object \n",
            " 8   DATE_BUILD     7056 non-null   object \n",
            " 9   BUILDTYPE      7056 non-null   object \n",
            " 10  UTILITY_AVAIL  7056 non-null   object \n",
            " 11  STREET         7056 non-null   object \n",
            " 12  SALES_PRICE    7056 non-null   int64  \n",
            "dtypes: float64(2), int64(4), object(7)\n",
            "memory usage: 771.8+ KB\n"
          ]
        }
      ]
    },
    {
      "cell_type": "markdown",
      "source": [
        "# **Description about the Cleaned Data**"
      ],
      "metadata": {
        "id": "eI8XZ0iuAlFy"
      }
    },
    {
      "cell_type": "code",
      "source": [
        "df.describe().T"
      ],
      "metadata": {
        "colab": {
          "base_uri": "https://localhost:8080/",
          "height": 238
        },
        "id": "YzQD-EA0g8dL",
        "outputId": "1ed2b893-c3a2-4710-9af8-a4d9e6743acc"
      },
      "execution_count": 92,
      "outputs": [
        {
          "output_type": "execute_result",
          "data": {
            "text/html": [
              "\n",
              "  <div id=\"df-039a2276-f4dc-4377-afd6-304e9588c034\">\n",
              "    <div class=\"colab-df-container\">\n",
              "      <div>\n",
              "<style scoped>\n",
              "    .dataframe tbody tr th:only-of-type {\n",
              "        vertical-align: middle;\n",
              "    }\n",
              "\n",
              "    .dataframe tbody tr th {\n",
              "        vertical-align: top;\n",
              "    }\n",
              "\n",
              "    .dataframe thead th {\n",
              "        text-align: right;\n",
              "    }\n",
              "</style>\n",
              "<table border=\"1\" class=\"dataframe\">\n",
              "  <thead>\n",
              "    <tr style=\"text-align: right;\">\n",
              "      <th></th>\n",
              "      <th>count</th>\n",
              "      <th>mean</th>\n",
              "      <th>std</th>\n",
              "      <th>min</th>\n",
              "      <th>25%</th>\n",
              "      <th>50%</th>\n",
              "      <th>75%</th>\n",
              "      <th>max</th>\n",
              "    </tr>\n",
              "  </thead>\n",
              "  <tbody>\n",
              "    <tr>\n",
              "      <th>INT_SQFT</th>\n",
              "      <td>7056.0</td>\n",
              "      <td>1.381317e+03</td>\n",
              "      <td>4.578609e+02</td>\n",
              "      <td>500.0</td>\n",
              "      <td>991.0</td>\n",
              "      <td>1369.5</td>\n",
              "      <td>1744.0</td>\n",
              "      <td>2500.0</td>\n",
              "    </tr>\n",
              "    <tr>\n",
              "      <th>DIST_MAINROAD</th>\n",
              "      <td>7056.0</td>\n",
              "      <td>9.956916e+01</td>\n",
              "      <td>5.740387e+01</td>\n",
              "      <td>0.0</td>\n",
              "      <td>50.0</td>\n",
              "      <td>99.0</td>\n",
              "      <td>148.0</td>\n",
              "      <td>200.0</td>\n",
              "    </tr>\n",
              "    <tr>\n",
              "      <th>N_BEDROOM</th>\n",
              "      <td>7056.0</td>\n",
              "      <td>1.636621e+00</td>\n",
              "      <td>8.036325e-01</td>\n",
              "      <td>1.0</td>\n",
              "      <td>1.0</td>\n",
              "      <td>1.0</td>\n",
              "      <td>2.0</td>\n",
              "      <td>4.0</td>\n",
              "    </tr>\n",
              "    <tr>\n",
              "      <th>N_BATHROOM</th>\n",
              "      <td>7056.0</td>\n",
              "      <td>1.213152e+00</td>\n",
              "      <td>4.095631e-01</td>\n",
              "      <td>1.0</td>\n",
              "      <td>1.0</td>\n",
              "      <td>1.0</td>\n",
              "      <td>1.0</td>\n",
              "      <td>2.0</td>\n",
              "    </tr>\n",
              "    <tr>\n",
              "      <th>N_ROOM</th>\n",
              "      <td>7056.0</td>\n",
              "      <td>3.686650e+00</td>\n",
              "      <td>1.020011e+00</td>\n",
              "      <td>2.0</td>\n",
              "      <td>3.0</td>\n",
              "      <td>4.0</td>\n",
              "      <td>4.0</td>\n",
              "      <td>6.0</td>\n",
              "    </tr>\n",
              "    <tr>\n",
              "      <th>SALES_PRICE</th>\n",
              "      <td>7056.0</td>\n",
              "      <td>1.088801e+07</td>\n",
              "      <td>3.769081e+06</td>\n",
              "      <td>2156875.0</td>\n",
              "      <td>8266790.0</td>\n",
              "      <td>10319225.0</td>\n",
              "      <td>12981477.5</td>\n",
              "      <td>23667340.0</td>\n",
              "    </tr>\n",
              "  </tbody>\n",
              "</table>\n",
              "</div>\n",
              "      <button class=\"colab-df-convert\" onclick=\"convertToInteractive('df-039a2276-f4dc-4377-afd6-304e9588c034')\"\n",
              "              title=\"Convert this dataframe to an interactive table.\"\n",
              "              style=\"display:none;\">\n",
              "        \n",
              "  <svg xmlns=\"http://www.w3.org/2000/svg\" height=\"24px\"viewBox=\"0 0 24 24\"\n",
              "       width=\"24px\">\n",
              "    <path d=\"M0 0h24v24H0V0z\" fill=\"none\"/>\n",
              "    <path d=\"M18.56 5.44l.94 2.06.94-2.06 2.06-.94-2.06-.94-.94-2.06-.94 2.06-2.06.94zm-11 1L8.5 8.5l.94-2.06 2.06-.94-2.06-.94L8.5 2.5l-.94 2.06-2.06.94zm10 10l.94 2.06.94-2.06 2.06-.94-2.06-.94-.94-2.06-.94 2.06-2.06.94z\"/><path d=\"M17.41 7.96l-1.37-1.37c-.4-.4-.92-.59-1.43-.59-.52 0-1.04.2-1.43.59L10.3 9.45l-7.72 7.72c-.78.78-.78 2.05 0 2.83L4 21.41c.39.39.9.59 1.41.59.51 0 1.02-.2 1.41-.59l7.78-7.78 2.81-2.81c.8-.78.8-2.07 0-2.86zM5.41 20L4 18.59l7.72-7.72 1.47 1.35L5.41 20z\"/>\n",
              "  </svg>\n",
              "      </button>\n",
              "      \n",
              "  <style>\n",
              "    .colab-df-container {\n",
              "      display:flex;\n",
              "      flex-wrap:wrap;\n",
              "      gap: 12px;\n",
              "    }\n",
              "\n",
              "    .colab-df-convert {\n",
              "      background-color: #E8F0FE;\n",
              "      border: none;\n",
              "      border-radius: 50%;\n",
              "      cursor: pointer;\n",
              "      display: none;\n",
              "      fill: #1967D2;\n",
              "      height: 32px;\n",
              "      padding: 0 0 0 0;\n",
              "      width: 32px;\n",
              "    }\n",
              "\n",
              "    .colab-df-convert:hover {\n",
              "      background-color: #E2EBFA;\n",
              "      box-shadow: 0px 1px 2px rgba(60, 64, 67, 0.3), 0px 1px 3px 1px rgba(60, 64, 67, 0.15);\n",
              "      fill: #174EA6;\n",
              "    }\n",
              "\n",
              "    [theme=dark] .colab-df-convert {\n",
              "      background-color: #3B4455;\n",
              "      fill: #D2E3FC;\n",
              "    }\n",
              "\n",
              "    [theme=dark] .colab-df-convert:hover {\n",
              "      background-color: #434B5C;\n",
              "      box-shadow: 0px 1px 3px 1px rgba(0, 0, 0, 0.15);\n",
              "      filter: drop-shadow(0px 1px 2px rgba(0, 0, 0, 0.3));\n",
              "      fill: #FFFFFF;\n",
              "    }\n",
              "  </style>\n",
              "\n",
              "      <script>\n",
              "        const buttonEl =\n",
              "          document.querySelector('#df-039a2276-f4dc-4377-afd6-304e9588c034 button.colab-df-convert');\n",
              "        buttonEl.style.display =\n",
              "          google.colab.kernel.accessAllowed ? 'block' : 'none';\n",
              "\n",
              "        async function convertToInteractive(key) {\n",
              "          const element = document.querySelector('#df-039a2276-f4dc-4377-afd6-304e9588c034');\n",
              "          const dataTable =\n",
              "            await google.colab.kernel.invokeFunction('convertToInteractive',\n",
              "                                                     [key], {});\n",
              "          if (!dataTable) return;\n",
              "\n",
              "          const docLinkHtml = 'Like what you see? Visit the ' +\n",
              "            '<a target=\"_blank\" href=https://colab.research.google.com/notebooks/data_table.ipynb>data table notebook</a>'\n",
              "            + ' to learn more about interactive tables.';\n",
              "          element.innerHTML = '';\n",
              "          dataTable['output_type'] = 'display_data';\n",
              "          await google.colab.output.renderOutput(dataTable, element);\n",
              "          const docLink = document.createElement('div');\n",
              "          docLink.innerHTML = docLinkHtml;\n",
              "          element.appendChild(docLink);\n",
              "        }\n",
              "      </script>\n",
              "    </div>\n",
              "  </div>\n",
              "  "
            ],
            "text/plain": [
              "                count          mean  ...         75%         max\n",
              "INT_SQFT       7056.0  1.381317e+03  ...      1744.0      2500.0\n",
              "DIST_MAINROAD  7056.0  9.956916e+01  ...       148.0       200.0\n",
              "N_BEDROOM      7056.0  1.636621e+00  ...         2.0         4.0\n",
              "N_BATHROOM     7056.0  1.213152e+00  ...         1.0         2.0\n",
              "N_ROOM         7056.0  3.686650e+00  ...         4.0         6.0\n",
              "SALES_PRICE    7056.0  1.088801e+07  ...  12981477.5  23667340.0\n",
              "\n",
              "[6 rows x 8 columns]"
            ]
          },
          "metadata": {},
          "execution_count": 92
        }
      ]
    },
    {
      "cell_type": "markdown",
      "source": [
        "# **Preview of the Cleaned Data**"
      ],
      "metadata": {
        "id": "4IZ-b_13A6zi"
      }
    },
    {
      "cell_type": "code",
      "source": [
        "df.head()"
      ],
      "metadata": {
        "colab": {
          "base_uri": "https://localhost:8080/",
          "height": 206
        },
        "id": "t3lQHBOmmaYT",
        "outputId": "5197f241-2242-454d-b95e-3242bdc6f0a3"
      },
      "execution_count": 93,
      "outputs": [
        {
          "output_type": "execute_result",
          "data": {
            "text/html": [
              "\n",
              "  <div id=\"df-1003be87-dd0d-438c-aba4-aa4f7d7fad51\">\n",
              "    <div class=\"colab-df-container\">\n",
              "      <div>\n",
              "<style scoped>\n",
              "    .dataframe tbody tr th:only-of-type {\n",
              "        vertical-align: middle;\n",
              "    }\n",
              "\n",
              "    .dataframe tbody tr th {\n",
              "        vertical-align: top;\n",
              "    }\n",
              "\n",
              "    .dataframe thead th {\n",
              "        text-align: right;\n",
              "    }\n",
              "</style>\n",
              "<table border=\"1\" class=\"dataframe\">\n",
              "  <thead>\n",
              "    <tr style=\"text-align: right;\">\n",
              "      <th></th>\n",
              "      <th>AREA</th>\n",
              "      <th>INT_SQFT</th>\n",
              "      <th>DATE_SALE</th>\n",
              "      <th>DIST_MAINROAD</th>\n",
              "      <th>N_BEDROOM</th>\n",
              "      <th>N_BATHROOM</th>\n",
              "      <th>N_ROOM</th>\n",
              "      <th>PARK_FACIL</th>\n",
              "      <th>DATE_BUILD</th>\n",
              "      <th>BUILDTYPE</th>\n",
              "      <th>UTILITY_AVAIL</th>\n",
              "      <th>STREET</th>\n",
              "      <th>SALES_PRICE</th>\n",
              "    </tr>\n",
              "  </thead>\n",
              "  <tbody>\n",
              "    <tr>\n",
              "      <th>0</th>\n",
              "      <td>Karapakkam</td>\n",
              "      <td>1004</td>\n",
              "      <td>04-05-2011</td>\n",
              "      <td>131</td>\n",
              "      <td>1.0</td>\n",
              "      <td>1.0</td>\n",
              "      <td>3</td>\n",
              "      <td>Yes</td>\n",
              "      <td>15-05-1967</td>\n",
              "      <td>Commercial</td>\n",
              "      <td>AllPub</td>\n",
              "      <td>Paved</td>\n",
              "      <td>7600000</td>\n",
              "    </tr>\n",
              "    <tr>\n",
              "      <th>1</th>\n",
              "      <td>Anna Nagar</td>\n",
              "      <td>1986</td>\n",
              "      <td>19-12-2006</td>\n",
              "      <td>26</td>\n",
              "      <td>2.0</td>\n",
              "      <td>1.0</td>\n",
              "      <td>5</td>\n",
              "      <td>No</td>\n",
              "      <td>22-12-1995</td>\n",
              "      <td>Commercial</td>\n",
              "      <td>AllPub</td>\n",
              "      <td>Gravel</td>\n",
              "      <td>21717770</td>\n",
              "    </tr>\n",
              "    <tr>\n",
              "      <th>2</th>\n",
              "      <td>Adyar</td>\n",
              "      <td>909</td>\n",
              "      <td>04-02-2012</td>\n",
              "      <td>70</td>\n",
              "      <td>1.0</td>\n",
              "      <td>1.0</td>\n",
              "      <td>3</td>\n",
              "      <td>Yes</td>\n",
              "      <td>09-02-1992</td>\n",
              "      <td>Commercial</td>\n",
              "      <td>ELO</td>\n",
              "      <td>Gravel</td>\n",
              "      <td>13159200</td>\n",
              "    </tr>\n",
              "    <tr>\n",
              "      <th>3</th>\n",
              "      <td>Velachery</td>\n",
              "      <td>1855</td>\n",
              "      <td>13-03-2010</td>\n",
              "      <td>14</td>\n",
              "      <td>3.0</td>\n",
              "      <td>2.0</td>\n",
              "      <td>5</td>\n",
              "      <td>No</td>\n",
              "      <td>18-03-1988</td>\n",
              "      <td>Others</td>\n",
              "      <td>NoSewr</td>\n",
              "      <td>Paved</td>\n",
              "      <td>9630290</td>\n",
              "    </tr>\n",
              "    <tr>\n",
              "      <th>4</th>\n",
              "      <td>Karapakkam</td>\n",
              "      <td>1226</td>\n",
              "      <td>05-10-2009</td>\n",
              "      <td>84</td>\n",
              "      <td>1.0</td>\n",
              "      <td>1.0</td>\n",
              "      <td>3</td>\n",
              "      <td>Yes</td>\n",
              "      <td>13-10-1979</td>\n",
              "      <td>Others</td>\n",
              "      <td>AllPub</td>\n",
              "      <td>Gravel</td>\n",
              "      <td>7406250</td>\n",
              "    </tr>\n",
              "  </tbody>\n",
              "</table>\n",
              "</div>\n",
              "      <button class=\"colab-df-convert\" onclick=\"convertToInteractive('df-1003be87-dd0d-438c-aba4-aa4f7d7fad51')\"\n",
              "              title=\"Convert this dataframe to an interactive table.\"\n",
              "              style=\"display:none;\">\n",
              "        \n",
              "  <svg xmlns=\"http://www.w3.org/2000/svg\" height=\"24px\"viewBox=\"0 0 24 24\"\n",
              "       width=\"24px\">\n",
              "    <path d=\"M0 0h24v24H0V0z\" fill=\"none\"/>\n",
              "    <path d=\"M18.56 5.44l.94 2.06.94-2.06 2.06-.94-2.06-.94-.94-2.06-.94 2.06-2.06.94zm-11 1L8.5 8.5l.94-2.06 2.06-.94-2.06-.94L8.5 2.5l-.94 2.06-2.06.94zm10 10l.94 2.06.94-2.06 2.06-.94-2.06-.94-.94-2.06-.94 2.06-2.06.94z\"/><path d=\"M17.41 7.96l-1.37-1.37c-.4-.4-.92-.59-1.43-.59-.52 0-1.04.2-1.43.59L10.3 9.45l-7.72 7.72c-.78.78-.78 2.05 0 2.83L4 21.41c.39.39.9.59 1.41.59.51 0 1.02-.2 1.41-.59l7.78-7.78 2.81-2.81c.8-.78.8-2.07 0-2.86zM5.41 20L4 18.59l7.72-7.72 1.47 1.35L5.41 20z\"/>\n",
              "  </svg>\n",
              "      </button>\n",
              "      \n",
              "  <style>\n",
              "    .colab-df-container {\n",
              "      display:flex;\n",
              "      flex-wrap:wrap;\n",
              "      gap: 12px;\n",
              "    }\n",
              "\n",
              "    .colab-df-convert {\n",
              "      background-color: #E8F0FE;\n",
              "      border: none;\n",
              "      border-radius: 50%;\n",
              "      cursor: pointer;\n",
              "      display: none;\n",
              "      fill: #1967D2;\n",
              "      height: 32px;\n",
              "      padding: 0 0 0 0;\n",
              "      width: 32px;\n",
              "    }\n",
              "\n",
              "    .colab-df-convert:hover {\n",
              "      background-color: #E2EBFA;\n",
              "      box-shadow: 0px 1px 2px rgba(60, 64, 67, 0.3), 0px 1px 3px 1px rgba(60, 64, 67, 0.15);\n",
              "      fill: #174EA6;\n",
              "    }\n",
              "\n",
              "    [theme=dark] .colab-df-convert {\n",
              "      background-color: #3B4455;\n",
              "      fill: #D2E3FC;\n",
              "    }\n",
              "\n",
              "    [theme=dark] .colab-df-convert:hover {\n",
              "      background-color: #434B5C;\n",
              "      box-shadow: 0px 1px 3px 1px rgba(0, 0, 0, 0.15);\n",
              "      filter: drop-shadow(0px 1px 2px rgba(0, 0, 0, 0.3));\n",
              "      fill: #FFFFFF;\n",
              "    }\n",
              "  </style>\n",
              "\n",
              "      <script>\n",
              "        const buttonEl =\n",
              "          document.querySelector('#df-1003be87-dd0d-438c-aba4-aa4f7d7fad51 button.colab-df-convert');\n",
              "        buttonEl.style.display =\n",
              "          google.colab.kernel.accessAllowed ? 'block' : 'none';\n",
              "\n",
              "        async function convertToInteractive(key) {\n",
              "          const element = document.querySelector('#df-1003be87-dd0d-438c-aba4-aa4f7d7fad51');\n",
              "          const dataTable =\n",
              "            await google.colab.kernel.invokeFunction('convertToInteractive',\n",
              "                                                     [key], {});\n",
              "          if (!dataTable) return;\n",
              "\n",
              "          const docLinkHtml = 'Like what you see? Visit the ' +\n",
              "            '<a target=\"_blank\" href=https://colab.research.google.com/notebooks/data_table.ipynb>data table notebook</a>'\n",
              "            + ' to learn more about interactive tables.';\n",
              "          element.innerHTML = '';\n",
              "          dataTable['output_type'] = 'display_data';\n",
              "          await google.colab.output.renderOutput(dataTable, element);\n",
              "          const docLink = document.createElement('div');\n",
              "          docLink.innerHTML = docLinkHtml;\n",
              "          element.appendChild(docLink);\n",
              "        }\n",
              "      </script>\n",
              "    </div>\n",
              "  </div>\n",
              "  "
            ],
            "text/plain": [
              "         AREA  INT_SQFT   DATE_SALE  ...  UTILITY_AVAIL  STREET  SALES_PRICE\n",
              "0  Karapakkam      1004  04-05-2011  ...         AllPub   Paved      7600000\n",
              "1  Anna Nagar      1986  19-12-2006  ...         AllPub  Gravel     21717770\n",
              "2       Adyar       909  04-02-2012  ...            ELO  Gravel     13159200\n",
              "3   Velachery      1855  13-03-2010  ...        NoSewr    Paved      9630290\n",
              "4  Karapakkam      1226  05-10-2009  ...         AllPub  Gravel      7406250\n",
              "\n",
              "[5 rows x 13 columns]"
            ]
          },
          "metadata": {},
          "execution_count": 93
        }
      ]
    },
    {
      "cell_type": "markdown",
      "source": [
        "#**Area Analysis**"
      ],
      "metadata": {
        "id": "RpzNUjd8BEZj"
      }
    },
    {
      "cell_type": "code",
      "source": [
        "l2=list(df['AREA'].unique())\n",
        "print('***********************************************************************')\n",
        "for i in range(0,len(l2),1):\n",
        "  print()\n",
        "  print(l2[i],'------->',df[df['AREA']==l2[i]].shape)\n",
        "  print('Number of properties in the dataset with ',l2[i],'as Area is: ',df[df['AREA']==l2[i]].shape[0])\n",
        "  print()\n",
        "  print('***********************************************************************')\n"
      ],
      "metadata": {
        "colab": {
          "base_uri": "https://localhost:8080/"
        },
        "id": "6-WNuvO6BPpK",
        "outputId": "d37420ac-d16d-46e9-c9e0-72d5232241f2"
      },
      "execution_count": 94,
      "outputs": [
        {
          "output_type": "stream",
          "name": "stdout",
          "text": [
            "***********************************************************************\n",
            "\n",
            "Karapakkam -------> (1356, 13)\n",
            "Number of properties in the dataset with  Karapakkam as Area is:  1356\n",
            "\n",
            "***********************************************************************\n",
            "\n",
            "Anna Nagar -------> (772, 13)\n",
            "Number of properties in the dataset with  Anna Nagar as Area is:  772\n",
            "\n",
            "***********************************************************************\n",
            "\n",
            "Adyar -------> (768, 13)\n",
            "Number of properties in the dataset with  Adyar as Area is:  768\n",
            "\n",
            "***********************************************************************\n",
            "\n",
            "Velachery -------> (973, 13)\n",
            "Number of properties in the dataset with  Velachery as Area is:  973\n",
            "\n",
            "***********************************************************************\n",
            "\n",
            "Chrompet -------> (1671, 13)\n",
            "Number of properties in the dataset with  Chrompet as Area is:  1671\n",
            "\n",
            "***********************************************************************\n",
            "\n",
            "KK Nagar -------> (989, 13)\n",
            "Number of properties in the dataset with  KK Nagar as Area is:  989\n",
            "\n",
            "***********************************************************************\n",
            "\n",
            "TNagar -------> (5, 13)\n",
            "Number of properties in the dataset with  TNagar as Area is:  5\n",
            "\n",
            "***********************************************************************\n",
            "\n",
            "T Nagar -------> (490, 13)\n",
            "Number of properties in the dataset with  T Nagar as Area is:  490\n",
            "\n",
            "***********************************************************************\n",
            "\n",
            "Chrompt -------> (9, 13)\n",
            "Number of properties in the dataset with  Chrompt as Area is:  9\n",
            "\n",
            "***********************************************************************\n",
            "\n",
            "Chrmpet -------> (6, 13)\n",
            "Number of properties in the dataset with  Chrmpet as Area is:  6\n",
            "\n",
            "***********************************************************************\n",
            "\n",
            "Karapakam -------> (3, 13)\n",
            "Number of properties in the dataset with  Karapakam as Area is:  3\n",
            "\n",
            "***********************************************************************\n",
            "\n",
            "Ana Nagar -------> (3, 13)\n",
            "Number of properties in the dataset with  Ana Nagar as Area is:  3\n",
            "\n",
            "***********************************************************************\n",
            "\n",
            "Chormpet -------> (5, 13)\n",
            "Number of properties in the dataset with  Chormpet as Area is:  5\n",
            "\n",
            "***********************************************************************\n",
            "\n",
            "Adyr -------> (1, 13)\n",
            "Number of properties in the dataset with  Adyr as Area is:  1\n",
            "\n",
            "***********************************************************************\n",
            "\n",
            "Velchery -------> (2, 13)\n",
            "Number of properties in the dataset with  Velchery as Area is:  2\n",
            "\n",
            "***********************************************************************\n",
            "\n",
            "Ann Nagar -------> (2, 13)\n",
            "Number of properties in the dataset with  Ann Nagar as Area is:  2\n",
            "\n",
            "***********************************************************************\n",
            "\n",
            "KKNagar -------> (1, 13)\n",
            "Number of properties in the dataset with  KKNagar as Area is:  1\n",
            "\n",
            "***********************************************************************\n"
          ]
        }
      ]
    },
    {
      "cell_type": "markdown",
      "source": [
        "#**INT_SQFT Analysis**"
      ],
      "metadata": {
        "id": "ZORL1jC9BKk1"
      }
    },
    {
      "cell_type": "code",
      "source": [
        "l3=[]\n",
        "for i in range(0,len(l2),1):\n",
        "  print()\n",
        "  print(l2[i],'------> Minimum Int_SquareFeet value is: ',df[df['AREA']==l2[i]]['INT_SQFT'].min(),end=\" **** \")\n",
        "  \n",
        "  print('Maximum Int_SquareFeet value is: ',df[df['AREA']==l2[i]]['INT_SQFT'].max(),end=\" **** \")\n",
        "  \n",
        "  print('Average Int_SquareFeet value is: ',df[df['AREA']==l2[i]]['INT_SQFT'].mean())\n",
        "  print()\n",
        "  print('***********************************************************************************************************************************************************************')\n",
        " "
      ],
      "metadata": {
        "colab": {
          "base_uri": "https://localhost:8080/"
        },
        "id": "rTo8EDrL0x06",
        "outputId": "af36d078-ada3-4b76-af1e-a6651f1a9f0e"
      },
      "execution_count": 95,
      "outputs": [
        {
          "output_type": "stream",
          "name": "stdout",
          "text": [
            "\n",
            "Karapakkam ------> Minimum Int_SquareFeet value is:  500 **** Maximum Int_SquareFeet value is:  1699 **** Average Int_SquareFeet value is:  1103.4638643067847\n",
            "\n",
            "***********************************************************************************************************************************************************************\n",
            "\n",
            "Anna Nagar ------> Minimum Int_SquareFeet value is:  1501 **** Maximum Int_SquareFeet value is:  2000 **** Average Int_SquareFeet value is:  1752.0608808290156\n",
            "\n",
            "***********************************************************************************************************************************************************************\n",
            "\n",
            "Adyar ------> Minimum Int_SquareFeet value is:  600 **** Maximum Int_SquareFeet value is:  1300 **** Average Int_SquareFeet value is:  957.5377604166666\n",
            "\n",
            "***********************************************************************************************************************************************************************\n",
            "\n",
            "Velachery ------> Minimum Int_SquareFeet value is:  1500 **** Maximum Int_SquareFeet value is:  2000 **** Average Int_SquareFeet value is:  1741.1120246659816\n",
            "\n",
            "***********************************************************************************************************************************************************************\n",
            "\n",
            "Chrompet ------> Minimum Int_SquareFeet value is:  700 **** Maximum Int_SquareFeet value is:  1300 **** Average Int_SquareFeet value is:  1002.7193297426691\n",
            "\n",
            "***********************************************************************************************************************************************************************\n",
            "\n",
            "KK Nagar ------> Minimum Int_SquareFeet value is:  1300 **** Maximum Int_SquareFeet value is:  2500 **** Average Int_SquareFeet value is:  1904.546006066734\n",
            "\n",
            "***********************************************************************************************************************************************************************\n",
            "\n",
            "TNagar ------> Minimum Int_SquareFeet value is:  1504 **** Maximum Int_SquareFeet value is:  1972 **** Average Int_SquareFeet value is:  1742.2\n",
            "\n",
            "***********************************************************************************************************************************************************************\n",
            "\n",
            "T Nagar ------> Minimum Int_SquareFeet value is:  1502 **** Maximum Int_SquareFeet value is:  2000 **** Average Int_SquareFeet value is:  1760.1836734693877\n",
            "\n",
            "***********************************************************************************************************************************************************************\n",
            "\n",
            "Chrompt ------> Minimum Int_SquareFeet value is:  741 **** Maximum Int_SquareFeet value is:  1294 **** Average Int_SquareFeet value is:  997.2222222222222\n",
            "\n",
            "***********************************************************************************************************************************************************************\n",
            "\n",
            "Chrmpet ------> Minimum Int_SquareFeet value is:  806 **** Maximum Int_SquareFeet value is:  1277 **** Average Int_SquareFeet value is:  929.8333333333334\n",
            "\n",
            "***********************************************************************************************************************************************************************\n",
            "\n",
            "Karapakam ------> Minimum Int_SquareFeet value is:  520 **** Maximum Int_SquareFeet value is:  1387 **** Average Int_SquareFeet value is:  840.6666666666666\n",
            "\n",
            "***********************************************************************************************************************************************************************\n",
            "\n",
            "Ana Nagar ------> Minimum Int_SquareFeet value is:  1894 **** Maximum Int_SquareFeet value is:  1914 **** Average Int_SquareFeet value is:  1904.6666666666667\n",
            "\n",
            "***********************************************************************************************************************************************************************\n",
            "\n",
            "Chormpet ------> Minimum Int_SquareFeet value is:  835 **** Maximum Int_SquareFeet value is:  1296 **** Average Int_SquareFeet value is:  1119.6\n",
            "\n",
            "***********************************************************************************************************************************************************************\n",
            "\n",
            "Adyr ------> Minimum Int_SquareFeet value is:  784 **** Maximum Int_SquareFeet value is:  784 **** Average Int_SquareFeet value is:  784.0\n",
            "\n",
            "***********************************************************************************************************************************************************************\n",
            "\n",
            "Velchery ------> Minimum Int_SquareFeet value is:  1696 **** Maximum Int_SquareFeet value is:  1933 **** Average Int_SquareFeet value is:  1814.5\n",
            "\n",
            "***********************************************************************************************************************************************************************\n",
            "\n",
            "Ann Nagar ------> Minimum Int_SquareFeet value is:  1704 **** Maximum Int_SquareFeet value is:  1825 **** Average Int_SquareFeet value is:  1764.5\n",
            "\n",
            "***********************************************************************************************************************************************************************\n",
            "\n",
            "KKNagar ------> Minimum Int_SquareFeet value is:  1521 **** Maximum Int_SquareFeet value is:  1521 **** Average Int_SquareFeet value is:  1521.0\n",
            "\n",
            "***********************************************************************************************************************************************************************\n"
          ]
        }
      ]
    },
    {
      "cell_type": "markdown",
      "source": [
        "#**DATE_SALE Analysis**"
      ],
      "metadata": {
        "id": "t-0059qCBLTy"
      }
    },
    {
      "cell_type": "markdown",
      "source": [
        "#**DIST_MAINROAD Analysis**"
      ],
      "metadata": {
        "id": "uA3DjoLGBMLj"
      }
    },
    {
      "cell_type": "markdown",
      "source": [
        "#**Area Analysis**"
      ],
      "metadata": {
        "id": "wEzP2Pi-BM2T"
      }
    },
    {
      "cell_type": "markdown",
      "source": [
        "#**Area Analysis**"
      ],
      "metadata": {
        "id": "FQG88V7gBNfz"
      }
    },
    {
      "cell_type": "code",
      "source": [
        ""
      ],
      "metadata": {
        "id": "mpvvFJMzmaVU"
      },
      "execution_count": 95,
      "outputs": []
    },
    {
      "cell_type": "code",
      "source": [
        ""
      ],
      "metadata": {
        "id": "kkxcRbMmmaOm"
      },
      "execution_count": 95,
      "outputs": []
    },
    {
      "cell_type": "code",
      "source": [
        ""
      ],
      "metadata": {
        "id": "5T17go_4maLr"
      },
      "execution_count": 95,
      "outputs": []
    },
    {
      "cell_type": "code",
      "source": [
        ""
      ],
      "metadata": {
        "id": "KEe8f84JmaI8"
      },
      "execution_count": 95,
      "outputs": []
    },
    {
      "cell_type": "code",
      "source": [
        ""
      ],
      "metadata": {
        "id": "trYmAdBemaGb"
      },
      "execution_count": 95,
      "outputs": []
    },
    {
      "cell_type": "code",
      "source": [
        ""
      ],
      "metadata": {
        "id": "MK8eEx1WmaDx"
      },
      "execution_count": 95,
      "outputs": []
    },
    {
      "cell_type": "code",
      "source": [
        ""
      ],
      "metadata": {
        "id": "gO9HJRPZmaA4"
      },
      "execution_count": 95,
      "outputs": []
    },
    {
      "cell_type": "code",
      "source": [
        ""
      ],
      "metadata": {
        "id": "pgG95rA6mZ-A"
      },
      "execution_count": 95,
      "outputs": []
    },
    {
      "cell_type": "code",
      "source": [
        ""
      ],
      "metadata": {
        "id": "alUvfHuHmZ8T"
      },
      "execution_count": 95,
      "outputs": []
    },
    {
      "cell_type": "markdown",
      "source": [
        "# Variables Used\n",
        "1. "
      ],
      "metadata": {
        "id": "dQgLZigKDv87"
      }
    },
    {
      "cell_type": "markdown",
      "source": [
        "![Thankyousomuch.jpg](data:image/jpeg;base64,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)"
      ],
      "metadata": {
        "id": "QQkW6Z33p69r"
      }
    }
  ]
}