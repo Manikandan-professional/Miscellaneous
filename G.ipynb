{
  "nbformat": 4,
  "nbformat_minor": 0,
  "metadata": {
    "colab": {
      "name": "G.ipynb",
      "provenance": [],
      "collapsed_sections": [],
      "authorship_tag": "ABX9TyORqMi5dT9cQymCho0esYRY",
      "include_colab_link": true
    },
    "kernelspec": {
      "name": "python3",
      "display_name": "Python 3"
    },
    "language_info": {
      "name": "python"
    }
  },
  "cells": [
    {
      "cell_type": "markdown",
      "metadata": {
        "id": "view-in-github",
        "colab_type": "text"
      },
      "source": [
        "<a href=\"https://colab.research.google.com/github/Manikandan-professional/Miscellaneous/blob/main/G.ipynb\" target=\"_parent\"><img src=\"https://colab.research.google.com/assets/colab-badge.svg\" alt=\"Open In Colab\"/></a>"
      ]
    },
    {
      "cell_type": "markdown",
      "source": [
        "**Problem Statement**\n",
        "\n",
        "(1) Real estate transactions are quite opaque sometimes and it may be difficult for a newbie to know the fair price of any given home. \n",
        "\n",
        "(2) Thus, multiple real estate websites have the functionality to predict the prices of houses given different features regarding it. \n",
        "\n",
        "(3) Such forecasting models will help buyers to identify a fair price for the home and also give insights to sellers as to how to build homes that fetch them more money. \n",
        "\n",
        "(4) Chennai house sale price data is shared here and the participants are expected to build a sale price prediction model that will aid the customers to find a fair price for their homes and also help the sellers understand **what factors are fetching more money for the houses?**\n",
        "\n",
        "**Given Data**\n",
        "\n",
        "(1) The historical sale data is available here. The features of the house and the sale price are given in two different datasets - participants must merge them to do further analysis.\n",
        "\n",
        "**Minimum Requirements**\n",
        "\n",
        "(1) **It is not sufficient to just fit a model - the model must be analysed to find the important factors that contribute towards the price.**\n",
        "\n",
        "(2) Also, it will be better to give a forecast range (range of permissible values) rather than a single estimate as it will help the customers to negotiate.\n"
      ],
      "metadata": {
        "id": "zTwpnI-7hoB8"
      }
    },
    {
      "cell_type": "markdown",
      "source": [
        "# **1. Importing the Necessary packages required**"
      ],
      "metadata": {
        "id": "_pyTtfYBbH68"
      }
    },
    {
      "cell_type": "code",
      "execution_count": 88,
      "metadata": {
        "id": "lsjc_AU9UQ__"
      },
      "outputs": [],
      "source": [
        "import pandas as pd #To Handle DataFrames\n",
        "import numpy as np  #To Handle calculation with array\n",
        "from datetime import date #To Handle Date\n",
        "from sklearn.model_selection import train_test_split #To Split the train and test for training\n",
        "from sklearn import metrics\n",
        "from sklearn.linear_model import LinearRegression\n",
        "from sklearn.linear_model import LogisticRegression\n",
        "from sklearn.preprocessing import LabelEncoder\n",
        "from sklearn.neighbors import KNeighborsClassifier\n",
        "from sklearn.preprocessing import MinMaxScaler\n",
        "from sklearn.preprocessing import StandardScaler\n",
        "import matplotlib.pyplot as plt\n",
        "import seaborn as sns"
      ]
    },
    {
      "cell_type": "markdown",
      "source": [
        "# **2. Excel to DataFrame Conversion**"
      ],
      "metadata": {
        "id": "tOLlP7LOmAri"
      }
    },
    {
      "cell_type": "code",
      "source": [
        "link_Dataset='https://raw.githubusercontent.com/Manikandan-professional/Miscellaneous/main/train.csv'\n",
        "link_Dataset_csv=pd.read_csv(link_Dataset)\n",
        "df=pd.DataFrame(link_Dataset_csv)\n",
        "df"
      ],
      "metadata": {
        "colab": {
          "base_uri": "https://localhost:8080/",
          "height": 661
        },
        "id": "M3xYc9Yub9ED",
        "outputId": "3c873ea8-739b-47a5-ce37-0a185cf41254"
      },
      "execution_count": 89,
      "outputs": [
        {
          "output_type": "execute_result",
          "data": {
            "text/html": [
              "\n",
              "  <div id=\"df-d7322ff2-4a42-40f6-b9f0-4fcd0827ddd0\">\n",
              "    <div class=\"colab-df-container\">\n",
              "      <div>\n",
              "<style scoped>\n",
              "    .dataframe tbody tr th:only-of-type {\n",
              "        vertical-align: middle;\n",
              "    }\n",
              "\n",
              "    .dataframe tbody tr th {\n",
              "        vertical-align: top;\n",
              "    }\n",
              "\n",
              "    .dataframe thead th {\n",
              "        text-align: right;\n",
              "    }\n",
              "</style>\n",
              "<table border=\"1\" class=\"dataframe\">\n",
              "  <thead>\n",
              "    <tr style=\"text-align: right;\">\n",
              "      <th></th>\n",
              "      <th>PRT_ID</th>\n",
              "      <th>AREA</th>\n",
              "      <th>INT_SQFT</th>\n",
              "      <th>DATE_SALE</th>\n",
              "      <th>DIST_MAINROAD</th>\n",
              "      <th>N_BEDROOM</th>\n",
              "      <th>N_BATHROOM</th>\n",
              "      <th>N_ROOM</th>\n",
              "      <th>SALE_COND</th>\n",
              "      <th>PARK_FACIL</th>\n",
              "      <th>DATE_BUILD</th>\n",
              "      <th>BUILDTYPE</th>\n",
              "      <th>UTILITY_AVAIL</th>\n",
              "      <th>STREET</th>\n",
              "      <th>MZZONE</th>\n",
              "      <th>QS_ROOMS</th>\n",
              "      <th>QS_BATHROOM</th>\n",
              "      <th>QS_BEDROOM</th>\n",
              "      <th>QS_OVERALL</th>\n",
              "      <th>REG_FEE</th>\n",
              "      <th>COMMIS</th>\n",
              "      <th>SALES_PRICE</th>\n",
              "    </tr>\n",
              "  </thead>\n",
              "  <tbody>\n",
              "    <tr>\n",
              "      <th>0</th>\n",
              "      <td>P03210</td>\n",
              "      <td>Karapakkam</td>\n",
              "      <td>1004</td>\n",
              "      <td>04-05-2011</td>\n",
              "      <td>131</td>\n",
              "      <td>1.0</td>\n",
              "      <td>1.0</td>\n",
              "      <td>3</td>\n",
              "      <td>AbNormal</td>\n",
              "      <td>Yes</td>\n",
              "      <td>15-05-1967</td>\n",
              "      <td>Commercial</td>\n",
              "      <td>AllPub</td>\n",
              "      <td>Paved</td>\n",
              "      <td>A</td>\n",
              "      <td>4.0</td>\n",
              "      <td>3.9</td>\n",
              "      <td>4.9</td>\n",
              "      <td>4.330</td>\n",
              "      <td>380000</td>\n",
              "      <td>144400</td>\n",
              "      <td>7600000</td>\n",
              "    </tr>\n",
              "    <tr>\n",
              "      <th>1</th>\n",
              "      <td>P09411</td>\n",
              "      <td>Anna Nagar</td>\n",
              "      <td>1986</td>\n",
              "      <td>19-12-2006</td>\n",
              "      <td>26</td>\n",
              "      <td>2.0</td>\n",
              "      <td>1.0</td>\n",
              "      <td>5</td>\n",
              "      <td>AbNormal</td>\n",
              "      <td>No</td>\n",
              "      <td>22-12-1995</td>\n",
              "      <td>Commercial</td>\n",
              "      <td>AllPub</td>\n",
              "      <td>Gravel</td>\n",
              "      <td>RH</td>\n",
              "      <td>4.9</td>\n",
              "      <td>4.2</td>\n",
              "      <td>2.5</td>\n",
              "      <td>3.765</td>\n",
              "      <td>760122</td>\n",
              "      <td>304049</td>\n",
              "      <td>21717770</td>\n",
              "    </tr>\n",
              "    <tr>\n",
              "      <th>2</th>\n",
              "      <td>P01812</td>\n",
              "      <td>Adyar</td>\n",
              "      <td>909</td>\n",
              "      <td>04-02-2012</td>\n",
              "      <td>70</td>\n",
              "      <td>1.0</td>\n",
              "      <td>1.0</td>\n",
              "      <td>3</td>\n",
              "      <td>AbNormal</td>\n",
              "      <td>Yes</td>\n",
              "      <td>09-02-1992</td>\n",
              "      <td>Commercial</td>\n",
              "      <td>ELO</td>\n",
              "      <td>Gravel</td>\n",
              "      <td>RL</td>\n",
              "      <td>4.1</td>\n",
              "      <td>3.8</td>\n",
              "      <td>2.2</td>\n",
              "      <td>3.090</td>\n",
              "      <td>421094</td>\n",
              "      <td>92114</td>\n",
              "      <td>13159200</td>\n",
              "    </tr>\n",
              "    <tr>\n",
              "      <th>3</th>\n",
              "      <td>P05346</td>\n",
              "      <td>Velachery</td>\n",
              "      <td>1855</td>\n",
              "      <td>13-03-2010</td>\n",
              "      <td>14</td>\n",
              "      <td>3.0</td>\n",
              "      <td>2.0</td>\n",
              "      <td>5</td>\n",
              "      <td>Family</td>\n",
              "      <td>No</td>\n",
              "      <td>18-03-1988</td>\n",
              "      <td>Others</td>\n",
              "      <td>NoSewr</td>\n",
              "      <td>Paved</td>\n",
              "      <td>I</td>\n",
              "      <td>4.7</td>\n",
              "      <td>3.9</td>\n",
              "      <td>3.6</td>\n",
              "      <td>4.010</td>\n",
              "      <td>356321</td>\n",
              "      <td>77042</td>\n",
              "      <td>9630290</td>\n",
              "    </tr>\n",
              "    <tr>\n",
              "      <th>4</th>\n",
              "      <td>P06210</td>\n",
              "      <td>Karapakkam</td>\n",
              "      <td>1226</td>\n",
              "      <td>05-10-2009</td>\n",
              "      <td>84</td>\n",
              "      <td>1.0</td>\n",
              "      <td>1.0</td>\n",
              "      <td>3</td>\n",
              "      <td>AbNormal</td>\n",
              "      <td>Yes</td>\n",
              "      <td>13-10-1979</td>\n",
              "      <td>Others</td>\n",
              "      <td>AllPub</td>\n",
              "      <td>Gravel</td>\n",
              "      <td>C</td>\n",
              "      <td>3.0</td>\n",
              "      <td>2.5</td>\n",
              "      <td>4.1</td>\n",
              "      <td>3.290</td>\n",
              "      <td>237000</td>\n",
              "      <td>74063</td>\n",
              "      <td>7406250</td>\n",
              "    </tr>\n",
              "    <tr>\n",
              "      <th>...</th>\n",
              "      <td>...</td>\n",
              "      <td>...</td>\n",
              "      <td>...</td>\n",
              "      <td>...</td>\n",
              "      <td>...</td>\n",
              "      <td>...</td>\n",
              "      <td>...</td>\n",
              "      <td>...</td>\n",
              "      <td>...</td>\n",
              "      <td>...</td>\n",
              "      <td>...</td>\n",
              "      <td>...</td>\n",
              "      <td>...</td>\n",
              "      <td>...</td>\n",
              "      <td>...</td>\n",
              "      <td>...</td>\n",
              "      <td>...</td>\n",
              "      <td>...</td>\n",
              "      <td>...</td>\n",
              "      <td>...</td>\n",
              "      <td>...</td>\n",
              "      <td>...</td>\n",
              "    </tr>\n",
              "    <tr>\n",
              "      <th>7104</th>\n",
              "      <td>P06508</td>\n",
              "      <td>Karapakkam</td>\n",
              "      <td>787</td>\n",
              "      <td>03-08-2009</td>\n",
              "      <td>40</td>\n",
              "      <td>1.0</td>\n",
              "      <td>1.0</td>\n",
              "      <td>2</td>\n",
              "      <td>Partial</td>\n",
              "      <td>Yes</td>\n",
              "      <td>11-08-1977</td>\n",
              "      <td>Commercial</td>\n",
              "      <td>ELO</td>\n",
              "      <td>Paved</td>\n",
              "      <td>RL</td>\n",
              "      <td>4.6</td>\n",
              "      <td>3.8</td>\n",
              "      <td>4.1</td>\n",
              "      <td>4.160</td>\n",
              "      <td>425350</td>\n",
              "      <td>119098</td>\n",
              "      <td>8507000</td>\n",
              "    </tr>\n",
              "    <tr>\n",
              "      <th>7105</th>\n",
              "      <td>P09794</td>\n",
              "      <td>Velachery</td>\n",
              "      <td>1896</td>\n",
              "      <td>13-07-2005</td>\n",
              "      <td>156</td>\n",
              "      <td>3.0</td>\n",
              "      <td>2.0</td>\n",
              "      <td>5</td>\n",
              "      <td>Partial</td>\n",
              "      <td>Yes</td>\n",
              "      <td>24-07-1961</td>\n",
              "      <td>Others</td>\n",
              "      <td>ELO</td>\n",
              "      <td>Paved</td>\n",
              "      <td>I</td>\n",
              "      <td>3.1</td>\n",
              "      <td>3.5</td>\n",
              "      <td>4.3</td>\n",
              "      <td>3.640</td>\n",
              "      <td>349177</td>\n",
              "      <td>79812</td>\n",
              "      <td>9976480</td>\n",
              "    </tr>\n",
              "    <tr>\n",
              "      <th>7106</th>\n",
              "      <td>P09293</td>\n",
              "      <td>T Nagar</td>\n",
              "      <td>1973</td>\n",
              "      <td>29-01-2007</td>\n",
              "      <td>63</td>\n",
              "      <td>2.0</td>\n",
              "      <td>1.0</td>\n",
              "      <td>5</td>\n",
              "      <td>Family</td>\n",
              "      <td>Yes</td>\n",
              "      <td>07-02-1972</td>\n",
              "      <td>Commercial</td>\n",
              "      <td>AllPub</td>\n",
              "      <td>Gravel</td>\n",
              "      <td>RM</td>\n",
              "      <td>2.6</td>\n",
              "      <td>2.9</td>\n",
              "      <td>4.9</td>\n",
              "      <td>3.710</td>\n",
              "      <td>885666</td>\n",
              "      <td>116535</td>\n",
              "      <td>23307000</td>\n",
              "    </tr>\n",
              "    <tr>\n",
              "      <th>7107</th>\n",
              "      <td>P09021</td>\n",
              "      <td>Chrompet</td>\n",
              "      <td>1023</td>\n",
              "      <td>11-05-2007</td>\n",
              "      <td>44</td>\n",
              "      <td>1.0</td>\n",
              "      <td>1.0</td>\n",
              "      <td>3</td>\n",
              "      <td>Partial</td>\n",
              "      <td>Yes</td>\n",
              "      <td>15-05-1990</td>\n",
              "      <td>House</td>\n",
              "      <td>AllPub</td>\n",
              "      <td>Pavd</td>\n",
              "      <td>RM</td>\n",
              "      <td>3.0</td>\n",
              "      <td>2.8</td>\n",
              "      <td>3.6</td>\n",
              "      <td>3.100</td>\n",
              "      <td>282319</td>\n",
              "      <td>38941</td>\n",
              "      <td>9735150</td>\n",
              "    </tr>\n",
              "    <tr>\n",
              "      <th>7108</th>\n",
              "      <td>P04325</td>\n",
              "      <td>Chrompet</td>\n",
              "      <td>884</td>\n",
              "      <td>22-09-2010</td>\n",
              "      <td>75</td>\n",
              "      <td>1.0</td>\n",
              "      <td>1.0</td>\n",
              "      <td>3</td>\n",
              "      <td>Normal Sale</td>\n",
              "      <td>No</td>\n",
              "      <td>23-09-2006</td>\n",
              "      <td>Commercial</td>\n",
              "      <td>NoSewr</td>\n",
              "      <td>No Access</td>\n",
              "      <td>RM</td>\n",
              "      <td>2.3</td>\n",
              "      <td>3.8</td>\n",
              "      <td>2.4</td>\n",
              "      <td>2.930</td>\n",
              "      <td>283410</td>\n",
              "      <td>45346</td>\n",
              "      <td>11336400</td>\n",
              "    </tr>\n",
              "  </tbody>\n",
              "</table>\n",
              "<p>7109 rows × 22 columns</p>\n",
              "</div>\n",
              "      <button class=\"colab-df-convert\" onclick=\"convertToInteractive('df-d7322ff2-4a42-40f6-b9f0-4fcd0827ddd0')\"\n",
              "              title=\"Convert this dataframe to an interactive table.\"\n",
              "              style=\"display:none;\">\n",
              "        \n",
              "  <svg xmlns=\"http://www.w3.org/2000/svg\" height=\"24px\"viewBox=\"0 0 24 24\"\n",
              "       width=\"24px\">\n",
              "    <path d=\"M0 0h24v24H0V0z\" fill=\"none\"/>\n",
              "    <path d=\"M18.56 5.44l.94 2.06.94-2.06 2.06-.94-2.06-.94-.94-2.06-.94 2.06-2.06.94zm-11 1L8.5 8.5l.94-2.06 2.06-.94-2.06-.94L8.5 2.5l-.94 2.06-2.06.94zm10 10l.94 2.06.94-2.06 2.06-.94-2.06-.94-.94-2.06-.94 2.06-2.06.94z\"/><path d=\"M17.41 7.96l-1.37-1.37c-.4-.4-.92-.59-1.43-.59-.52 0-1.04.2-1.43.59L10.3 9.45l-7.72 7.72c-.78.78-.78 2.05 0 2.83L4 21.41c.39.39.9.59 1.41.59.51 0 1.02-.2 1.41-.59l7.78-7.78 2.81-2.81c.8-.78.8-2.07 0-2.86zM5.41 20L4 18.59l7.72-7.72 1.47 1.35L5.41 20z\"/>\n",
              "  </svg>\n",
              "      </button>\n",
              "      \n",
              "  <style>\n",
              "    .colab-df-container {\n",
              "      display:flex;\n",
              "      flex-wrap:wrap;\n",
              "      gap: 12px;\n",
              "    }\n",
              "\n",
              "    .colab-df-convert {\n",
              "      background-color: #E8F0FE;\n",
              "      border: none;\n",
              "      border-radius: 50%;\n",
              "      cursor: pointer;\n",
              "      display: none;\n",
              "      fill: #1967D2;\n",
              "      height: 32px;\n",
              "      padding: 0 0 0 0;\n",
              "      width: 32px;\n",
              "    }\n",
              "\n",
              "    .colab-df-convert:hover {\n",
              "      background-color: #E2EBFA;\n",
              "      box-shadow: 0px 1px 2px rgba(60, 64, 67, 0.3), 0px 1px 3px 1px rgba(60, 64, 67, 0.15);\n",
              "      fill: #174EA6;\n",
              "    }\n",
              "\n",
              "    [theme=dark] .colab-df-convert {\n",
              "      background-color: #3B4455;\n",
              "      fill: #D2E3FC;\n",
              "    }\n",
              "\n",
              "    [theme=dark] .colab-df-convert:hover {\n",
              "      background-color: #434B5C;\n",
              "      box-shadow: 0px 1px 3px 1px rgba(0, 0, 0, 0.15);\n",
              "      filter: drop-shadow(0px 1px 2px rgba(0, 0, 0, 0.3));\n",
              "      fill: #FFFFFF;\n",
              "    }\n",
              "  </style>\n",
              "\n",
              "      <script>\n",
              "        const buttonEl =\n",
              "          document.querySelector('#df-d7322ff2-4a42-40f6-b9f0-4fcd0827ddd0 button.colab-df-convert');\n",
              "        buttonEl.style.display =\n",
              "          google.colab.kernel.accessAllowed ? 'block' : 'none';\n",
              "\n",
              "        async function convertToInteractive(key) {\n",
              "          const element = document.querySelector('#df-d7322ff2-4a42-40f6-b9f0-4fcd0827ddd0');\n",
              "          const dataTable =\n",
              "            await google.colab.kernel.invokeFunction('convertToInteractive',\n",
              "                                                     [key], {});\n",
              "          if (!dataTable) return;\n",
              "\n",
              "          const docLinkHtml = 'Like what you see? Visit the ' +\n",
              "            '<a target=\"_blank\" href=https://colab.research.google.com/notebooks/data_table.ipynb>data table notebook</a>'\n",
              "            + ' to learn more about interactive tables.';\n",
              "          element.innerHTML = '';\n",
              "          dataTable['output_type'] = 'display_data';\n",
              "          await google.colab.output.renderOutput(dataTable, element);\n",
              "          const docLink = document.createElement('div');\n",
              "          docLink.innerHTML = docLinkHtml;\n",
              "          element.appendChild(docLink);\n",
              "        }\n",
              "      </script>\n",
              "    </div>\n",
              "  </div>\n",
              "  "
            ],
            "text/plain": [
              "      PRT_ID        AREA  INT_SQFT  ... REG_FEE  COMMIS  SALES_PRICE\n",
              "0     P03210  Karapakkam      1004  ...  380000  144400      7600000\n",
              "1     P09411  Anna Nagar      1986  ...  760122  304049     21717770\n",
              "2     P01812       Adyar       909  ...  421094   92114     13159200\n",
              "3     P05346   Velachery      1855  ...  356321   77042      9630290\n",
              "4     P06210  Karapakkam      1226  ...  237000   74063      7406250\n",
              "...      ...         ...       ...  ...     ...     ...          ...\n",
              "7104  P06508  Karapakkam       787  ...  425350  119098      8507000\n",
              "7105  P09794   Velachery      1896  ...  349177   79812      9976480\n",
              "7106  P09293     T Nagar      1973  ...  885666  116535     23307000\n",
              "7107  P09021    Chrompet      1023  ...  282319   38941      9735150\n",
              "7108  P04325    Chrompet       884  ...  283410   45346     11336400\n",
              "\n",
              "[7109 rows x 22 columns]"
            ]
          },
          "metadata": {},
          "execution_count": 89
        }
      ]
    },
    {
      "cell_type": "markdown",
      "source": [
        "# **3. Creating a Copy of DataFrame to df1 to make use later**"
      ],
      "metadata": {
        "id": "b2tcpkFlLaee"
      }
    },
    {
      "cell_type": "code",
      "source": [
        "df1=df.copy()"
      ],
      "metadata": {
        "id": "lMQYogga-9aJ"
      },
      "execution_count": 90,
      "outputs": []
    },
    {
      "cell_type": "markdown",
      "source": [
        "# **4. Table Format of Column Names**"
      ],
      "metadata": {
        "id": "3KSd3sral_6T"
      }
    },
    {
      "cell_type": "markdown",
      "source": [
        "***The Below script gives us the column names available in the dataset given to us***"
      ],
      "metadata": {
        "id": "vQOvTWdppxqk"
      }
    },
    {
      "cell_type": "code",
      "source": [
        "for i in range(0,df.shape[1],1):\n",
        "  if i%2==0:\n",
        "      print(i+1,'.',df.columns[i],' (',df.dtypes[df.columns[i]],') ',end=\"-------------------\")\n",
        "  else:\n",
        "      print(i+1,'.',df.columns[i],' (',df.dtypes[df.columns[i]],') ')\n",
        "      print()"
      ],
      "metadata": {
        "id": "NgQc2Gx_iYG7",
        "colab": {
          "base_uri": "https://localhost:8080/"
        },
        "outputId": "e232fb6d-9535-4190-92b4-081633ca4f86"
      },
      "execution_count": 91,
      "outputs": [
        {
          "output_type": "stream",
          "name": "stdout",
          "text": [
            "1 . PRT_ID  ( object ) -------------------2 . AREA  ( object ) \n",
            "\n",
            "3 . INT_SQFT  ( int64 ) -------------------4 . DATE_SALE  ( object ) \n",
            "\n",
            "5 . DIST_MAINROAD  ( int64 ) -------------------6 . N_BEDROOM  ( float64 ) \n",
            "\n",
            "7 . N_BATHROOM  ( float64 ) -------------------8 . N_ROOM  ( int64 ) \n",
            "\n",
            "9 . SALE_COND  ( object ) -------------------10 . PARK_FACIL  ( object ) \n",
            "\n",
            "11 . DATE_BUILD  ( object ) -------------------12 . BUILDTYPE  ( object ) \n",
            "\n",
            "13 . UTILITY_AVAIL  ( object ) -------------------14 . STREET  ( object ) \n",
            "\n",
            "15 . MZZONE  ( object ) -------------------16 . QS_ROOMS  ( float64 ) \n",
            "\n",
            "17 . QS_BATHROOM  ( float64 ) -------------------18 . QS_BEDROOM  ( float64 ) \n",
            "\n",
            "19 . QS_OVERALL  ( float64 ) -------------------20 . REG_FEE  ( int64 ) \n",
            "\n",
            "21 . COMMIS  ( int64 ) -------------------22 . SALES_PRICE  ( int64 ) \n",
            "\n"
          ]
        }
      ]
    },
    {
      "cell_type": "markdown",
      "source": [
        "# **5. Analysis of all Columns**"
      ],
      "metadata": {
        "id": "j9dFhy4Gkvhn"
      }
    },
    {
      "cell_type": "markdown",
      "source": [
        "**5.1 Analysis of PRT_ID**"
      ],
      "metadata": {
        "id": "dGGGauhRlzqY"
      }
    },
    {
      "cell_type": "code",
      "source": [
        "df['PRT_ID'].value_counts() #Getting the unique values in the Column PRT_ID"
      ],
      "metadata": {
        "colab": {
          "base_uri": "https://localhost:8080/"
        },
        "id": "03DQ056aknan",
        "outputId": "b4e1f2f9-bc67-4332-b8c8-54a33f85bb12"
      },
      "execution_count": 92,
      "outputs": [
        {
          "output_type": "execute_result",
          "data": {
            "text/plain": [
              "P06543    1\n",
              "P07939    1\n",
              "P06671    1\n",
              "P05859    1\n",
              "P06494    1\n",
              "         ..\n",
              "P03509    1\n",
              "P05896    1\n",
              "P01285    1\n",
              "P08327    1\n",
              "P06299    1\n",
              "Name: PRT_ID, Length: 7109, dtype: int64"
            ]
          },
          "metadata": {},
          "execution_count": 92
        }
      ]
    },
    {
      "cell_type": "code",
      "source": [
        "print('The total number of rows in the dataset is',df.shape[0])"
      ],
      "metadata": {
        "colab": {
          "base_uri": "https://localhost:8080/"
        },
        "id": "laicjb9UnsEo",
        "outputId": "878b5c69-bdbc-40dd-e489-1c5341f298a8"
      },
      "execution_count": 93,
      "outputs": [
        {
          "output_type": "stream",
          "name": "stdout",
          "text": [
            "The total number of rows in the dataset is 7109\n"
          ]
        }
      ]
    },
    {
      "cell_type": "markdown",
      "source": [
        "**5.1.1** Since the Number of rows in the dataset is exactly equal to the PRT_ID column this clearly shows us that this a unique Items in the column. So we are removing it without any further analysis."
      ],
      "metadata": {
        "id": "FiCMbsXprIwn"
      }
    },
    {
      "cell_type": "code",
      "source": [
        "df=df.drop(columns=['PRT_ID'],axis=1)\n",
        "df.head()"
      ],
      "metadata": {
        "colab": {
          "base_uri": "https://localhost:8080/",
          "height": 356
        },
        "id": "jfSQhujCknXq",
        "outputId": "5717540c-c954-47cb-d600-6c29d581f597"
      },
      "execution_count": 94,
      "outputs": [
        {
          "output_type": "execute_result",
          "data": {
            "text/html": [
              "\n",
              "  <div id=\"df-29712914-fcbd-4eca-bcd0-20add69f9168\">\n",
              "    <div class=\"colab-df-container\">\n",
              "      <div>\n",
              "<style scoped>\n",
              "    .dataframe tbody tr th:only-of-type {\n",
              "        vertical-align: middle;\n",
              "    }\n",
              "\n",
              "    .dataframe tbody tr th {\n",
              "        vertical-align: top;\n",
              "    }\n",
              "\n",
              "    .dataframe thead th {\n",
              "        text-align: right;\n",
              "    }\n",
              "</style>\n",
              "<table border=\"1\" class=\"dataframe\">\n",
              "  <thead>\n",
              "    <tr style=\"text-align: right;\">\n",
              "      <th></th>\n",
              "      <th>AREA</th>\n",
              "      <th>INT_SQFT</th>\n",
              "      <th>DATE_SALE</th>\n",
              "      <th>DIST_MAINROAD</th>\n",
              "      <th>N_BEDROOM</th>\n",
              "      <th>N_BATHROOM</th>\n",
              "      <th>N_ROOM</th>\n",
              "      <th>SALE_COND</th>\n",
              "      <th>PARK_FACIL</th>\n",
              "      <th>DATE_BUILD</th>\n",
              "      <th>BUILDTYPE</th>\n",
              "      <th>UTILITY_AVAIL</th>\n",
              "      <th>STREET</th>\n",
              "      <th>MZZONE</th>\n",
              "      <th>QS_ROOMS</th>\n",
              "      <th>QS_BATHROOM</th>\n",
              "      <th>QS_BEDROOM</th>\n",
              "      <th>QS_OVERALL</th>\n",
              "      <th>REG_FEE</th>\n",
              "      <th>COMMIS</th>\n",
              "      <th>SALES_PRICE</th>\n",
              "    </tr>\n",
              "  </thead>\n",
              "  <tbody>\n",
              "    <tr>\n",
              "      <th>0</th>\n",
              "      <td>Karapakkam</td>\n",
              "      <td>1004</td>\n",
              "      <td>04-05-2011</td>\n",
              "      <td>131</td>\n",
              "      <td>1.0</td>\n",
              "      <td>1.0</td>\n",
              "      <td>3</td>\n",
              "      <td>AbNormal</td>\n",
              "      <td>Yes</td>\n",
              "      <td>15-05-1967</td>\n",
              "      <td>Commercial</td>\n",
              "      <td>AllPub</td>\n",
              "      <td>Paved</td>\n",
              "      <td>A</td>\n",
              "      <td>4.0</td>\n",
              "      <td>3.9</td>\n",
              "      <td>4.9</td>\n",
              "      <td>4.330</td>\n",
              "      <td>380000</td>\n",
              "      <td>144400</td>\n",
              "      <td>7600000</td>\n",
              "    </tr>\n",
              "    <tr>\n",
              "      <th>1</th>\n",
              "      <td>Anna Nagar</td>\n",
              "      <td>1986</td>\n",
              "      <td>19-12-2006</td>\n",
              "      <td>26</td>\n",
              "      <td>2.0</td>\n",
              "      <td>1.0</td>\n",
              "      <td>5</td>\n",
              "      <td>AbNormal</td>\n",
              "      <td>No</td>\n",
              "      <td>22-12-1995</td>\n",
              "      <td>Commercial</td>\n",
              "      <td>AllPub</td>\n",
              "      <td>Gravel</td>\n",
              "      <td>RH</td>\n",
              "      <td>4.9</td>\n",
              "      <td>4.2</td>\n",
              "      <td>2.5</td>\n",
              "      <td>3.765</td>\n",
              "      <td>760122</td>\n",
              "      <td>304049</td>\n",
              "      <td>21717770</td>\n",
              "    </tr>\n",
              "    <tr>\n",
              "      <th>2</th>\n",
              "      <td>Adyar</td>\n",
              "      <td>909</td>\n",
              "      <td>04-02-2012</td>\n",
              "      <td>70</td>\n",
              "      <td>1.0</td>\n",
              "      <td>1.0</td>\n",
              "      <td>3</td>\n",
              "      <td>AbNormal</td>\n",
              "      <td>Yes</td>\n",
              "      <td>09-02-1992</td>\n",
              "      <td>Commercial</td>\n",
              "      <td>ELO</td>\n",
              "      <td>Gravel</td>\n",
              "      <td>RL</td>\n",
              "      <td>4.1</td>\n",
              "      <td>3.8</td>\n",
              "      <td>2.2</td>\n",
              "      <td>3.090</td>\n",
              "      <td>421094</td>\n",
              "      <td>92114</td>\n",
              "      <td>13159200</td>\n",
              "    </tr>\n",
              "    <tr>\n",
              "      <th>3</th>\n",
              "      <td>Velachery</td>\n",
              "      <td>1855</td>\n",
              "      <td>13-03-2010</td>\n",
              "      <td>14</td>\n",
              "      <td>3.0</td>\n",
              "      <td>2.0</td>\n",
              "      <td>5</td>\n",
              "      <td>Family</td>\n",
              "      <td>No</td>\n",
              "      <td>18-03-1988</td>\n",
              "      <td>Others</td>\n",
              "      <td>NoSewr</td>\n",
              "      <td>Paved</td>\n",
              "      <td>I</td>\n",
              "      <td>4.7</td>\n",
              "      <td>3.9</td>\n",
              "      <td>3.6</td>\n",
              "      <td>4.010</td>\n",
              "      <td>356321</td>\n",
              "      <td>77042</td>\n",
              "      <td>9630290</td>\n",
              "    </tr>\n",
              "    <tr>\n",
              "      <th>4</th>\n",
              "      <td>Karapakkam</td>\n",
              "      <td>1226</td>\n",
              "      <td>05-10-2009</td>\n",
              "      <td>84</td>\n",
              "      <td>1.0</td>\n",
              "      <td>1.0</td>\n",
              "      <td>3</td>\n",
              "      <td>AbNormal</td>\n",
              "      <td>Yes</td>\n",
              "      <td>13-10-1979</td>\n",
              "      <td>Others</td>\n",
              "      <td>AllPub</td>\n",
              "      <td>Gravel</td>\n",
              "      <td>C</td>\n",
              "      <td>3.0</td>\n",
              "      <td>2.5</td>\n",
              "      <td>4.1</td>\n",
              "      <td>3.290</td>\n",
              "      <td>237000</td>\n",
              "      <td>74063</td>\n",
              "      <td>7406250</td>\n",
              "    </tr>\n",
              "  </tbody>\n",
              "</table>\n",
              "</div>\n",
              "      <button class=\"colab-df-convert\" onclick=\"convertToInteractive('df-29712914-fcbd-4eca-bcd0-20add69f9168')\"\n",
              "              title=\"Convert this dataframe to an interactive table.\"\n",
              "              style=\"display:none;\">\n",
              "        \n",
              "  <svg xmlns=\"http://www.w3.org/2000/svg\" height=\"24px\"viewBox=\"0 0 24 24\"\n",
              "       width=\"24px\">\n",
              "    <path d=\"M0 0h24v24H0V0z\" fill=\"none\"/>\n",
              "    <path d=\"M18.56 5.44l.94 2.06.94-2.06 2.06-.94-2.06-.94-.94-2.06-.94 2.06-2.06.94zm-11 1L8.5 8.5l.94-2.06 2.06-.94-2.06-.94L8.5 2.5l-.94 2.06-2.06.94zm10 10l.94 2.06.94-2.06 2.06-.94-2.06-.94-.94-2.06-.94 2.06-2.06.94z\"/><path d=\"M17.41 7.96l-1.37-1.37c-.4-.4-.92-.59-1.43-.59-.52 0-1.04.2-1.43.59L10.3 9.45l-7.72 7.72c-.78.78-.78 2.05 0 2.83L4 21.41c.39.39.9.59 1.41.59.51 0 1.02-.2 1.41-.59l7.78-7.78 2.81-2.81c.8-.78.8-2.07 0-2.86zM5.41 20L4 18.59l7.72-7.72 1.47 1.35L5.41 20z\"/>\n",
              "  </svg>\n",
              "      </button>\n",
              "      \n",
              "  <style>\n",
              "    .colab-df-container {\n",
              "      display:flex;\n",
              "      flex-wrap:wrap;\n",
              "      gap: 12px;\n",
              "    }\n",
              "\n",
              "    .colab-df-convert {\n",
              "      background-color: #E8F0FE;\n",
              "      border: none;\n",
              "      border-radius: 50%;\n",
              "      cursor: pointer;\n",
              "      display: none;\n",
              "      fill: #1967D2;\n",
              "      height: 32px;\n",
              "      padding: 0 0 0 0;\n",
              "      width: 32px;\n",
              "    }\n",
              "\n",
              "    .colab-df-convert:hover {\n",
              "      background-color: #E2EBFA;\n",
              "      box-shadow: 0px 1px 2px rgba(60, 64, 67, 0.3), 0px 1px 3px 1px rgba(60, 64, 67, 0.15);\n",
              "      fill: #174EA6;\n",
              "    }\n",
              "\n",
              "    [theme=dark] .colab-df-convert {\n",
              "      background-color: #3B4455;\n",
              "      fill: #D2E3FC;\n",
              "    }\n",
              "\n",
              "    [theme=dark] .colab-df-convert:hover {\n",
              "      background-color: #434B5C;\n",
              "      box-shadow: 0px 1px 3px 1px rgba(0, 0, 0, 0.15);\n",
              "      filter: drop-shadow(0px 1px 2px rgba(0, 0, 0, 0.3));\n",
              "      fill: #FFFFFF;\n",
              "    }\n",
              "  </style>\n",
              "\n",
              "      <script>\n",
              "        const buttonEl =\n",
              "          document.querySelector('#df-29712914-fcbd-4eca-bcd0-20add69f9168 button.colab-df-convert');\n",
              "        buttonEl.style.display =\n",
              "          google.colab.kernel.accessAllowed ? 'block' : 'none';\n",
              "\n",
              "        async function convertToInteractive(key) {\n",
              "          const element = document.querySelector('#df-29712914-fcbd-4eca-bcd0-20add69f9168');\n",
              "          const dataTable =\n",
              "            await google.colab.kernel.invokeFunction('convertToInteractive',\n",
              "                                                     [key], {});\n",
              "          if (!dataTable) return;\n",
              "\n",
              "          const docLinkHtml = 'Like what you see? Visit the ' +\n",
              "            '<a target=\"_blank\" href=https://colab.research.google.com/notebooks/data_table.ipynb>data table notebook</a>'\n",
              "            + ' to learn more about interactive tables.';\n",
              "          element.innerHTML = '';\n",
              "          dataTable['output_type'] = 'display_data';\n",
              "          await google.colab.output.renderOutput(dataTable, element);\n",
              "          const docLink = document.createElement('div');\n",
              "          docLink.innerHTML = docLinkHtml;\n",
              "          element.appendChild(docLink);\n",
              "        }\n",
              "      </script>\n",
              "    </div>\n",
              "  </div>\n",
              "  "
            ],
            "text/plain": [
              "         AREA  INT_SQFT   DATE_SALE  ...  REG_FEE  COMMIS  SALES_PRICE\n",
              "0  Karapakkam      1004  04-05-2011  ...   380000  144400      7600000\n",
              "1  Anna Nagar      1986  19-12-2006  ...   760122  304049     21717770\n",
              "2       Adyar       909  04-02-2012  ...   421094   92114     13159200\n",
              "3   Velachery      1855  13-03-2010  ...   356321   77042      9630290\n",
              "4  Karapakkam      1226  05-10-2009  ...   237000   74063      7406250\n",
              "\n",
              "[5 rows x 21 columns]"
            ]
          },
          "metadata": {},
          "execution_count": 94
        }
      ]
    },
    {
      "cell_type": "markdown",
      "source": [
        "**5.2 Analysis of AREA**"
      ],
      "metadata": {
        "id": "zkYzPSiLr9Yw"
      }
    },
    {
      "cell_type": "markdown",
      "source": [
        "**5.2.1 Representation on list of unique areas which are available in the dataset**"
      ],
      "metadata": {
        "id": "VISo-CNOhinM"
      }
    },
    {
      "cell_type": "code",
      "source": [
        "list(df['AREA'].unique())"
      ],
      "metadata": {
        "colab": {
          "base_uri": "https://localhost:8080/"
        },
        "id": "Xu-VkTTrs4iZ",
        "outputId": "7e1e7297-242e-4a2a-d697-4736d3a928c5"
      },
      "execution_count": 95,
      "outputs": [
        {
          "output_type": "execute_result",
          "data": {
            "text/plain": [
              "['Karapakkam',\n",
              " 'Anna Nagar',\n",
              " 'Adyar',\n",
              " 'Velachery',\n",
              " 'Chrompet',\n",
              " 'KK Nagar',\n",
              " 'TNagar',\n",
              " 'T Nagar',\n",
              " 'Chrompt',\n",
              " 'Chrmpet',\n",
              " 'Karapakam',\n",
              " 'Ana Nagar',\n",
              " 'Chormpet',\n",
              " 'Adyr',\n",
              " 'Velchery',\n",
              " 'Ann Nagar',\n",
              " 'KKNagar']"
            ]
          },
          "metadata": {},
          "execution_count": 95
        }
      ]
    },
    {
      "cell_type": "markdown",
      "source": [
        "**5.2.1 In order to make our analysis more easier we are converting the Area Names into smaller case**"
      ],
      "metadata": {
        "id": "pKGQJ6frhvMf"
      }
    },
    {
      "cell_type": "code",
      "source": [
        "for i in range(0,df.shape[0],1):\n",
        "  df['AREA'][i]=df['AREA'][i].lower()"
      ],
      "metadata": {
        "colab": {
          "base_uri": "https://localhost:8080/"
        },
        "id": "FWodNDMvknUn",
        "outputId": "f52de899-f67d-419f-ec28-7ee34465130f"
      },
      "execution_count": 96,
      "outputs": [
        {
          "output_type": "stream",
          "name": "stderr",
          "text": [
            "/usr/local/lib/python3.7/dist-packages/ipykernel_launcher.py:2: SettingWithCopyWarning: \n",
            "A value is trying to be set on a copy of a slice from a DataFrame\n",
            "\n",
            "See the caveats in the documentation: https://pandas.pydata.org/pandas-docs/stable/user_guide/indexing.html#returning-a-view-versus-a-copy\n",
            "  \n"
          ]
        }
      ]
    },
    {
      "cell_type": "markdown",
      "source": [
        "**5.2.1 Representation on list of unique areas which are available in the dataset after conversion of Area into Lower Case**"
      ],
      "metadata": {
        "id": "5oPtvZuCh5nG"
      }
    },
    {
      "cell_type": "code",
      "source": [
        "list(df['AREA'].unique())"
      ],
      "metadata": {
        "colab": {
          "base_uri": "https://localhost:8080/"
        },
        "id": "VQyoxdfdknR6",
        "outputId": "0403fdf4-4885-480f-c838-35a91e8071ab"
      },
      "execution_count": 97,
      "outputs": [
        {
          "output_type": "execute_result",
          "data": {
            "text/plain": [
              "['karapakkam',\n",
              " 'anna nagar',\n",
              " 'adyar',\n",
              " 'velachery',\n",
              " 'chrompet',\n",
              " 'kk nagar',\n",
              " 'tnagar',\n",
              " 't nagar',\n",
              " 'chrompt',\n",
              " 'chrmpet',\n",
              " 'karapakam',\n",
              " 'ana nagar',\n",
              " 'chormpet',\n",
              " 'adyr',\n",
              " 'velchery',\n",
              " 'ann nagar',\n",
              " 'kknagar']"
            ]
          },
          "metadata": {},
          "execution_count": 97
        }
      ]
    },
    {
      "cell_type": "markdown",
      "source": [
        "**5.2.2 After the conversion on the list there is a important problem which needs to be addressed which is duplicates of the values with spelling error so we must merge them into for further analysis.**\n",
        "\n",
        "**karapakkam = Merging of [karapakkam,karapakam]**\n",
        "\n",
        "**tnagar = Merging of [tnagar,t nagar]**\n",
        "\n",
        "**anna nagar = Merging of [anna nagar,ana nagar,ann nagar]**\n",
        "\n",
        "**adyar = Merging of [adyar,adyr]**\n",
        "\n",
        "**velachery = Merging of [velachery,velchery]**\n",
        "\n",
        "**chrompet = Merging of [chrompet,chormpet,chrmpet,chrompt]**\n",
        "\n",
        "**kk nagar = Merging of [kk nagar,kknagar]**"
      ],
      "metadata": {
        "id": "YA4VAqjkiD1v"
      }
    },
    {
      "cell_type": "markdown",
      "source": [
        "**Merging of Areas:**"
      ],
      "metadata": {
        "id": "4TlYVL1twiyA"
      }
    },
    {
      "cell_type": "code",
      "source": [
        "for i in range(0,df.shape[0],1):\n",
        "  if df['AREA'][i]=='karapakam':\n",
        "    df['AREA'][i]='karapakkam'\n",
        "  elif df['AREA'][i]=='ana nagar' or df['AREA'][i]=='ann nagar':\n",
        "    df['AREA'][i]='anna nagar'\n",
        "  elif df['AREA'][i]=='adyr':\n",
        "    df['AREA'][i]='adyar'\n",
        "  elif df['AREA'][i]=='velchery':\n",
        "    df['AREA'][i]='velachery'\n",
        "  elif df['AREA'][i]=='chormpet' or df['AREA'][i]=='chrmpet' or df['AREA'][i]=='chrompt':\n",
        "    df['AREA'][i]='chrompet'\n",
        "  elif df['AREA'][i]=='kknagar':\n",
        "    df['AREA'][i]='kk nagar'\n",
        "  elif df['AREA'][i]=='t nagar':\n",
        "    df['AREA'][i]='tnagar'"
      ],
      "metadata": {
        "colab": {
          "base_uri": "https://localhost:8080/"
        },
        "id": "CSY9kmBoknO3",
        "outputId": "6d6bb7ab-de9b-4b92-905d-7be9ff20e395"
      },
      "execution_count": 98,
      "outputs": [
        {
          "output_type": "stream",
          "name": "stderr",
          "text": [
            "/usr/local/lib/python3.7/dist-packages/ipykernel_launcher.py:15: SettingWithCopyWarning: \n",
            "A value is trying to be set on a copy of a slice from a DataFrame\n",
            "\n",
            "See the caveats in the documentation: https://pandas.pydata.org/pandas-docs/stable/user_guide/indexing.html#returning-a-view-versus-a-copy\n",
            "  from ipykernel import kernelapp as app\n",
            "/usr/local/lib/python3.7/dist-packages/ipykernel_launcher.py:11: SettingWithCopyWarning: \n",
            "A value is trying to be set on a copy of a slice from a DataFrame\n",
            "\n",
            "See the caveats in the documentation: https://pandas.pydata.org/pandas-docs/stable/user_guide/indexing.html#returning-a-view-versus-a-copy\n",
            "  # This is added back by InteractiveShellApp.init_path()\n",
            "/usr/local/lib/python3.7/dist-packages/ipykernel_launcher.py:3: SettingWithCopyWarning: \n",
            "A value is trying to be set on a copy of a slice from a DataFrame\n",
            "\n",
            "See the caveats in the documentation: https://pandas.pydata.org/pandas-docs/stable/user_guide/indexing.html#returning-a-view-versus-a-copy\n",
            "  This is separate from the ipykernel package so we can avoid doing imports until\n",
            "/usr/local/lib/python3.7/dist-packages/ipykernel_launcher.py:5: SettingWithCopyWarning: \n",
            "A value is trying to be set on a copy of a slice from a DataFrame\n",
            "\n",
            "See the caveats in the documentation: https://pandas.pydata.org/pandas-docs/stable/user_guide/indexing.html#returning-a-view-versus-a-copy\n",
            "  \"\"\"\n",
            "/usr/local/lib/python3.7/dist-packages/ipykernel_launcher.py:7: SettingWithCopyWarning: \n",
            "A value is trying to be set on a copy of a slice from a DataFrame\n",
            "\n",
            "See the caveats in the documentation: https://pandas.pydata.org/pandas-docs/stable/user_guide/indexing.html#returning-a-view-versus-a-copy\n",
            "  import sys\n",
            "/usr/local/lib/python3.7/dist-packages/ipykernel_launcher.py:9: SettingWithCopyWarning: \n",
            "A value is trying to be set on a copy of a slice from a DataFrame\n",
            "\n",
            "See the caveats in the documentation: https://pandas.pydata.org/pandas-docs/stable/user_guide/indexing.html#returning-a-view-versus-a-copy\n",
            "  if __name__ == '__main__':\n",
            "/usr/local/lib/python3.7/dist-packages/ipykernel_launcher.py:13: SettingWithCopyWarning: \n",
            "A value is trying to be set on a copy of a slice from a DataFrame\n",
            "\n",
            "See the caveats in the documentation: https://pandas.pydata.org/pandas-docs/stable/user_guide/indexing.html#returning-a-view-versus-a-copy\n",
            "  del sys.path[0]\n"
          ]
        }
      ]
    },
    {
      "cell_type": "code",
      "source": [
        "print('The Number of Area split before cleaning is: ',len(df1['AREA'].value_counts()))\n",
        "print('The Number of Area split before cleaning is: ',len(df['AREA'].value_counts()))"
      ],
      "metadata": {
        "colab": {
          "base_uri": "https://localhost:8080/"
        },
        "id": "CAEbAdMftbYW",
        "outputId": "50361e3e-b461-425d-a780-532a9c598400"
      },
      "execution_count": 99,
      "outputs": [
        {
          "output_type": "stream",
          "name": "stdout",
          "text": [
            "The Number of Area split before cleaning is:  17\n",
            "The Number of Area split before cleaning is:  7\n"
          ]
        }
      ]
    },
    {
      "cell_type": "code",
      "source": [
        "area=[]\n",
        "number_of_properties=[]\n",
        "for i in range(-1,-len(df['AREA'].value_counts())-1,-1):\n",
        "  area.append(df['AREA'].value_counts().index[i])\n",
        "  number_of_properties.append(df['AREA'].value_counts()[i])"
      ],
      "metadata": {
        "id": "a2A2ppOVsi6v"
      },
      "execution_count": 100,
      "outputs": []
    },
    {
      "cell_type": "markdown",
      "source": [
        "**Pictorial Representation on Area vs Number of properties in the dataset**"
      ],
      "metadata": {
        "id": "k4oR_Gw4u0zf"
      }
    },
    {
      "cell_type": "code",
      "source": [
        "plt.figure(figsize=(16,8),dpi=80)\n",
        "ax=plt.axes()\n",
        "ax.set_facecolor('black')\n",
        "plt.bar(area,number_of_properties,color='white',width=0.02)\n",
        "plt.scatter(area,number_of_properties,color='red',s=50)\n",
        "plt.plot(area,number_of_properties,color='yellow')\n",
        "plt.title('Area vs Number of Properties',fontsize=25,color='blue')\n",
        "plt.xlabel(\"Name of the Area\",fontsize=20,color='blue')\n",
        "plt.ylabel('Number of Properties in the dataset',fontsize=20,color='blue')\n",
        "plt.xticks(rotation=50,fontsize=20,color='blue')\n",
        "plt.yticks(fontsize=20,color='blue')\n",
        "plt.show()"
      ],
      "metadata": {
        "colab": {
          "base_uri": "https://localhost:8080/",
          "height": 695
        },
        "id": "rFwtKsgNu6oz",
        "outputId": "b26dca3b-8126-4f52-9c51-1c31d65bdcf3"
      },
      "execution_count": 101,
      "outputs": [
        {
          "output_type": "display_data",
          "data": {
            "image/png": "[encoded data removed]",
            "text/plain": [
              "<Figure size 1280x640 with 1 Axes>"
            ]
          },
          "metadata": {
            "needs_background": "light"
          }
        }
      ]
    },
    {
      "cell_type": "markdown",
      "source": [
        "# **Table Format of Null Values**"
      ],
      "metadata": {
        "id": "AX_SEjyrmP77"
      }
    },
    {
      "cell_type": "markdown",
      "source": [
        "***This is a representation of Null values using the table format for easier view***"
      ],
      "metadata": {
        "id": "wZRLXd0srQAb"
      }
    },
    {
      "cell_type": "code",
      "source": [
        "l1=[]\n",
        "print('***********************************************')\n",
        "print()\n",
        "print('Name of the Column   |   Number of Null Values')\n",
        "print()\n",
        "for i in range(0,df.shape[1],1):\n",
        "  if df[df.columns[i]].isnull().sum()>0: # Taking only the null values  \n",
        "    l1.append(df.columns[i])\n",
        "    print('***********************************************')\n",
        "    print()\n",
        "    print(df.columns[i],'                    ',df[df.columns[i]].isnull().sum())\n",
        "    print()\n",
        "print('***********************************************')"
      ],
      "metadata": {
        "id": "BexM03b7gi-z",
        "colab": {
          "base_uri": "https://localhost:8080/"
        },
        "outputId": "c5a420af-3eb9-450b-f1a6-ccc35eec0d21"
      },
      "execution_count": 102,
      "outputs": [
        {
          "output_type": "stream",
          "name": "stdout",
          "text": [
            "***********************************************\n",
            "\n",
            "Name of the Column   |   Number of Null Values\n",
            "\n",
            "***********************************************\n",
            "\n",
            "N_BEDROOM                      1\n",
            "\n",
            "***********************************************\n",
            "\n",
            "N_BATHROOM                      5\n",
            "\n",
            "***********************************************\n",
            "\n",
            "QS_OVERALL                      48\n",
            "\n",
            "***********************************************\n"
          ]
        }
      ]
    },
    {
      "cell_type": "markdown",
      "source": [
        "# **Handling of Null Values**"
      ],
      "metadata": {
        "id": "9pbN4OmRmp-j"
      }
    },
    {
      "cell_type": "markdown",
      "source": [
        "***This particular block is used to make our decision about the Null values***"
      ],
      "metadata": {
        "id": "WGBf26ekrZZ7"
      }
    },
    {
      "cell_type": "code",
      "source": [
        "for i in range(0,len(l1),1):\n",
        "  print('****************************************************************')\n",
        "  print('Name of the Column is:                             ',l1[i])\n",
        "  print('Number of Rows in',l1[i],'Column is:              ',df.shape[0])\n",
        "  print('Number of Missing values in',l1[i],'Column is:      ',df[l1[i]].isnull().sum())\n",
        "  print('Percentage of Missing values in',l1[i],'Column is: ',round((df[l1[i]].isnull().sum()/df.shape[0])*100,2))\n",
        "print('*****************************************************************')"
      ],
      "metadata": {
        "id": "pSW0o5aKmpXj",
        "colab": {
          "base_uri": "https://localhost:8080/"
        },
        "outputId": "19d3486c-8a24-49ac-cc68-10c78f9aa480"
      },
      "execution_count": 103,
      "outputs": [
        {
          "output_type": "stream",
          "name": "stdout",
          "text": [
            "****************************************************************\n",
            "Name of the Column is:                              N_BEDROOM\n",
            "Number of Rows in N_BEDROOM Column is:               7109\n",
            "Number of Missing values in N_BEDROOM Column is:       1\n",
            "Percentage of Missing values in N_BEDROOM Column is:  0.01\n",
            "****************************************************************\n",
            "Name of the Column is:                              N_BATHROOM\n",
            "Number of Rows in N_BATHROOM Column is:               7109\n",
            "Number of Missing values in N_BATHROOM Column is:       5\n",
            "Percentage of Missing values in N_BATHROOM Column is:  0.07\n",
            "****************************************************************\n",
            "Name of the Column is:                              QS_OVERALL\n",
            "Number of Rows in QS_OVERALL Column is:               7109\n",
            "Number of Missing values in QS_OVERALL Column is:       48\n",
            "Percentage of Missing values in QS_OVERALL Column is:  0.68\n",
            "*****************************************************************\n"
          ]
        }
      ]
    },
    {
      "cell_type": "markdown",
      "source": [
        "# **Decision Execution - Null Values**"
      ],
      "metadata": {
        "id": "r8cjGcMStQ0d"
      }
    },
    {
      "cell_type": "markdown",
      "source": [
        "***1. Since there are 0.01% missing values in N_Bedroom this can be removed as we are going to loose only one row, for N_Bathroom there are 5 rows which has missing values with 0.07% missing from the rows this can also be removed. And finally QS_Overall has 0.68% missing data with 48 rows. Total of 0.74 missing values in the whole dataset and droping it will not make any difference in the dataset***\n",
        "\n",
        "**Droping the Null values**\n",
        "\n"
      ],
      "metadata": {
        "id": "ZSAj1yeBtYzj"
      }
    },
    {
      "cell_type": "code",
      "source": [
        "print('Number of Rows BEFORE droping the Null values rows: ',df.shape[0])\n",
        "a=df.shape[0]\n",
        "df=df.dropna(axis=0)\n",
        "print('Number of Rows AFTER droping the Null values rows: ',df.shape[0])\n",
        "b=df.shape[0]\n",
        "print('Percentage of removed value is: ',100-((b/a)*100))\n",
        "print('Percentage of Clean value is: ',(b/a)*100)\n"
      ],
      "metadata": {
        "id": "4agG8fjLu46L",
        "colab": {
          "base_uri": "https://localhost:8080/"
        },
        "outputId": "6ed52fa2-fc1d-4465-e399-5f86e8a771b9"
      },
      "execution_count": 104,
      "outputs": [
        {
          "output_type": "stream",
          "name": "stdout",
          "text": [
            "Number of Rows BEFORE droping the Null values rows:  7109\n",
            "Number of Rows AFTER droping the Null values rows:  7056\n",
            "Percentage of removed value is:  0.7455338303558818\n",
            "Percentage of Clean value is:  99.25446616964412\n"
          ]
        }
      ]
    },
    {
      "cell_type": "code",
      "source": [
        "# aa=df[df['AREA']=='Karapakam']\n",
        "# df.drop(df['AREA']=='Karapakam',axis=0)\n"
      ],
      "metadata": {
        "id": "n6D_o-i3I2oL"
      },
      "execution_count": 105,
      "outputs": []
    },
    {
      "cell_type": "code",
      "source": [
        ""
      ],
      "metadata": {
        "id": "jioUEgGwUh3B"
      },
      "execution_count": 105,
      "outputs": []
    },
    {
      "cell_type": "markdown",
      "source": [
        "# **Decision Execution - Removing the Unwanted Column or Less information Columns**"
      ],
      "metadata": {
        "id": "QuG5yDxS_a6c"
      }
    },
    {
      "cell_type": "code",
      "source": [
        "df.columns"
      ],
      "metadata": {
        "colab": {
          "base_uri": "https://localhost:8080/"
        },
        "id": "VKAf4FAWhByC",
        "outputId": "e88fa14d-93d4-4a12-9fd8-5ff215b0f65a"
      },
      "execution_count": 106,
      "outputs": [
        {
          "output_type": "execute_result",
          "data": {
            "text/plain": [
              "Index(['AREA', 'INT_SQFT', 'DATE_SALE', 'DIST_MAINROAD', 'N_BEDROOM',\n",
              "       'N_BATHROOM', 'N_ROOM', 'SALE_COND', 'PARK_FACIL', 'DATE_BUILD',\n",
              "       'BUILDTYPE', 'UTILITY_AVAIL', 'STREET', 'MZZONE', 'QS_ROOMS',\n",
              "       'QS_BATHROOM', 'QS_BEDROOM', 'QS_OVERALL', 'REG_FEE', 'COMMIS',\n",
              "       'SALES_PRICE'],\n",
              "      dtype='object')"
            ]
          },
          "metadata": {},
          "execution_count": 106
        }
      ]
    },
    {
      "cell_type": "code",
      "source": [
        "df.head()"
      ],
      "metadata": {
        "colab": {
          "base_uri": "https://localhost:8080/",
          "height": 356
        },
        "id": "cr9W0Gt7TjlY",
        "outputId": "1483aa60-0183-4d5e-fdb1-b24ee59cd848"
      },
      "execution_count": 107,
      "outputs": [
        {
          "output_type": "execute_result",
          "data": {
            "text/html": [
              "\n",
              "  <div id=\"df-dc8b5187-9b90-4edb-a87c-26da66115e4b\">\n",
              "    <div class=\"colab-df-container\">\n",
              "      <div>\n",
              "<style scoped>\n",
              "    .dataframe tbody tr th:only-of-type {\n",
              "        vertical-align: middle;\n",
              "    }\n",
              "\n",
              "    .dataframe tbody tr th {\n",
              "        vertical-align: top;\n",
              "    }\n",
              "\n",
              "    .dataframe thead th {\n",
              "        text-align: right;\n",
              "    }\n",
              "</style>\n",
              "<table border=\"1\" class=\"dataframe\">\n",
              "  <thead>\n",
              "    <tr style=\"text-align: right;\">\n",
              "      <th></th>\n",
              "      <th>AREA</th>\n",
              "      <th>INT_SQFT</th>\n",
              "      <th>DATE_SALE</th>\n",
              "      <th>DIST_MAINROAD</th>\n",
              "      <th>N_BEDROOM</th>\n",
              "      <th>N_BATHROOM</th>\n",
              "      <th>N_ROOM</th>\n",
              "      <th>SALE_COND</th>\n",
              "      <th>PARK_FACIL</th>\n",
              "      <th>DATE_BUILD</th>\n",
              "      <th>BUILDTYPE</th>\n",
              "      <th>UTILITY_AVAIL</th>\n",
              "      <th>STREET</th>\n",
              "      <th>MZZONE</th>\n",
              "      <th>QS_ROOMS</th>\n",
              "      <th>QS_BATHROOM</th>\n",
              "      <th>QS_BEDROOM</th>\n",
              "      <th>QS_OVERALL</th>\n",
              "      <th>REG_FEE</th>\n",
              "      <th>COMMIS</th>\n",
              "      <th>SALES_PRICE</th>\n",
              "    </tr>\n",
              "  </thead>\n",
              "  <tbody>\n",
              "    <tr>\n",
              "      <th>0</th>\n",
              "      <td>karapakkam</td>\n",
              "      <td>1004</td>\n",
              "      <td>04-05-2011</td>\n",
              "      <td>131</td>\n",
              "      <td>1.0</td>\n",
              "      <td>1.0</td>\n",
              "      <td>3</td>\n",
              "      <td>AbNormal</td>\n",
              "      <td>Yes</td>\n",
              "      <td>15-05-1967</td>\n",
              "      <td>Commercial</td>\n",
              "      <td>AllPub</td>\n",
              "      <td>Paved</td>\n",
              "      <td>A</td>\n",
              "      <td>4.0</td>\n",
              "      <td>3.9</td>\n",
              "      <td>4.9</td>\n",
              "      <td>4.330</td>\n",
              "      <td>380000</td>\n",
              "      <td>144400</td>\n",
              "      <td>7600000</td>\n",
              "    </tr>\n",
              "    <tr>\n",
              "      <th>1</th>\n",
              "      <td>anna nagar</td>\n",
              "      <td>1986</td>\n",
              "      <td>19-12-2006</td>\n",
              "      <td>26</td>\n",
              "      <td>2.0</td>\n",
              "      <td>1.0</td>\n",
              "      <td>5</td>\n",
              "      <td>AbNormal</td>\n",
              "      <td>No</td>\n",
              "      <td>22-12-1995</td>\n",
              "      <td>Commercial</td>\n",
              "      <td>AllPub</td>\n",
              "      <td>Gravel</td>\n",
              "      <td>RH</td>\n",
              "      <td>4.9</td>\n",
              "      <td>4.2</td>\n",
              "      <td>2.5</td>\n",
              "      <td>3.765</td>\n",
              "      <td>760122</td>\n",
              "      <td>304049</td>\n",
              "      <td>21717770</td>\n",
              "    </tr>\n",
              "    <tr>\n",
              "      <th>2</th>\n",
              "      <td>adyar</td>\n",
              "      <td>909</td>\n",
              "      <td>04-02-2012</td>\n",
              "      <td>70</td>\n",
              "      <td>1.0</td>\n",
              "      <td>1.0</td>\n",
              "      <td>3</td>\n",
              "      <td>AbNormal</td>\n",
              "      <td>Yes</td>\n",
              "      <td>09-02-1992</td>\n",
              "      <td>Commercial</td>\n",
              "      <td>ELO</td>\n",
              "      <td>Gravel</td>\n",
              "      <td>RL</td>\n",
              "      <td>4.1</td>\n",
              "      <td>3.8</td>\n",
              "      <td>2.2</td>\n",
              "      <td>3.090</td>\n",
              "      <td>421094</td>\n",
              "      <td>92114</td>\n",
              "      <td>13159200</td>\n",
              "    </tr>\n",
              "    <tr>\n",
              "      <th>3</th>\n",
              "      <td>velachery</td>\n",
              "      <td>1855</td>\n",
              "      <td>13-03-2010</td>\n",
              "      <td>14</td>\n",
              "      <td>3.0</td>\n",
              "      <td>2.0</td>\n",
              "      <td>5</td>\n",
              "      <td>Family</td>\n",
              "      <td>No</td>\n",
              "      <td>18-03-1988</td>\n",
              "      <td>Others</td>\n",
              "      <td>NoSewr</td>\n",
              "      <td>Paved</td>\n",
              "      <td>I</td>\n",
              "      <td>4.7</td>\n",
              "      <td>3.9</td>\n",
              "      <td>3.6</td>\n",
              "      <td>4.010</td>\n",
              "      <td>356321</td>\n",
              "      <td>77042</td>\n",
              "      <td>9630290</td>\n",
              "    </tr>\n",
              "    <tr>\n",
              "      <th>4</th>\n",
              "      <td>karapakkam</td>\n",
              "      <td>1226</td>\n",
              "      <td>05-10-2009</td>\n",
              "      <td>84</td>\n",
              "      <td>1.0</td>\n",
              "      <td>1.0</td>\n",
              "      <td>3</td>\n",
              "      <td>AbNormal</td>\n",
              "      <td>Yes</td>\n",
              "      <td>13-10-1979</td>\n",
              "      <td>Others</td>\n",
              "      <td>AllPub</td>\n",
              "      <td>Gravel</td>\n",
              "      <td>C</td>\n",
              "      <td>3.0</td>\n",
              "      <td>2.5</td>\n",
              "      <td>4.1</td>\n",
              "      <td>3.290</td>\n",
              "      <td>237000</td>\n",
              "      <td>74063</td>\n",
              "      <td>7406250</td>\n",
              "    </tr>\n",
              "  </tbody>\n",
              "</table>\n",
              "</div>\n",
              "      <button class=\"colab-df-convert\" onclick=\"convertToInteractive('df-dc8b5187-9b90-4edb-a87c-26da66115e4b')\"\n",
              "              title=\"Convert this dataframe to an interactive table.\"\n",
              "              style=\"display:none;\">\n",
              "        \n",
              "  <svg xmlns=\"http://www.w3.org/2000/svg\" height=\"24px\"viewBox=\"0 0 24 24\"\n",
              "       width=\"24px\">\n",
              "    <path d=\"M0 0h24v24H0V0z\" fill=\"none\"/>\n",
              "    <path d=\"M18.56 5.44l.94 2.06.94-2.06 2.06-.94-2.06-.94-.94-2.06-.94 2.06-2.06.94zm-11 1L8.5 8.5l.94-2.06 2.06-.94-2.06-.94L8.5 2.5l-.94 2.06-2.06.94zm10 10l.94 2.06.94-2.06 2.06-.94-2.06-.94-.94-2.06-.94 2.06-2.06.94z\"/><path d=\"M17.41 7.96l-1.37-1.37c-.4-.4-.92-.59-1.43-.59-.52 0-1.04.2-1.43.59L10.3 9.45l-7.72 7.72c-.78.78-.78 2.05 0 2.83L4 21.41c.39.39.9.59 1.41.59.51 0 1.02-.2 1.41-.59l7.78-7.78 2.81-2.81c.8-.78.8-2.07 0-2.86zM5.41 20L4 18.59l7.72-7.72 1.47 1.35L5.41 20z\"/>\n",
              "  </svg>\n",
              "      </button>\n",
              "      \n",
              "  <style>\n",
              "    .colab-df-container {\n",
              "      display:flex;\n",
              "      flex-wrap:wrap;\n",
              "      gap: 12px;\n",
              "    }\n",
              "\n",
              "    .colab-df-convert {\n",
              "      background-color: #E8F0FE;\n",
              "      border: none;\n",
              "      border-radius: 50%;\n",
              "      cursor: pointer;\n",
              "      display: none;\n",
              "      fill: #1967D2;\n",
              "      height: 32px;\n",
              "      padding: 0 0 0 0;\n",
              "      width: 32px;\n",
              "    }\n",
              "\n",
              "    .colab-df-convert:hover {\n",
              "      background-color: #E2EBFA;\n",
              "      box-shadow: 0px 1px 2px rgba(60, 64, 67, 0.3), 0px 1px 3px 1px rgba(60, 64, 67, 0.15);\n",
              "      fill: #174EA6;\n",
              "    }\n",
              "\n",
              "    [theme=dark] .colab-df-convert {\n",
              "      background-color: #3B4455;\n",
              "      fill: #D2E3FC;\n",
              "    }\n",
              "\n",
              "    [theme=dark] .colab-df-convert:hover {\n",
              "      background-color: #434B5C;\n",
              "      box-shadow: 0px 1px 3px 1px rgba(0, 0, 0, 0.15);\n",
              "      filter: drop-shadow(0px 1px 2px rgba(0, 0, 0, 0.3));\n",
              "      fill: #FFFFFF;\n",
              "    }\n",
              "  </style>\n",
              "\n",
              "      <script>\n",
              "        const buttonEl =\n",
              "          document.querySelector('#df-dc8b5187-9b90-4edb-a87c-26da66115e4b button.colab-df-convert');\n",
              "        buttonEl.style.display =\n",
              "          google.colab.kernel.accessAllowed ? 'block' : 'none';\n",
              "\n",
              "        async function convertToInteractive(key) {\n",
              "          const element = document.querySelector('#df-dc8b5187-9b90-4edb-a87c-26da66115e4b');\n",
              "          const dataTable =\n",
              "            await google.colab.kernel.invokeFunction('convertToInteractive',\n",
              "                                                     [key], {});\n",
              "          if (!dataTable) return;\n",
              "\n",
              "          const docLinkHtml = 'Like what you see? Visit the ' +\n",
              "            '<a target=\"_blank\" href=https://colab.research.google.com/notebooks/data_table.ipynb>data table notebook</a>'\n",
              "            + ' to learn more about interactive tables.';\n",
              "          element.innerHTML = '';\n",
              "          dataTable['output_type'] = 'display_data';\n",
              "          await google.colab.output.renderOutput(dataTable, element);\n",
              "          const docLink = document.createElement('div');\n",
              "          docLink.innerHTML = docLinkHtml;\n",
              "          element.appendChild(docLink);\n",
              "        }\n",
              "      </script>\n",
              "    </div>\n",
              "  </div>\n",
              "  "
            ],
            "text/plain": [
              "         AREA  INT_SQFT   DATE_SALE  ...  REG_FEE  COMMIS  SALES_PRICE\n",
              "0  karapakkam      1004  04-05-2011  ...   380000  144400      7600000\n",
              "1  anna nagar      1986  19-12-2006  ...   760122  304049     21717770\n",
              "2       adyar       909  04-02-2012  ...   421094   92114     13159200\n",
              "3   velachery      1855  13-03-2010  ...   356321   77042      9630290\n",
              "4  karapakkam      1226  05-10-2009  ...   237000   74063      7406250\n",
              "\n",
              "[5 rows x 21 columns]"
            ]
          },
          "metadata": {},
          "execution_count": 107
        }
      ]
    },
    {
      "cell_type": "code",
      "source": [
        "df=df.drop(columns=['MZZONE','QS_ROOMS','QS_BATHROOM','QS_BEDROOM','QS_OVERALL','REG_FEE','COMMIS'],axis=1)\n",
        "#SALE_COND\n",
        "#column by column cleaning required"
      ],
      "metadata": {
        "id": "ZEqfdaY5_jwU"
      },
      "execution_count": 108,
      "outputs": []
    },
    {
      "cell_type": "code",
      "source": [
        "df.head()"
      ],
      "metadata": {
        "colab": {
          "base_uri": "https://localhost:8080/",
          "height": 206
        },
        "id": "buNAHeDmUACh",
        "outputId": "a6cc7f55-a28b-48f2-cd79-7f168cdf1c87"
      },
      "execution_count": 109,
      "outputs": [
        {
          "output_type": "execute_result",
          "data": {
            "text/html": [
              "\n",
              "  <div id=\"df-75229dea-7bbc-42a2-9294-aa147d98189c\">\n",
              "    <div class=\"colab-df-container\">\n",
              "      <div>\n",
              "<style scoped>\n",
              "    .dataframe tbody tr th:only-of-type {\n",
              "        vertical-align: middle;\n",
              "    }\n",
              "\n",
              "    .dataframe tbody tr th {\n",
              "        vertical-align: top;\n",
              "    }\n",
              "\n",
              "    .dataframe thead th {\n",
              "        text-align: right;\n",
              "    }\n",
              "</style>\n",
              "<table border=\"1\" class=\"dataframe\">\n",
              "  <thead>\n",
              "    <tr style=\"text-align: right;\">\n",
              "      <th></th>\n",
              "      <th>AREA</th>\n",
              "      <th>INT_SQFT</th>\n",
              "      <th>DATE_SALE</th>\n",
              "      <th>DIST_MAINROAD</th>\n",
              "      <th>N_BEDROOM</th>\n",
              "      <th>N_BATHROOM</th>\n",
              "      <th>N_ROOM</th>\n",
              "      <th>SALE_COND</th>\n",
              "      <th>PARK_FACIL</th>\n",
              "      <th>DATE_BUILD</th>\n",
              "      <th>BUILDTYPE</th>\n",
              "      <th>UTILITY_AVAIL</th>\n",
              "      <th>STREET</th>\n",
              "      <th>SALES_PRICE</th>\n",
              "    </tr>\n",
              "  </thead>\n",
              "  <tbody>\n",
              "    <tr>\n",
              "      <th>0</th>\n",
              "      <td>karapakkam</td>\n",
              "      <td>1004</td>\n",
              "      <td>04-05-2011</td>\n",
              "      <td>131</td>\n",
              "      <td>1.0</td>\n",
              "      <td>1.0</td>\n",
              "      <td>3</td>\n",
              "      <td>AbNormal</td>\n",
              "      <td>Yes</td>\n",
              "      <td>15-05-1967</td>\n",
              "      <td>Commercial</td>\n",
              "      <td>AllPub</td>\n",
              "      <td>Paved</td>\n",
              "      <td>7600000</td>\n",
              "    </tr>\n",
              "    <tr>\n",
              "      <th>1</th>\n",
              "      <td>anna nagar</td>\n",
              "      <td>1986</td>\n",
              "      <td>19-12-2006</td>\n",
              "      <td>26</td>\n",
              "      <td>2.0</td>\n",
              "      <td>1.0</td>\n",
              "      <td>5</td>\n",
              "      <td>AbNormal</td>\n",
              "      <td>No</td>\n",
              "      <td>22-12-1995</td>\n",
              "      <td>Commercial</td>\n",
              "      <td>AllPub</td>\n",
              "      <td>Gravel</td>\n",
              "      <td>21717770</td>\n",
              "    </tr>\n",
              "    <tr>\n",
              "      <th>2</th>\n",
              "      <td>adyar</td>\n",
              "      <td>909</td>\n",
              "      <td>04-02-2012</td>\n",
              "      <td>70</td>\n",
              "      <td>1.0</td>\n",
              "      <td>1.0</td>\n",
              "      <td>3</td>\n",
              "      <td>AbNormal</td>\n",
              "      <td>Yes</td>\n",
              "      <td>09-02-1992</td>\n",
              "      <td>Commercial</td>\n",
              "      <td>ELO</td>\n",
              "      <td>Gravel</td>\n",
              "      <td>13159200</td>\n",
              "    </tr>\n",
              "    <tr>\n",
              "      <th>3</th>\n",
              "      <td>velachery</td>\n",
              "      <td>1855</td>\n",
              "      <td>13-03-2010</td>\n",
              "      <td>14</td>\n",
              "      <td>3.0</td>\n",
              "      <td>2.0</td>\n",
              "      <td>5</td>\n",
              "      <td>Family</td>\n",
              "      <td>No</td>\n",
              "      <td>18-03-1988</td>\n",
              "      <td>Others</td>\n",
              "      <td>NoSewr</td>\n",
              "      <td>Paved</td>\n",
              "      <td>9630290</td>\n",
              "    </tr>\n",
              "    <tr>\n",
              "      <th>4</th>\n",
              "      <td>karapakkam</td>\n",
              "      <td>1226</td>\n",
              "      <td>05-10-2009</td>\n",
              "      <td>84</td>\n",
              "      <td>1.0</td>\n",
              "      <td>1.0</td>\n",
              "      <td>3</td>\n",
              "      <td>AbNormal</td>\n",
              "      <td>Yes</td>\n",
              "      <td>13-10-1979</td>\n",
              "      <td>Others</td>\n",
              "      <td>AllPub</td>\n",
              "      <td>Gravel</td>\n",
              "      <td>7406250</td>\n",
              "    </tr>\n",
              "  </tbody>\n",
              "</table>\n",
              "</div>\n",
              "      <button class=\"colab-df-convert\" onclick=\"convertToInteractive('df-75229dea-7bbc-42a2-9294-aa147d98189c')\"\n",
              "              title=\"Convert this dataframe to an interactive table.\"\n",
              "              style=\"display:none;\">\n",
              "        \n",
              "  <svg xmlns=\"http://www.w3.org/2000/svg\" height=\"24px\"viewBox=\"0 0 24 24\"\n",
              "       width=\"24px\">\n",
              "    <path d=\"M0 0h24v24H0V0z\" fill=\"none\"/>\n",
              "    <path d=\"M18.56 5.44l.94 2.06.94-2.06 2.06-.94-2.06-.94-.94-2.06-.94 2.06-2.06.94zm-11 1L8.5 8.5l.94-2.06 2.06-.94-2.06-.94L8.5 2.5l-.94 2.06-2.06.94zm10 10l.94 2.06.94-2.06 2.06-.94-2.06-.94-.94-2.06-.94 2.06-2.06.94z\"/><path d=\"M17.41 7.96l-1.37-1.37c-.4-.4-.92-.59-1.43-.59-.52 0-1.04.2-1.43.59L10.3 9.45l-7.72 7.72c-.78.78-.78 2.05 0 2.83L4 21.41c.39.39.9.59 1.41.59.51 0 1.02-.2 1.41-.59l7.78-7.78 2.81-2.81c.8-.78.8-2.07 0-2.86zM5.41 20L4 18.59l7.72-7.72 1.47 1.35L5.41 20z\"/>\n",
              "  </svg>\n",
              "      </button>\n",
              "      \n",
              "  <style>\n",
              "    .colab-df-container {\n",
              "      display:flex;\n",
              "      flex-wrap:wrap;\n",
              "      gap: 12px;\n",
              "    }\n",
              "\n",
              "    .colab-df-convert {\n",
              "      background-color: #E8F0FE;\n",
              "      border: none;\n",
              "      border-radius: 50%;\n",
              "      cursor: pointer;\n",
              "      display: none;\n",
              "      fill: #1967D2;\n",
              "      height: 32px;\n",
              "      padding: 0 0 0 0;\n",
              "      width: 32px;\n",
              "    }\n",
              "\n",
              "    .colab-df-convert:hover {\n",
              "      background-color: #E2EBFA;\n",
              "      box-shadow: 0px 1px 2px rgba(60, 64, 67, 0.3), 0px 1px 3px 1px rgba(60, 64, 67, 0.15);\n",
              "      fill: #174EA6;\n",
              "    }\n",
              "\n",
              "    [theme=dark] .colab-df-convert {\n",
              "      background-color: #3B4455;\n",
              "      fill: #D2E3FC;\n",
              "    }\n",
              "\n",
              "    [theme=dark] .colab-df-convert:hover {\n",
              "      background-color: #434B5C;\n",
              "      box-shadow: 0px 1px 3px 1px rgba(0, 0, 0, 0.15);\n",
              "      filter: drop-shadow(0px 1px 2px rgba(0, 0, 0, 0.3));\n",
              "      fill: #FFFFFF;\n",
              "    }\n",
              "  </style>\n",
              "\n",
              "      <script>\n",
              "        const buttonEl =\n",
              "          document.querySelector('#df-75229dea-7bbc-42a2-9294-aa147d98189c button.colab-df-convert');\n",
              "        buttonEl.style.display =\n",
              "          google.colab.kernel.accessAllowed ? 'block' : 'none';\n",
              "\n",
              "        async function convertToInteractive(key) {\n",
              "          const element = document.querySelector('#df-75229dea-7bbc-42a2-9294-aa147d98189c');\n",
              "          const dataTable =\n",
              "            await google.colab.kernel.invokeFunction('convertToInteractive',\n",
              "                                                     [key], {});\n",
              "          if (!dataTable) return;\n",
              "\n",
              "          const docLinkHtml = 'Like what you see? Visit the ' +\n",
              "            '<a target=\"_blank\" href=https://colab.research.google.com/notebooks/data_table.ipynb>data table notebook</a>'\n",
              "            + ' to learn more about interactive tables.';\n",
              "          element.innerHTML = '';\n",
              "          dataTable['output_type'] = 'display_data';\n",
              "          await google.colab.output.renderOutput(dataTable, element);\n",
              "          const docLink = document.createElement('div');\n",
              "          docLink.innerHTML = docLinkHtml;\n",
              "          element.appendChild(docLink);\n",
              "        }\n",
              "      </script>\n",
              "    </div>\n",
              "  </div>\n",
              "  "
            ],
            "text/plain": [
              "         AREA  INT_SQFT   DATE_SALE  ...  UTILITY_AVAIL  STREET  SALES_PRICE\n",
              "0  karapakkam      1004  04-05-2011  ...         AllPub   Paved      7600000\n",
              "1  anna nagar      1986  19-12-2006  ...         AllPub  Gravel     21717770\n",
              "2       adyar       909  04-02-2012  ...            ELO  Gravel     13159200\n",
              "3   velachery      1855  13-03-2010  ...        NoSewr    Paved      9630290\n",
              "4  karapakkam      1226  05-10-2009  ...         AllPub  Gravel      7406250\n",
              "\n",
              "[5 rows x 14 columns]"
            ]
          },
          "metadata": {},
          "execution_count": 109
        }
      ]
    },
    {
      "cell_type": "markdown",
      "source": [
        "#**Area Analysis**"
      ],
      "metadata": {
        "id": "RpzNUjd8BEZj"
      }
    },
    {
      "cell_type": "code",
      "source": [
        "l2=list(df['AREA'].unique())\n",
        "print('***********************************************************************')\n",
        "for i in range(0,len(l2),1):\n",
        "  print()\n",
        "  print(l2[i],'------->',df[df['AREA']==l2[i]].shape)\n",
        "  print('Number of properties in the dataset with ',l2[i],'as Area is: ',df[df['AREA']==l2[i]].shape[0])\n",
        "  print()\n",
        "  print('***********************************************************************')\n",
        "#x_area,y_Noofproperties--Representationg graph\n",
        "#Average price of Sales with area (interpretation-Area)"
      ],
      "metadata": {
        "id": "6-WNuvO6BPpK",
        "colab": {
          "base_uri": "https://localhost:8080/"
        },
        "outputId": "24e9983e-217d-467c-dfbc-d4f3d673916a"
      },
      "execution_count": 110,
      "outputs": [
        {
          "output_type": "stream",
          "name": "stdout",
          "text": [
            "***********************************************************************\n",
            "\n",
            "karapakkam -------> (1359, 14)\n",
            "Number of properties in the dataset with  karapakkam as Area is:  1359\n",
            "\n",
            "***********************************************************************\n",
            "\n",
            "anna nagar -------> (777, 14)\n",
            "Number of properties in the dataset with  anna nagar as Area is:  777\n",
            "\n",
            "***********************************************************************\n",
            "\n",
            "adyar -------> (769, 14)\n",
            "Number of properties in the dataset with  adyar as Area is:  769\n",
            "\n",
            "***********************************************************************\n",
            "\n",
            "velachery -------> (975, 14)\n",
            "Number of properties in the dataset with  velachery as Area is:  975\n",
            "\n",
            "***********************************************************************\n",
            "\n",
            "chrompet -------> (1691, 14)\n",
            "Number of properties in the dataset with  chrompet as Area is:  1691\n",
            "\n",
            "***********************************************************************\n",
            "\n",
            "kk nagar -------> (990, 14)\n",
            "Number of properties in the dataset with  kk nagar as Area is:  990\n",
            "\n",
            "***********************************************************************\n",
            "\n",
            "tnagar -------> (495, 14)\n",
            "Number of properties in the dataset with  tnagar as Area is:  495\n",
            "\n",
            "***********************************************************************\n"
          ]
        }
      ]
    },
    {
      "cell_type": "code",
      "source": [
        ""
      ],
      "metadata": {
        "id": "oEf1Yj-dUr73"
      },
      "execution_count": 110,
      "outputs": []
    },
    {
      "cell_type": "markdown",
      "source": [
        "#**INT_SQFT Analysis**"
      ],
      "metadata": {
        "id": "ZORL1jC9BKk1"
      }
    },
    {
      "cell_type": "code",
      "source": [
        "l3=[]\n",
        "mi1=[]\n",
        "ma1=[]\n",
        "av1=[]\n",
        "for i in range(0,len(l2),1):\n",
        "  print()\n",
        "  print(l2[i],'------> Minimum Int_SquareFeet value is: ',df[df['AREA']==l2[i]]['INT_SQFT'].min(),end=\" **** \")\n",
        "  mi1.append(df[df['AREA']==l2[i]]['INT_SQFT'].min())\n",
        "  print('Maximum Int_SquareFeet value is: ',df[df['AREA']==l2[i]]['INT_SQFT'].max(),end=\" **** \")\n",
        "  ma1.append(df[df['AREA']==l2[i]]['INT_SQFT'].max())\n",
        "  print('Average Int_SquareFeet value is: ',df[df['AREA']==l2[i]]['INT_SQFT'].mean())\n",
        "  av1.append(df[df['AREA']==l2[i]]['INT_SQFT'].mean())\n",
        "  print()\n",
        "  print('***********************************************************************************************************************************************************************')\n",
        "#Average Sales price vs Squarefeet\n",
        "#"
      ],
      "metadata": {
        "id": "rTo8EDrL0x06",
        "colab": {
          "base_uri": "https://localhost:8080/"
        },
        "outputId": "013056ee-35a7-46ff-9c21-f93275b67e39"
      },
      "execution_count": 111,
      "outputs": [
        {
          "output_type": "stream",
          "name": "stdout",
          "text": [
            "\n",
            "karapakkam ------> Minimum Int_SquareFeet value is:  500 **** Maximum Int_SquareFeet value is:  1699 **** Average Int_SquareFeet value is:  1102.8837380426785\n",
            "\n",
            "***********************************************************************************************************************************************************************\n",
            "\n",
            "anna nagar ------> Minimum Int_SquareFeet value is:  1501 **** Maximum Int_SquareFeet value is:  2000 **** Average Int_SquareFeet value is:  1752.6821106821108\n",
            "\n",
            "***********************************************************************************************************************************************************************\n",
            "\n",
            "adyar ------> Minimum Int_SquareFeet value is:  600 **** Maximum Int_SquareFeet value is:  1300 **** Average Int_SquareFeet value is:  957.3120936280884\n",
            "\n",
            "***********************************************************************************************************************************************************************\n",
            "\n",
            "velachery ------> Minimum Int_SquareFeet value is:  1500 **** Maximum Int_SquareFeet value is:  2000 **** Average Int_SquareFeet value is:  1741.262564102564\n",
            "\n",
            "***********************************************************************************************************************************************************************\n",
            "\n",
            "chrompet ------> Minimum Int_SquareFeet value is:  700 **** Maximum Int_SquareFeet value is:  1300 **** Average Int_SquareFeet value is:  1002.7770549970431\n",
            "\n",
            "***********************************************************************************************************************************************************************\n",
            "\n",
            "kk nagar ------> Minimum Int_SquareFeet value is:  1300 **** Maximum Int_SquareFeet value is:  2500 **** Average Int_SquareFeet value is:  1904.1585858585859\n",
            "\n",
            "***********************************************************************************************************************************************************************\n",
            "\n",
            "tnagar ------> Minimum Int_SquareFeet value is:  1502 **** Maximum Int_SquareFeet value is:  2000 **** Average Int_SquareFeet value is:  1760.0020202020203\n",
            "\n",
            "***********************************************************************************************************************************************************************\n"
          ]
        }
      ]
    },
    {
      "cell_type": "code",
      "source": [
        "plt.figure(figsize=(16,8),dpi=80)\n",
        "ax=plt.axes()\n",
        "ax.set_facecolor('black')\n",
        "plt.bar(l2,ma1,width=0.05,color='yellow')\n",
        "plt.bar(l2,mi1,width=0.05,color='white')\n",
        "plt.scatter(l2,mi1,color='white',s=80)\n",
        "plt.scatter(l2,ma1,color='white',s=80)\n",
        "plt.plot(l2,mi1,color='red')\n",
        "plt.plot(l2,ma1,color='red')\n",
        "plt.scatter(l2,av1,color='white',s=200,marker='*')\n",
        "plt.title('Area vs Minimum Square Feet value',fontsize=30,color='blue')\n",
        "plt.xlabel('Area',fontsize=20,color='blue')\n",
        "plt.ylabel('Minimum ,Maximum,Average SquareFeet',fontsize=20,color='blue')\n",
        "plt.xticks(rotation=50,fontsize=20)\n",
        "plt.yticks(fontsize=20)\n",
        "plt.show()\n",
        "#Sales Price target need to be used\n",
        "#Target value Sales price need to adjusted with Inflation Rate(Create a column Adjusted Sales price)Inflation Rate=5%\n",
        "#Age of the Building New COlumns"
      ],
      "metadata": {
        "id": "5KAUhdtH38I3",
        "colab": {
          "base_uri": "https://localhost:8080/",
          "height": 699
        },
        "outputId": "41b9b16f-0559-4e65-8dbc-b75074dfcb2b"
      },
      "execution_count": 112,
      "outputs": [
        {
          "output_type": "display_data",
          "data": {
            "image/png": "[encoded data removed]",
            "text/plain": [
              "<Figure size 1280x640 with 1 Axes>"
            ]
          },
          "metadata": {
            "needs_background": "light"
          }
        }
      ]
    },
    {
      "cell_type": "code",
      "source": [
        ""
      ],
      "metadata": {
        "id": "A0XDWzbYkRrZ"
      },
      "execution_count": 112,
      "outputs": []
    },
    {
      "cell_type": "markdown",
      "source": [
        "#**DATE_SALE and DATE_BUILD Analysis**"
      ],
      "metadata": {
        "id": "t-0059qCBLTy"
      }
    },
    {
      "cell_type": "code",
      "source": [
        "f=date(2021,5,3)\n",
        "today = date(2020,5,3)\n",
        "delta_difference=today-f\n",
        "delta_difference.days"
      ],
      "metadata": {
        "id": "MInf35EhHFWS",
        "colab": {
          "base_uri": "https://localhost:8080/"
        },
        "outputId": "1eff259c-4eb2-4fe1-b7fd-6b9209c2f083"
      },
      "execution_count": 113,
      "outputs": [
        {
          "output_type": "execute_result",
          "data": {
            "text/plain": [
              "-365"
            ]
          },
          "metadata": {},
          "execution_count": 113
        }
      ]
    },
    {
      "cell_type": "markdown",
      "source": [
        "#**DIST_MAINROAD Analysis**"
      ],
      "metadata": {
        "id": "uA3DjoLGBMLj"
      }
    },
    {
      "cell_type": "code",
      "source": [
        "df.head()"
      ],
      "metadata": {
        "id": "Zmykb3_NKNdq",
        "colab": {
          "base_uri": "https://localhost:8080/",
          "height": 206
        },
        "outputId": "e864dfc1-eb56-4de9-b588-cea7063650fe"
      },
      "execution_count": 114,
      "outputs": [
        {
          "output_type": "execute_result",
          "data": {
            "text/html": [
              "\n",
              "  <div id=\"df-b9b3fcc3-3f0a-4a3a-8f36-786de3abe209\">\n",
              "    <div class=\"colab-df-container\">\n",
              "      <div>\n",
              "<style scoped>\n",
              "    .dataframe tbody tr th:only-of-type {\n",
              "        vertical-align: middle;\n",
              "    }\n",
              "\n",
              "    .dataframe tbody tr th {\n",
              "        vertical-align: top;\n",
              "    }\n",
              "\n",
              "    .dataframe thead th {\n",
              "        text-align: right;\n",
              "    }\n",
              "</style>\n",
              "<table border=\"1\" class=\"dataframe\">\n",
              "  <thead>\n",
              "    <tr style=\"text-align: right;\">\n",
              "      <th></th>\n",
              "      <th>AREA</th>\n",
              "      <th>INT_SQFT</th>\n",
              "      <th>DATE_SALE</th>\n",
              "      <th>DIST_MAINROAD</th>\n",
              "      <th>N_BEDROOM</th>\n",
              "      <th>N_BATHROOM</th>\n",
              "      <th>N_ROOM</th>\n",
              "      <th>SALE_COND</th>\n",
              "      <th>PARK_FACIL</th>\n",
              "      <th>DATE_BUILD</th>\n",
              "      <th>BUILDTYPE</th>\n",
              "      <th>UTILITY_AVAIL</th>\n",
              "      <th>STREET</th>\n",
              "      <th>SALES_PRICE</th>\n",
              "    </tr>\n",
              "  </thead>\n",
              "  <tbody>\n",
              "    <tr>\n",
              "      <th>0</th>\n",
              "      <td>karapakkam</td>\n",
              "      <td>1004</td>\n",
              "      <td>04-05-2011</td>\n",
              "      <td>131</td>\n",
              "      <td>1.0</td>\n",
              "      <td>1.0</td>\n",
              "      <td>3</td>\n",
              "      <td>AbNormal</td>\n",
              "      <td>Yes</td>\n",
              "      <td>15-05-1967</td>\n",
              "      <td>Commercial</td>\n",
              "      <td>AllPub</td>\n",
              "      <td>Paved</td>\n",
              "      <td>7600000</td>\n",
              "    </tr>\n",
              "    <tr>\n",
              "      <th>1</th>\n",
              "      <td>anna nagar</td>\n",
              "      <td>1986</td>\n",
              "      <td>19-12-2006</td>\n",
              "      <td>26</td>\n",
              "      <td>2.0</td>\n",
              "      <td>1.0</td>\n",
              "      <td>5</td>\n",
              "      <td>AbNormal</td>\n",
              "      <td>No</td>\n",
              "      <td>22-12-1995</td>\n",
              "      <td>Commercial</td>\n",
              "      <td>AllPub</td>\n",
              "      <td>Gravel</td>\n",
              "      <td>21717770</td>\n",
              "    </tr>\n",
              "    <tr>\n",
              "      <th>2</th>\n",
              "      <td>adyar</td>\n",
              "      <td>909</td>\n",
              "      <td>04-02-2012</td>\n",
              "      <td>70</td>\n",
              "      <td>1.0</td>\n",
              "      <td>1.0</td>\n",
              "      <td>3</td>\n",
              "      <td>AbNormal</td>\n",
              "      <td>Yes</td>\n",
              "      <td>09-02-1992</td>\n",
              "      <td>Commercial</td>\n",
              "      <td>ELO</td>\n",
              "      <td>Gravel</td>\n",
              "      <td>13159200</td>\n",
              "    </tr>\n",
              "    <tr>\n",
              "      <th>3</th>\n",
              "      <td>velachery</td>\n",
              "      <td>1855</td>\n",
              "      <td>13-03-2010</td>\n",
              "      <td>14</td>\n",
              "      <td>3.0</td>\n",
              "      <td>2.0</td>\n",
              "      <td>5</td>\n",
              "      <td>Family</td>\n",
              "      <td>No</td>\n",
              "      <td>18-03-1988</td>\n",
              "      <td>Others</td>\n",
              "      <td>NoSewr</td>\n",
              "      <td>Paved</td>\n",
              "      <td>9630290</td>\n",
              "    </tr>\n",
              "    <tr>\n",
              "      <th>4</th>\n",
              "      <td>karapakkam</td>\n",
              "      <td>1226</td>\n",
              "      <td>05-10-2009</td>\n",
              "      <td>84</td>\n",
              "      <td>1.0</td>\n",
              "      <td>1.0</td>\n",
              "      <td>3</td>\n",
              "      <td>AbNormal</td>\n",
              "      <td>Yes</td>\n",
              "      <td>13-10-1979</td>\n",
              "      <td>Others</td>\n",
              "      <td>AllPub</td>\n",
              "      <td>Gravel</td>\n",
              "      <td>7406250</td>\n",
              "    </tr>\n",
              "  </tbody>\n",
              "</table>\n",
              "</div>\n",
              "      <button class=\"colab-df-convert\" onclick=\"convertToInteractive('df-b9b3fcc3-3f0a-4a3a-8f36-786de3abe209')\"\n",
              "              title=\"Convert this dataframe to an interactive table.\"\n",
              "              style=\"display:none;\">\n",
              "        \n",
              "  <svg xmlns=\"http://www.w3.org/2000/svg\" height=\"24px\"viewBox=\"0 0 24 24\"\n",
              "       width=\"24px\">\n",
              "    <path d=\"M0 0h24v24H0V0z\" fill=\"none\"/>\n",
              "    <path d=\"M18.56 5.44l.94 2.06.94-2.06 2.06-.94-2.06-.94-.94-2.06-.94 2.06-2.06.94zm-11 1L8.5 8.5l.94-2.06 2.06-.94-2.06-.94L8.5 2.5l-.94 2.06-2.06.94zm10 10l.94 2.06.94-2.06 2.06-.94-2.06-.94-.94-2.06-.94 2.06-2.06.94z\"/><path d=\"M17.41 7.96l-1.37-1.37c-.4-.4-.92-.59-1.43-.59-.52 0-1.04.2-1.43.59L10.3 9.45l-7.72 7.72c-.78.78-.78 2.05 0 2.83L4 21.41c.39.39.9.59 1.41.59.51 0 1.02-.2 1.41-.59l7.78-7.78 2.81-2.81c.8-.78.8-2.07 0-2.86zM5.41 20L4 18.59l7.72-7.72 1.47 1.35L5.41 20z\"/>\n",
              "  </svg>\n",
              "      </button>\n",
              "      \n",
              "  <style>\n",
              "    .colab-df-container {\n",
              "      display:flex;\n",
              "      flex-wrap:wrap;\n",
              "      gap: 12px;\n",
              "    }\n",
              "\n",
              "    .colab-df-convert {\n",
              "      background-color: #E8F0FE;\n",
              "      border: none;\n",
              "      border-radius: 50%;\n",
              "      cursor: pointer;\n",
              "      display: none;\n",
              "      fill: #1967D2;\n",
              "      height: 32px;\n",
              "      padding: 0 0 0 0;\n",
              "      width: 32px;\n",
              "    }\n",
              "\n",
              "    .colab-df-convert:hover {\n",
              "      background-color: #E2EBFA;\n",
              "      box-shadow: 0px 1px 2px rgba(60, 64, 67, 0.3), 0px 1px 3px 1px rgba(60, 64, 67, 0.15);\n",
              "      fill: #174EA6;\n",
              "    }\n",
              "\n",
              "    [theme=dark] .colab-df-convert {\n",
              "      background-color: #3B4455;\n",
              "      fill: #D2E3FC;\n",
              "    }\n",
              "\n",
              "    [theme=dark] .colab-df-convert:hover {\n",
              "      background-color: #434B5C;\n",
              "      box-shadow: 0px 1px 3px 1px rgba(0, 0, 0, 0.15);\n",
              "      filter: drop-shadow(0px 1px 2px rgba(0, 0, 0, 0.3));\n",
              "      fill: #FFFFFF;\n",
              "    }\n",
              "  </style>\n",
              "\n",
              "      <script>\n",
              "        const buttonEl =\n",
              "          document.querySelector('#df-b9b3fcc3-3f0a-4a3a-8f36-786de3abe209 button.colab-df-convert');\n",
              "        buttonEl.style.display =\n",
              "          google.colab.kernel.accessAllowed ? 'block' : 'none';\n",
              "\n",
              "        async function convertToInteractive(key) {\n",
              "          const element = document.querySelector('#df-b9b3fcc3-3f0a-4a3a-8f36-786de3abe209');\n",
              "          const dataTable =\n",
              "            await google.colab.kernel.invokeFunction('convertToInteractive',\n",
              "                                                     [key], {});\n",
              "          if (!dataTable) return;\n",
              "\n",
              "          const docLinkHtml = 'Like what you see? Visit the ' +\n",
              "            '<a target=\"_blank\" href=https://colab.research.google.com/notebooks/data_table.ipynb>data table notebook</a>'\n",
              "            + ' to learn more about interactive tables.';\n",
              "          element.innerHTML = '';\n",
              "          dataTable['output_type'] = 'display_data';\n",
              "          await google.colab.output.renderOutput(dataTable, element);\n",
              "          const docLink = document.createElement('div');\n",
              "          docLink.innerHTML = docLinkHtml;\n",
              "          element.appendChild(docLink);\n",
              "        }\n",
              "      </script>\n",
              "    </div>\n",
              "  </div>\n",
              "  "
            ],
            "text/plain": [
              "         AREA  INT_SQFT   DATE_SALE  ...  UTILITY_AVAIL  STREET  SALES_PRICE\n",
              "0  karapakkam      1004  04-05-2011  ...         AllPub   Paved      7600000\n",
              "1  anna nagar      1986  19-12-2006  ...         AllPub  Gravel     21717770\n",
              "2       adyar       909  04-02-2012  ...            ELO  Gravel     13159200\n",
              "3   velachery      1855  13-03-2010  ...        NoSewr    Paved      9630290\n",
              "4  karapakkam      1226  05-10-2009  ...         AllPub  Gravel      7406250\n",
              "\n",
              "[5 rows x 14 columns]"
            ]
          },
          "metadata": {},
          "execution_count": 114
        }
      ]
    },
    {
      "cell_type": "code",
      "source": [
        "for i in range(0,len(l2),1):\n",
        "  print('The Minimum distance house from Mainroad in ',l2[i],'is:',df[df['AREA']==l2[i]]['DIST_MAINROAD'].min())\n",
        "  print('The Maximum distance house from Mainroad in ',l2[i],'is:',df[df['AREA']==l2[i]]['DIST_MAINROAD'].max())\n",
        "  print('An Average distance house from Mainroad in ',l2[i],'is:',round(df[df['AREA']==l2[i]]['DIST_MAINROAD'].mean(),2))\n",
        "  print('****************************************************************')"
      ],
      "metadata": {
        "id": "oZUzhyboKOtq",
        "colab": {
          "base_uri": "https://localhost:8080/"
        },
        "outputId": "ebc189bb-dc47-400f-cc80-3941b43fb6bb"
      },
      "execution_count": 115,
      "outputs": [
        {
          "output_type": "stream",
          "name": "stdout",
          "text": [
            "The Minimum distance house from Mainroad in  karapakkam is: 0\n",
            "The Maximum distance house from Mainroad in  karapakkam is: 200\n",
            "An Average distance house from Mainroad in  karapakkam is: 101.05\n",
            "****************************************************************\n",
            "The Minimum distance house from Mainroad in  anna nagar is: 0\n",
            "The Maximum distance house from Mainroad in  anna nagar is: 200\n",
            "An Average distance house from Mainroad in  anna nagar is: 100.4\n",
            "****************************************************************\n",
            "The Minimum distance house from Mainroad in  adyar is: 0\n",
            "The Maximum distance house from Mainroad in  adyar is: 200\n",
            "An Average distance house from Mainroad in  adyar is: 101.43\n",
            "****************************************************************\n",
            "The Minimum distance house from Mainroad in  velachery is: 0\n",
            "The Maximum distance house from Mainroad in  velachery is: 200\n",
            "An Average distance house from Mainroad in  velachery is: 94.73\n",
            "****************************************************************\n",
            "The Minimum distance house from Mainroad in  chrompet is: 0\n",
            "The Maximum distance house from Mainroad in  chrompet is: 200\n",
            "An Average distance house from Mainroad in  chrompet is: 98.08\n",
            "****************************************************************\n",
            "The Minimum distance house from Mainroad in  kk nagar is: 0\n",
            "The Maximum distance house from Mainroad in  kk nagar is: 200\n",
            "An Average distance house from Mainroad in  kk nagar is: 100.74\n",
            "****************************************************************\n",
            "The Minimum distance house from Mainroad in  tnagar is: 0\n",
            "The Maximum distance house from Mainroad in  tnagar is: 200\n",
            "An Average distance house from Mainroad in  tnagar is: 103.6\n",
            "****************************************************************\n"
          ]
        }
      ]
    },
    {
      "cell_type": "markdown",
      "source": [
        "**(1) Since there are some values of 0 in the Minimum Distance it represents that the distance between the house and the mainroad is very less or negotiable**"
      ],
      "metadata": {
        "id": "8RzxavHnkL5E"
      }
    },
    {
      "cell_type": "markdown",
      "source": [
        "# **PARK_FACIL Analysis**"
      ],
      "metadata": {
        "id": "ZD1SQRfSl1gb"
      }
    },
    {
      "cell_type": "code",
      "source": [
        "print('Park Facility available percentage in the given areas is: ',round((df[df['PARK_FACIL']=='Yes'].shape[0]/df.shape[0])*100,2))\n",
        "print('Park Facility Not available percentage in the given areas is: ',100-round((df[df['PARK_FACIL']=='Yes'].shape[0]/df.shape[0])*100,2))"
      ],
      "metadata": {
        "id": "4jWPgk-ip9sn",
        "colab": {
          "base_uri": "https://localhost:8080/"
        },
        "outputId": "c2085032-36b8-4ad1-f0d4-385219d80ac1"
      },
      "execution_count": 116,
      "outputs": [
        {
          "output_type": "stream",
          "name": "stdout",
          "text": [
            "Park Facility available percentage in the given areas is:  50.41\n",
            "Park Facility Not available percentage in the given areas is:  49.59\n"
          ]
        }
      ]
    },
    {
      "cell_type": "markdown",
      "source": [
        "# **Street Analysis**"
      ],
      "metadata": {
        "id": "RsZ7LQNGtckE"
      }
    },
    {
      "cell_type": "code",
      "source": [
        "df['STREET'].value_counts()"
      ],
      "metadata": {
        "id": "qX3EjGsYtczr",
        "colab": {
          "base_uri": "https://localhost:8080/"
        },
        "outputId": "ccb5a24e-0195-42f0-9935-dbd7c8271752"
      },
      "execution_count": 117,
      "outputs": [
        {
          "output_type": "execute_result",
          "data": {
            "text/plain": [
              "Paved        2542\n",
              "Gravel       2502\n",
              "No Access    1993\n",
              "Pavd           12\n",
              "NoAccess        7\n",
              "Name: STREET, dtype: int64"
            ]
          },
          "metadata": {},
          "execution_count": 117
        }
      ]
    },
    {
      "cell_type": "code",
      "source": [
        "df=df.drop(columns=['AREA','BUILDTYPE','UTILITY_AVAIL','STREET','PARK_FACIL','DATE_SALE','DATE_BUILD'])\n",
        "# le=LabelEncoder()"
      ],
      "metadata": {
        "id": "9khwHMgQ2Gr4"
      },
      "execution_count": 118,
      "outputs": []
    },
    {
      "cell_type": "code",
      "source": [
        "df.head()"
      ],
      "metadata": {
        "id": "9LnjRIZ54Dc5",
        "colab": {
          "base_uri": "https://localhost:8080/",
          "height": 206
        },
        "outputId": "8ff981ad-4d58-4572-bcf5-349fff1104a9"
      },
      "execution_count": 119,
      "outputs": [
        {
          "output_type": "execute_result",
          "data": {
            "text/html": [
              "\n",
              "  <div id=\"df-04a7b286-13b7-4586-aed7-d5124d8aa4e1\">\n",
              "    <div class=\"colab-df-container\">\n",
              "      <div>\n",
              "<style scoped>\n",
              "    .dataframe tbody tr th:only-of-type {\n",
              "        vertical-align: middle;\n",
              "    }\n",
              "\n",
              "    .dataframe tbody tr th {\n",
              "        vertical-align: top;\n",
              "    }\n",
              "\n",
              "    .dataframe thead th {\n",
              "        text-align: right;\n",
              "    }\n",
              "</style>\n",
              "<table border=\"1\" class=\"dataframe\">\n",
              "  <thead>\n",
              "    <tr style=\"text-align: right;\">\n",
              "      <th></th>\n",
              "      <th>INT_SQFT</th>\n",
              "      <th>DIST_MAINROAD</th>\n",
              "      <th>N_BEDROOM</th>\n",
              "      <th>N_BATHROOM</th>\n",
              "      <th>N_ROOM</th>\n",
              "      <th>SALE_COND</th>\n",
              "      <th>SALES_PRICE</th>\n",
              "    </tr>\n",
              "  </thead>\n",
              "  <tbody>\n",
              "    <tr>\n",
              "      <th>0</th>\n",
              "      <td>1004</td>\n",
              "      <td>131</td>\n",
              "      <td>1.0</td>\n",
              "      <td>1.0</td>\n",
              "      <td>3</td>\n",
              "      <td>AbNormal</td>\n",
              "      <td>7600000</td>\n",
              "    </tr>\n",
              "    <tr>\n",
              "      <th>1</th>\n",
              "      <td>1986</td>\n",
              "      <td>26</td>\n",
              "      <td>2.0</td>\n",
              "      <td>1.0</td>\n",
              "      <td>5</td>\n",
              "      <td>AbNormal</td>\n",
              "      <td>21717770</td>\n",
              "    </tr>\n",
              "    <tr>\n",
              "      <th>2</th>\n",
              "      <td>909</td>\n",
              "      <td>70</td>\n",
              "      <td>1.0</td>\n",
              "      <td>1.0</td>\n",
              "      <td>3</td>\n",
              "      <td>AbNormal</td>\n",
              "      <td>13159200</td>\n",
              "    </tr>\n",
              "    <tr>\n",
              "      <th>3</th>\n",
              "      <td>1855</td>\n",
              "      <td>14</td>\n",
              "      <td>3.0</td>\n",
              "      <td>2.0</td>\n",
              "      <td>5</td>\n",
              "      <td>Family</td>\n",
              "      <td>9630290</td>\n",
              "    </tr>\n",
              "    <tr>\n",
              "      <th>4</th>\n",
              "      <td>1226</td>\n",
              "      <td>84</td>\n",
              "      <td>1.0</td>\n",
              "      <td>1.0</td>\n",
              "      <td>3</td>\n",
              "      <td>AbNormal</td>\n",
              "      <td>7406250</td>\n",
              "    </tr>\n",
              "  </tbody>\n",
              "</table>\n",
              "</div>\n",
              "      <button class=\"colab-df-convert\" onclick=\"convertToInteractive('df-04a7b286-13b7-4586-aed7-d5124d8aa4e1')\"\n",
              "              title=\"Convert this dataframe to an interactive table.\"\n",
              "              style=\"display:none;\">\n",
              "        \n",
              "  <svg xmlns=\"http://www.w3.org/2000/svg\" height=\"24px\"viewBox=\"0 0 24 24\"\n",
              "       width=\"24px\">\n",
              "    <path d=\"M0 0h24v24H0V0z\" fill=\"none\"/>\n",
              "    <path d=\"M18.56 5.44l.94 2.06.94-2.06 2.06-.94-2.06-.94-.94-2.06-.94 2.06-2.06.94zm-11 1L8.5 8.5l.94-2.06 2.06-.94-2.06-.94L8.5 2.5l-.94 2.06-2.06.94zm10 10l.94 2.06.94-2.06 2.06-.94-2.06-.94-.94-2.06-.94 2.06-2.06.94z\"/><path d=\"M17.41 7.96l-1.37-1.37c-.4-.4-.92-.59-1.43-.59-.52 0-1.04.2-1.43.59L10.3 9.45l-7.72 7.72c-.78.78-.78 2.05 0 2.83L4 21.41c.39.39.9.59 1.41.59.51 0 1.02-.2 1.41-.59l7.78-7.78 2.81-2.81c.8-.78.8-2.07 0-2.86zM5.41 20L4 18.59l7.72-7.72 1.47 1.35L5.41 20z\"/>\n",
              "  </svg>\n",
              "      </button>\n",
              "      \n",
              "  <style>\n",
              "    .colab-df-container {\n",
              "      display:flex;\n",
              "      flex-wrap:wrap;\n",
              "      gap: 12px;\n",
              "    }\n",
              "\n",
              "    .colab-df-convert {\n",
              "      background-color: #E8F0FE;\n",
              "      border: none;\n",
              "      border-radius: 50%;\n",
              "      cursor: pointer;\n",
              "      display: none;\n",
              "      fill: #1967D2;\n",
              "      height: 32px;\n",
              "      padding: 0 0 0 0;\n",
              "      width: 32px;\n",
              "    }\n",
              "\n",
              "    .colab-df-convert:hover {\n",
              "      background-color: #E2EBFA;\n",
              "      box-shadow: 0px 1px 2px rgba(60, 64, 67, 0.3), 0px 1px 3px 1px rgba(60, 64, 67, 0.15);\n",
              "      fill: #174EA6;\n",
              "    }\n",
              "\n",
              "    [theme=dark] .colab-df-convert {\n",
              "      background-color: #3B4455;\n",
              "      fill: #D2E3FC;\n",
              "    }\n",
              "\n",
              "    [theme=dark] .colab-df-convert:hover {\n",
              "      background-color: #434B5C;\n",
              "      box-shadow: 0px 1px 3px 1px rgba(0, 0, 0, 0.15);\n",
              "      filter: drop-shadow(0px 1px 2px rgba(0, 0, 0, 0.3));\n",
              "      fill: #FFFFFF;\n",
              "    }\n",
              "  </style>\n",
              "\n",
              "      <script>\n",
              "        const buttonEl =\n",
              "          document.querySelector('#df-04a7b286-13b7-4586-aed7-d5124d8aa4e1 button.colab-df-convert');\n",
              "        buttonEl.style.display =\n",
              "          google.colab.kernel.accessAllowed ? 'block' : 'none';\n",
              "\n",
              "        async function convertToInteractive(key) {\n",
              "          const element = document.querySelector('#df-04a7b286-13b7-4586-aed7-d5124d8aa4e1');\n",
              "          const dataTable =\n",
              "            await google.colab.kernel.invokeFunction('convertToInteractive',\n",
              "                                                     [key], {});\n",
              "          if (!dataTable) return;\n",
              "\n",
              "          const docLinkHtml = 'Like what you see? Visit the ' +\n",
              "            '<a target=\"_blank\" href=https://colab.research.google.com/notebooks/data_table.ipynb>data table notebook</a>'\n",
              "            + ' to learn more about interactive tables.';\n",
              "          element.innerHTML = '';\n",
              "          dataTable['output_type'] = 'display_data';\n",
              "          await google.colab.output.renderOutput(dataTable, element);\n",
              "          const docLink = document.createElement('div');\n",
              "          docLink.innerHTML = docLinkHtml;\n",
              "          element.appendChild(docLink);\n",
              "        }\n",
              "      </script>\n",
              "    </div>\n",
              "  </div>\n",
              "  "
            ],
            "text/plain": [
              "   INT_SQFT  DIST_MAINROAD  N_BEDROOM  ...  N_ROOM  SALE_COND SALES_PRICE\n",
              "0      1004            131        1.0  ...       3   AbNormal     7600000\n",
              "1      1986             26        2.0  ...       5   AbNormal    21717770\n",
              "2       909             70        1.0  ...       3   AbNormal    13159200\n",
              "3      1855             14        3.0  ...       5     Family     9630290\n",
              "4      1226             84        1.0  ...       3   AbNormal     7406250\n",
              "\n",
              "[5 rows x 7 columns]"
            ]
          },
          "metadata": {},
          "execution_count": 119
        }
      ]
    },
    {
      "cell_type": "code",
      "source": [
        "plt.scatter(df.N_BEDROOM,df['SALES_PRICE'])"
      ],
      "metadata": {
        "colab": {
          "base_uri": "https://localhost:8080/",
          "height": 295
        },
        "id": "0q2o7S4DUJfo",
        "outputId": "78049846-6cd4-46ce-8bbe-f09a87894684"
      },
      "execution_count": 120,
      "outputs": [
        {
          "output_type": "execute_result",
          "data": {
            "text/plain": [
              "<matplotlib.collections.PathCollection at 0x7feaad9d9cd0>"
            ]
          },
          "metadata": {},
          "execution_count": 120
        },
        {
          "output_type": "display_data",
          "data": {
            "image/png": "[encoded data removed]",
            "text/plain": [
              "<Figure size 432x288 with 1 Axes>"
            ]
          },
          "metadata": {
            "needs_background": "light"
          }
        }
      ]
    },
    {
      "cell_type": "markdown",
      "source": [
        ""
      ],
      "metadata": {
        "id": "Fr8FU7TQT3av"
      }
    },
    {
      "cell_type": "code",
      "source": [
        "# for i in range(0,df1.shape[0],1):\n",
        "#   df1['AREA'][0:][i]=df1['AREA'][0:][i].lower()\n",
        "# df1.columns\n",
        "# df1"
      ],
      "metadata": {
        "id": "GxsOm-V7T3B_"
      },
      "execution_count": 121,
      "outputs": []
    },
    {
      "cell_type": "code",
      "source": [
        ""
      ],
      "metadata": {
        "id": "O0zQTkoyT2_K"
      },
      "execution_count": 121,
      "outputs": []
    },
    {
      "cell_type": "code",
      "source": [
        ""
      ],
      "metadata": {
        "id": "fA9NrVKYT28P"
      },
      "execution_count": 121,
      "outputs": []
    },
    {
      "cell_type": "code",
      "source": [
        ""
      ],
      "metadata": {
        "id": "A2vGEHfBT25Y"
      },
      "execution_count": 121,
      "outputs": []
    },
    {
      "cell_type": "code",
      "source": [
        ""
      ],
      "metadata": {
        "id": "jwVLomDwT22b"
      },
      "execution_count": 121,
      "outputs": []
    },
    {
      "cell_type": "code",
      "source": [
        ""
      ],
      "metadata": {
        "id": "7ZMaMW1UT2zj"
      },
      "execution_count": 121,
      "outputs": []
    },
    {
      "cell_type": "markdown",
      "source": [
        "# **Information about the Cleaned Data**"
      ],
      "metadata": {
        "id": "brMaeaWNAfHE"
      }
    },
    {
      "cell_type": "code",
      "source": [
        "df.info()"
      ],
      "metadata": {
        "id": "WtBHjmQDmabD",
        "colab": {
          "base_uri": "https://localhost:8080/"
        },
        "outputId": "f97d110c-67dd-4bda-95a7-8ea5d443aeb8"
      },
      "execution_count": 122,
      "outputs": [
        {
          "output_type": "stream",
          "name": "stdout",
          "text": [
            "<class 'pandas.core.frame.DataFrame'>\n",
            "Int64Index: 7056 entries, 0 to 7108\n",
            "Data columns (total 7 columns):\n",
            " #   Column         Non-Null Count  Dtype  \n",
            "---  ------         --------------  -----  \n",
            " 0   INT_SQFT       7056 non-null   int64  \n",
            " 1   DIST_MAINROAD  7056 non-null   int64  \n",
            " 2   N_BEDROOM      7056 non-null   float64\n",
            " 3   N_BATHROOM     7056 non-null   float64\n",
            " 4   N_ROOM         7056 non-null   int64  \n",
            " 5   SALE_COND      7056 non-null   object \n",
            " 6   SALES_PRICE    7056 non-null   int64  \n",
            "dtypes: float64(2), int64(4), object(1)\n",
            "memory usage: 441.0+ KB\n"
          ]
        }
      ]
    },
    {
      "cell_type": "markdown",
      "source": [
        "# **Description about the Cleaned Data**"
      ],
      "metadata": {
        "id": "eI8XZ0iuAlFy"
      }
    },
    {
      "cell_type": "code",
      "source": [
        "df.describe().T"
      ],
      "metadata": {
        "id": "YzQD-EA0g8dL",
        "colab": {
          "base_uri": "https://localhost:8080/",
          "height": 237
        },
        "outputId": "68c8bc06-53b4-43d8-c4b9-a29b816f1d46"
      },
      "execution_count": 123,
      "outputs": [
        {
          "output_type": "execute_result",
          "data": {
            "text/html": [
              "\n",
              "  <div id=\"df-8c623bb4-de06-4fd0-85f0-0da235413a93\">\n",
              "    <div class=\"colab-df-container\">\n",
              "      <div>\n",
              "<style scoped>\n",
              "    .dataframe tbody tr th:only-of-type {\n",
              "        vertical-align: middle;\n",
              "    }\n",
              "\n",
              "    .dataframe tbody tr th {\n",
              "        vertical-align: top;\n",
              "    }\n",
              "\n",
              "    .dataframe thead th {\n",
              "        text-align: right;\n",
              "    }\n",
              "</style>\n",
              "<table border=\"1\" class=\"dataframe\">\n",
              "  <thead>\n",
              "    <tr style=\"text-align: right;\">\n",
              "      <th></th>\n",
              "      <th>count</th>\n",
              "      <th>mean</th>\n",
              "      <th>std</th>\n",
              "      <th>min</th>\n",
              "      <th>25%</th>\n",
              "      <th>50%</th>\n",
              "      <th>75%</th>\n",
              "      <th>max</th>\n",
              "    </tr>\n",
              "  </thead>\n",
              "  <tbody>\n",
              "    <tr>\n",
              "      <th>INT_SQFT</th>\n",
              "      <td>7056.0</td>\n",
              "      <td>1.381317e+03</td>\n",
              "      <td>4.578609e+02</td>\n",
              "      <td>500.0</td>\n",
              "      <td>991.0</td>\n",
              "      <td>1369.5</td>\n",
              "      <td>1744.0</td>\n",
              "      <td>2500.0</td>\n",
              "    </tr>\n",
              "    <tr>\n",
              "      <th>DIST_MAINROAD</th>\n",
              "      <td>7056.0</td>\n",
              "      <td>9.956916e+01</td>\n",
              "      <td>5.740387e+01</td>\n",
              "      <td>0.0</td>\n",
              "      <td>50.0</td>\n",
              "      <td>99.0</td>\n",
              "      <td>148.0</td>\n",
              "      <td>200.0</td>\n",
              "    </tr>\n",
              "    <tr>\n",
              "      <th>N_BEDROOM</th>\n",
              "      <td>7056.0</td>\n",
              "      <td>1.636621e+00</td>\n",
              "      <td>8.036325e-01</td>\n",
              "      <td>1.0</td>\n",
              "      <td>1.0</td>\n",
              "      <td>1.0</td>\n",
              "      <td>2.0</td>\n",
              "      <td>4.0</td>\n",
              "    </tr>\n",
              "    <tr>\n",
              "      <th>N_BATHROOM</th>\n",
              "      <td>7056.0</td>\n",
              "      <td>1.213152e+00</td>\n",
              "      <td>4.095631e-01</td>\n",
              "      <td>1.0</td>\n",
              "      <td>1.0</td>\n",
              "      <td>1.0</td>\n",
              "      <td>1.0</td>\n",
              "      <td>2.0</td>\n",
              "    </tr>\n",
              "    <tr>\n",
              "      <th>N_ROOM</th>\n",
              "      <td>7056.0</td>\n",
              "      <td>3.686650e+00</td>\n",
              "      <td>1.020011e+00</td>\n",
              "      <td>2.0</td>\n",
              "      <td>3.0</td>\n",
              "      <td>4.0</td>\n",
              "      <td>4.0</td>\n",
              "      <td>6.0</td>\n",
              "    </tr>\n",
              "    <tr>\n",
              "      <th>SALES_PRICE</th>\n",
              "      <td>7056.0</td>\n",
              "      <td>1.088801e+07</td>\n",
              "      <td>3.769081e+06</td>\n",
              "      <td>2156875.0</td>\n",
              "      <td>8266790.0</td>\n",
              "      <td>10319225.0</td>\n",
              "      <td>12981477.5</td>\n",
              "      <td>23667340.0</td>\n",
              "    </tr>\n",
              "  </tbody>\n",
              "</table>\n",
              "</div>\n",
              "      <button class=\"colab-df-convert\" onclick=\"convertToInteractive('df-8c623bb4-de06-4fd0-85f0-0da235413a93')\"\n",
              "              title=\"Convert this dataframe to an interactive table.\"\n",
              "              style=\"display:none;\">\n",
              "        \n",
              "  <svg xmlns=\"http://www.w3.org/2000/svg\" height=\"24px\"viewBox=\"0 0 24 24\"\n",
              "       width=\"24px\">\n",
              "    <path d=\"M0 0h24v24H0V0z\" fill=\"none\"/>\n",
              "    <path d=\"M18.56 5.44l.94 2.06.94-2.06 2.06-.94-2.06-.94-.94-2.06-.94 2.06-2.06.94zm-11 1L8.5 8.5l.94-2.06 2.06-.94-2.06-.94L8.5 2.5l-.94 2.06-2.06.94zm10 10l.94 2.06.94-2.06 2.06-.94-2.06-.94-.94-2.06-.94 2.06-2.06.94z\"/><path d=\"M17.41 7.96l-1.37-1.37c-.4-.4-.92-.59-1.43-.59-.52 0-1.04.2-1.43.59L10.3 9.45l-7.72 7.72c-.78.78-.78 2.05 0 2.83L4 21.41c.39.39.9.59 1.41.59.51 0 1.02-.2 1.41-.59l7.78-7.78 2.81-2.81c.8-.78.8-2.07 0-2.86zM5.41 20L4 18.59l7.72-7.72 1.47 1.35L5.41 20z\"/>\n",
              "  </svg>\n",
              "      </button>\n",
              "      \n",
              "  <style>\n",
              "    .colab-df-container {\n",
              "      display:flex;\n",
              "      flex-wrap:wrap;\n",
              "      gap: 12px;\n",
              "    }\n",
              "\n",
              "    .colab-df-convert {\n",
              "      background-color: #E8F0FE;\n",
              "      border: none;\n",
              "      border-radius: 50%;\n",
              "      cursor: pointer;\n",
              "      display: none;\n",
              "      fill: #1967D2;\n",
              "      height: 32px;\n",
              "      padding: 0 0 0 0;\n",
              "      width: 32px;\n",
              "    }\n",
              "\n",
              "    .colab-df-convert:hover {\n",
              "      background-color: #E2EBFA;\n",
              "      box-shadow: 0px 1px 2px rgba(60, 64, 67, 0.3), 0px 1px 3px 1px rgba(60, 64, 67, 0.15);\n",
              "      fill: #174EA6;\n",
              "    }\n",
              "\n",
              "    [theme=dark] .colab-df-convert {\n",
              "      background-color: #3B4455;\n",
              "      fill: #D2E3FC;\n",
              "    }\n",
              "\n",
              "    [theme=dark] .colab-df-convert:hover {\n",
              "      background-color: #434B5C;\n",
              "      box-shadow: 0px 1px 3px 1px rgba(0, 0, 0, 0.15);\n",
              "      filter: drop-shadow(0px 1px 2px rgba(0, 0, 0, 0.3));\n",
              "      fill: #FFFFFF;\n",
              "    }\n",
              "  </style>\n",
              "\n",
              "      <script>\n",
              "        const buttonEl =\n",
              "          document.querySelector('#df-8c623bb4-de06-4fd0-85f0-0da235413a93 button.colab-df-convert');\n",
              "        buttonEl.style.display =\n",
              "          google.colab.kernel.accessAllowed ? 'block' : 'none';\n",
              "\n",
              "        async function convertToInteractive(key) {\n",
              "          const element = document.querySelector('#df-8c623bb4-de06-4fd0-85f0-0da235413a93');\n",
              "          const dataTable =\n",
              "            await google.colab.kernel.invokeFunction('convertToInteractive',\n",
              "                                                     [key], {});\n",
              "          if (!dataTable) return;\n",
              "\n",
              "          const docLinkHtml = 'Like what you see? Visit the ' +\n",
              "            '<a target=\"_blank\" href=https://colab.research.google.com/notebooks/data_table.ipynb>data table notebook</a>'\n",
              "            + ' to learn more about interactive tables.';\n",
              "          element.innerHTML = '';\n",
              "          dataTable['output_type'] = 'display_data';\n",
              "          await google.colab.output.renderOutput(dataTable, element);\n",
              "          const docLink = document.createElement('div');\n",
              "          docLink.innerHTML = docLinkHtml;\n",
              "          element.appendChild(docLink);\n",
              "        }\n",
              "      </script>\n",
              "    </div>\n",
              "  </div>\n",
              "  "
            ],
            "text/plain": [
              "                count          mean  ...         75%         max\n",
              "INT_SQFT       7056.0  1.381317e+03  ...      1744.0      2500.0\n",
              "DIST_MAINROAD  7056.0  9.956916e+01  ...       148.0       200.0\n",
              "N_BEDROOM      7056.0  1.636621e+00  ...         2.0         4.0\n",
              "N_BATHROOM     7056.0  1.213152e+00  ...         1.0         2.0\n",
              "N_ROOM         7056.0  3.686650e+00  ...         4.0         6.0\n",
              "SALES_PRICE    7056.0  1.088801e+07  ...  12981477.5  23667340.0\n",
              "\n",
              "[6 rows x 8 columns]"
            ]
          },
          "metadata": {},
          "execution_count": 123
        }
      ]
    },
    {
      "cell_type": "markdown",
      "source": [
        "# **Preview of the Cleaned Data**"
      ],
      "metadata": {
        "id": "4IZ-b_13A6zi"
      }
    },
    {
      "cell_type": "code",
      "source": [
        "df.head()\n"
      ],
      "metadata": {
        "id": "t3lQHBOmmaYT",
        "colab": {
          "base_uri": "https://localhost:8080/",
          "height": 206
        },
        "outputId": "dc7ed7b0-52d1-4d50-c651-bdf7c1d7ebcf"
      },
      "execution_count": 124,
      "outputs": [
        {
          "output_type": "execute_result",
          "data": {
            "text/html": [
              "\n",
              "  <div id=\"df-f7c41775-ebab-4550-9a66-4cb618abf904\">\n",
              "    <div class=\"colab-df-container\">\n",
              "      <div>\n",
              "<style scoped>\n",
              "    .dataframe tbody tr th:only-of-type {\n",
              "        vertical-align: middle;\n",
              "    }\n",
              "\n",
              "    .dataframe tbody tr th {\n",
              "        vertical-align: top;\n",
              "    }\n",
              "\n",
              "    .dataframe thead th {\n",
              "        text-align: right;\n",
              "    }\n",
              "</style>\n",
              "<table border=\"1\" class=\"dataframe\">\n",
              "  <thead>\n",
              "    <tr style=\"text-align: right;\">\n",
              "      <th></th>\n",
              "      <th>INT_SQFT</th>\n",
              "      <th>DIST_MAINROAD</th>\n",
              "      <th>N_BEDROOM</th>\n",
              "      <th>N_BATHROOM</th>\n",
              "      <th>N_ROOM</th>\n",
              "      <th>SALE_COND</th>\n",
              "      <th>SALES_PRICE</th>\n",
              "    </tr>\n",
              "  </thead>\n",
              "  <tbody>\n",
              "    <tr>\n",
              "      <th>0</th>\n",
              "      <td>1004</td>\n",
              "      <td>131</td>\n",
              "      <td>1.0</td>\n",
              "      <td>1.0</td>\n",
              "      <td>3</td>\n",
              "      <td>AbNormal</td>\n",
              "      <td>7600000</td>\n",
              "    </tr>\n",
              "    <tr>\n",
              "      <th>1</th>\n",
              "      <td>1986</td>\n",
              "      <td>26</td>\n",
              "      <td>2.0</td>\n",
              "      <td>1.0</td>\n",
              "      <td>5</td>\n",
              "      <td>AbNormal</td>\n",
              "      <td>21717770</td>\n",
              "    </tr>\n",
              "    <tr>\n",
              "      <th>2</th>\n",
              "      <td>909</td>\n",
              "      <td>70</td>\n",
              "      <td>1.0</td>\n",
              "      <td>1.0</td>\n",
              "      <td>3</td>\n",
              "      <td>AbNormal</td>\n",
              "      <td>13159200</td>\n",
              "    </tr>\n",
              "    <tr>\n",
              "      <th>3</th>\n",
              "      <td>1855</td>\n",
              "      <td>14</td>\n",
              "      <td>3.0</td>\n",
              "      <td>2.0</td>\n",
              "      <td>5</td>\n",
              "      <td>Family</td>\n",
              "      <td>9630290</td>\n",
              "    </tr>\n",
              "    <tr>\n",
              "      <th>4</th>\n",
              "      <td>1226</td>\n",
              "      <td>84</td>\n",
              "      <td>1.0</td>\n",
              "      <td>1.0</td>\n",
              "      <td>3</td>\n",
              "      <td>AbNormal</td>\n",
              "      <td>7406250</td>\n",
              "    </tr>\n",
              "  </tbody>\n",
              "</table>\n",
              "</div>\n",
              "      <button class=\"colab-df-convert\" onclick=\"convertToInteractive('df-f7c41775-ebab-4550-9a66-4cb618abf904')\"\n",
              "              title=\"Convert this dataframe to an interactive table.\"\n",
              "              style=\"display:none;\">\n",
              "        \n",
              "  <svg xmlns=\"http://www.w3.org/2000/svg\" height=\"24px\"viewBox=\"0 0 24 24\"\n",
              "       width=\"24px\">\n",
              "    <path d=\"M0 0h24v24H0V0z\" fill=\"none\"/>\n",
              "    <path d=\"M18.56 5.44l.94 2.06.94-2.06 2.06-.94-2.06-.94-.94-2.06-.94 2.06-2.06.94zm-11 1L8.5 8.5l.94-2.06 2.06-.94-2.06-.94L8.5 2.5l-.94 2.06-2.06.94zm10 10l.94 2.06.94-2.06 2.06-.94-2.06-.94-.94-2.06-.94 2.06-2.06.94z\"/><path d=\"M17.41 7.96l-1.37-1.37c-.4-.4-.92-.59-1.43-.59-.52 0-1.04.2-1.43.59L10.3 9.45l-7.72 7.72c-.78.78-.78 2.05 0 2.83L4 21.41c.39.39.9.59 1.41.59.51 0 1.02-.2 1.41-.59l7.78-7.78 2.81-2.81c.8-.78.8-2.07 0-2.86zM5.41 20L4 18.59l7.72-7.72 1.47 1.35L5.41 20z\"/>\n",
              "  </svg>\n",
              "      </button>\n",
              "      \n",
              "  <style>\n",
              "    .colab-df-container {\n",
              "      display:flex;\n",
              "      flex-wrap:wrap;\n",
              "      gap: 12px;\n",
              "    }\n",
              "\n",
              "    .colab-df-convert {\n",
              "      background-color: #E8F0FE;\n",
              "      border: none;\n",
              "      border-radius: 50%;\n",
              "      cursor: pointer;\n",
              "      display: none;\n",
              "      fill: #1967D2;\n",
              "      height: 32px;\n",
              "      padding: 0 0 0 0;\n",
              "      width: 32px;\n",
              "    }\n",
              "\n",
              "    .colab-df-convert:hover {\n",
              "      background-color: #E2EBFA;\n",
              "      box-shadow: 0px 1px 2px rgba(60, 64, 67, 0.3), 0px 1px 3px 1px rgba(60, 64, 67, 0.15);\n",
              "      fill: #174EA6;\n",
              "    }\n",
              "\n",
              "    [theme=dark] .colab-df-convert {\n",
              "      background-color: #3B4455;\n",
              "      fill: #D2E3FC;\n",
              "    }\n",
              "\n",
              "    [theme=dark] .colab-df-convert:hover {\n",
              "      background-color: #434B5C;\n",
              "      box-shadow: 0px 1px 3px 1px rgba(0, 0, 0, 0.15);\n",
              "      filter: drop-shadow(0px 1px 2px rgba(0, 0, 0, 0.3));\n",
              "      fill: #FFFFFF;\n",
              "    }\n",
              "  </style>\n",
              "\n",
              "      <script>\n",
              "        const buttonEl =\n",
              "          document.querySelector('#df-f7c41775-ebab-4550-9a66-4cb618abf904 button.colab-df-convert');\n",
              "        buttonEl.style.display =\n",
              "          google.colab.kernel.accessAllowed ? 'block' : 'none';\n",
              "\n",
              "        async function convertToInteractive(key) {\n",
              "          const element = document.querySelector('#df-f7c41775-ebab-4550-9a66-4cb618abf904');\n",
              "          const dataTable =\n",
              "            await google.colab.kernel.invokeFunction('convertToInteractive',\n",
              "                                                     [key], {});\n",
              "          if (!dataTable) return;\n",
              "\n",
              "          const docLinkHtml = 'Like what you see? Visit the ' +\n",
              "            '<a target=\"_blank\" href=https://colab.research.google.com/notebooks/data_table.ipynb>data table notebook</a>'\n",
              "            + ' to learn more about interactive tables.';\n",
              "          element.innerHTML = '';\n",
              "          dataTable['output_type'] = 'display_data';\n",
              "          await google.colab.output.renderOutput(dataTable, element);\n",
              "          const docLink = document.createElement('div');\n",
              "          docLink.innerHTML = docLinkHtml;\n",
              "          element.appendChild(docLink);\n",
              "        }\n",
              "      </script>\n",
              "    </div>\n",
              "  </div>\n",
              "  "
            ],
            "text/plain": [
              "   INT_SQFT  DIST_MAINROAD  N_BEDROOM  ...  N_ROOM  SALE_COND SALES_PRICE\n",
              "0      1004            131        1.0  ...       3   AbNormal     7600000\n",
              "1      1986             26        2.0  ...       5   AbNormal    21717770\n",
              "2       909             70        1.0  ...       3   AbNormal    13159200\n",
              "3      1855             14        3.0  ...       5     Family     9630290\n",
              "4      1226             84        1.0  ...       3   AbNormal     7406250\n",
              "\n",
              "[5 rows x 7 columns]"
            ]
          },
          "metadata": {},
          "execution_count": 124
        }
      ]
    },
    {
      "cell_type": "code",
      "source": [
        "`df['BUILDTYPE'].unique()"
      ],
      "metadata": {
        "colab": {
          "base_uri": "https://localhost:8080/",
          "height": 597
        },
        "id": "4iLLERivqUPe",
        "outputId": "10209942-f97e-4503-b385-12d90391c965"
      },
      "execution_count": 125,
      "outputs": [
        {
          "output_type": "error",
          "ename": "KeyError",
          "evalue": "ignored",
          "traceback": [
            "\u001b[0;31m---------------------------------------------------------------------------\u001b[0m",
            "\u001b[0;31mKeyError\u001b[0m                                  Traceback (most recent call last)",
            "\u001b[0;32m/usr/local/lib/python3.7/dist-packages/pandas/core/indexes/base.py\u001b[0m in \u001b[0;36mget_loc\u001b[0;34m(self, key, method, tolerance)\u001b[0m\n\u001b[1;32m   2897\u001b[0m             \u001b[0;32mtry\u001b[0m\u001b[0;34m:\u001b[0m\u001b[0;34m\u001b[0m\u001b[0;34m\u001b[0m\u001b[0m\n\u001b[0;32m-> 2898\u001b[0;31m                 \u001b[0;32mreturn\u001b[0m \u001b[0mself\u001b[0m\u001b[0;34m.\u001b[0m\u001b[0m_engine\u001b[0m\u001b[0;34m.\u001b[0m\u001b[0mget_loc\u001b[0m\u001b[0;34m(\u001b[0m\u001b[0mcasted_key\u001b[0m\u001b[0;34m)\u001b[0m\u001b[0;34m\u001b[0m\u001b[0;34m\u001b[0m\u001b[0m\n\u001b[0m\u001b[1;32m   2899\u001b[0m             \u001b[0;32mexcept\u001b[0m \u001b[0mKeyError\u001b[0m \u001b[0;32mas\u001b[0m \u001b[0merr\u001b[0m\u001b[0;34m:\u001b[0m\u001b[0;34m\u001b[0m\u001b[0;34m\u001b[0m\u001b[0m\n",
            "\u001b[0;32mpandas/_libs/index.pyx\u001b[0m in \u001b[0;36mpandas._libs.index.IndexEngine.get_loc\u001b[0;34m()\u001b[0m\n",
            "\u001b[0;32mpandas/_libs/index.pyx\u001b[0m in \u001b[0;36mpandas._libs.index.IndexEngine.get_loc\u001b[0;34m()\u001b[0m\n",
            "\u001b[0;32mpandas/_libs/hashtable_class_helper.pxi\u001b[0m in \u001b[0;36mpandas._libs.hashtable.PyObjectHashTable.get_item\u001b[0;34m()\u001b[0m\n",
            "\u001b[0;32mpandas/_libs/hashtable_class_helper.pxi\u001b[0m in \u001b[0;36mpandas._libs.hashtable.PyObjectHashTable.get_item\u001b[0;34m()\u001b[0m\n",
            "\u001b[0;31mKeyError\u001b[0m: 'BUILDTYPE'",
            "\nThe above exception was the direct cause of the following exception:\n",
            "\u001b[0;31mKeyError\u001b[0m                                  Traceback (most recent call last)",
            "\u001b[0;32m<ipython-input-125-a1f3d00d32d4>\u001b[0m in \u001b[0;36m<module>\u001b[0;34m()\u001b[0m\n\u001b[0;32m----> 1\u001b[0;31m \u001b[0mdf\u001b[0m\u001b[0;34m[\u001b[0m\u001b[0;34m'BUILDTYPE'\u001b[0m\u001b[0;34m]\u001b[0m\u001b[0;34m.\u001b[0m\u001b[0munique\u001b[0m\u001b[0;34m(\u001b[0m\u001b[0;34m)\u001b[0m\u001b[0;34m\u001b[0m\u001b[0;34m\u001b[0m\u001b[0m\n\u001b[0m",
            "\u001b[0;32m/usr/local/lib/python3.7/dist-packages/pandas/core/frame.py\u001b[0m in \u001b[0;36m__getitem__\u001b[0;34m(self, key)\u001b[0m\n\u001b[1;32m   2904\u001b[0m             \u001b[0;32mif\u001b[0m \u001b[0mself\u001b[0m\u001b[0;34m.\u001b[0m\u001b[0mcolumns\u001b[0m\u001b[0;34m.\u001b[0m\u001b[0mnlevels\u001b[0m \u001b[0;34m>\u001b[0m \u001b[0;36m1\u001b[0m\u001b[0;34m:\u001b[0m\u001b[0;34m\u001b[0m\u001b[0;34m\u001b[0m\u001b[0m\n\u001b[1;32m   2905\u001b[0m                 \u001b[0;32mreturn\u001b[0m \u001b[0mself\u001b[0m\u001b[0;34m.\u001b[0m\u001b[0m_getitem_multilevel\u001b[0m\u001b[0;34m(\u001b[0m\u001b[0mkey\u001b[0m\u001b[0;34m)\u001b[0m\u001b[0;34m\u001b[0m\u001b[0;34m\u001b[0m\u001b[0m\n\u001b[0;32m-> 2906\u001b[0;31m             \u001b[0mindexer\u001b[0m \u001b[0;34m=\u001b[0m \u001b[0mself\u001b[0m\u001b[0;34m.\u001b[0m\u001b[0mcolumns\u001b[0m\u001b[0;34m.\u001b[0m\u001b[0mget_loc\u001b[0m\u001b[0;34m(\u001b[0m\u001b[0mkey\u001b[0m\u001b[0;34m)\u001b[0m\u001b[0;34m\u001b[0m\u001b[0;34m\u001b[0m\u001b[0m\n\u001b[0m\u001b[1;32m   2907\u001b[0m             \u001b[0;32mif\u001b[0m \u001b[0mis_integer\u001b[0m\u001b[0;34m(\u001b[0m\u001b[0mindexer\u001b[0m\u001b[0;34m)\u001b[0m\u001b[0;34m:\u001b[0m\u001b[0;34m\u001b[0m\u001b[0;34m\u001b[0m\u001b[0m\n\u001b[1;32m   2908\u001b[0m                 \u001b[0mindexer\u001b[0m \u001b[0;34m=\u001b[0m \u001b[0;34m[\u001b[0m\u001b[0mindexer\u001b[0m\u001b[0;34m]\u001b[0m\u001b[0;34m\u001b[0m\u001b[0;34m\u001b[0m\u001b[0m\n",
            "\u001b[0;32m/usr/local/lib/python3.7/dist-packages/pandas/core/indexes/base.py\u001b[0m in \u001b[0;36mget_loc\u001b[0;34m(self, key, method, tolerance)\u001b[0m\n\u001b[1;32m   2898\u001b[0m                 \u001b[0;32mreturn\u001b[0m \u001b[0mself\u001b[0m\u001b[0;34m.\u001b[0m\u001b[0m_engine\u001b[0m\u001b[0;34m.\u001b[0m\u001b[0mget_loc\u001b[0m\u001b[0;34m(\u001b[0m\u001b[0mcasted_key\u001b[0m\u001b[0;34m)\u001b[0m\u001b[0;34m\u001b[0m\u001b[0;34m\u001b[0m\u001b[0m\n\u001b[1;32m   2899\u001b[0m             \u001b[0;32mexcept\u001b[0m \u001b[0mKeyError\u001b[0m \u001b[0;32mas\u001b[0m \u001b[0merr\u001b[0m\u001b[0;34m:\u001b[0m\u001b[0;34m\u001b[0m\u001b[0;34m\u001b[0m\u001b[0m\n\u001b[0;32m-> 2900\u001b[0;31m                 \u001b[0;32mraise\u001b[0m \u001b[0mKeyError\u001b[0m\u001b[0;34m(\u001b[0m\u001b[0mkey\u001b[0m\u001b[0;34m)\u001b[0m \u001b[0;32mfrom\u001b[0m \u001b[0merr\u001b[0m\u001b[0;34m\u001b[0m\u001b[0;34m\u001b[0m\u001b[0m\n\u001b[0m\u001b[1;32m   2901\u001b[0m \u001b[0;34m\u001b[0m\u001b[0m\n\u001b[1;32m   2902\u001b[0m         \u001b[0;32mif\u001b[0m \u001b[0mtolerance\u001b[0m \u001b[0;32mis\u001b[0m \u001b[0;32mnot\u001b[0m \u001b[0;32mNone\u001b[0m\u001b[0;34m:\u001b[0m\u001b[0;34m\u001b[0m\u001b[0;34m\u001b[0m\u001b[0m\n",
            "\u001b[0;31mKeyError\u001b[0m: 'BUILDTYPE'"
          ]
        }
      ]
    },
    {
      "cell_type": "markdown",
      "source": [
        "# **Exploratory Data Analysis**"
      ],
      "metadata": {
        "id": "mERd5yurw8qP"
      }
    },
    {
      "cell_type": "code",
      "source": [
        "plt.figure(figsize=(16,8),dpi=80)\n",
        "ax=plt.axes()\n",
        "ax.set_facecolor('black')\n",
        "plt.title('Index Value vs Sales Price',fontsize=30,color='blue')\n",
        "plt.xlabel('Index Value',fontsize=20,color='blue')\n",
        "plt.ylabel('Sales Price',fontsize=20,color='blue')\n",
        "plt.xticks(rotation=50,fontsize=20)\n",
        "plt.yticks(fontsize=20)\n",
        "plt.scatter(df.index[:],df.SALES_PRICE[:],color='white',s=10)\n",
        "plt.show()"
      ],
      "metadata": {
        "id": "8Wj5-6mvw_S4"
      },
      "execution_count": null,
      "outputs": []
    },
    {
      "cell_type": "markdown",
      "source": [
        "**(1) This Representation is used to see a value spread of Sales price in dataset**"
      ],
      "metadata": {
        "id": "TvqG8n6hn9Ic"
      }
    },
    {
      "cell_type": "code",
      "source": [
        "plt.figure(figsize=(16,8),dpi=80)\n",
        "ax=plt.axes()\n",
        "ax.set_facecolor('black')\n",
        "plt.scatter(df['INT_SQFT'],df.SALES_PRICE[:],color='white',s=10)\n",
        "plt.title('INT_SQFT vs Sales Price',fontsize=30,color='blue')\n",
        "plt.xlabel('INT_SQFT',fontsize=20,color='blue')\n",
        "plt.ylabel('Sales Price',fontsize=20,color='blue')\n",
        "plt.xticks(rotation=50,fontsize=20)\n",
        "plt.yticks(fontsize=20)\n",
        "plt.show()"
      ],
      "metadata": {
        "id": "4IYfwBohfCES"
      },
      "execution_count": null,
      "outputs": []
    },
    {
      "cell_type": "markdown",
      "source": [
        "**(1) This Representation is used to see a value spread of INT_SQFT and Sales price in dataset**\n",
        "**(2) This Representation is noted that it has some linear patterns**"
      ],
      "metadata": {
        "id": "pGrWK0fvoH3g"
      }
    },
    {
      "cell_type": "code",
      "source": [
        "df=df.drop(columns=['DIST_MAINROAD','N_BEDROOM','N_BATHROOM','N_ROOM'])"
      ],
      "metadata": {
        "id": "3eRqqfZNfd7g"
      },
      "execution_count": null,
      "outputs": []
    },
    {
      "cell_type": "markdown",
      "source": [
        "# **Machine Learning Model**"
      ],
      "metadata": {
        "id": "Bc-_mzTuwgPo"
      }
    },
    {
      "cell_type": "code",
      "source": [
        "X=df.iloc[:,:-1].values\n",
        "y=df.iloc[:,1:].values\n",
        "X_train,X_test,y_train,y_test=train_test_split(X,y,test_size=0.25,random_state=0)\n",
        "print('X',X.shape)\n",
        "print('y',y.shape)\n",
        "print('X_train',X_train.shape)\n",
        "print('y_train',y_train.shape)\n",
        "print('X_test',X_test.shape)\n",
        "print('y_test',y_test.shape)"
      ],
      "metadata": {
        "id": "qsg6jsB4xBcz"
      },
      "execution_count": null,
      "outputs": []
    },
    {
      "cell_type": "code",
      "source": [
        "scale=StandardScaler()\n",
        "scaled_X_train=scale.fit_transform(X_train)\n",
        "scaled_X_train"
      ],
      "metadata": {
        "id": "bGEFpeUpu5TH"
      },
      "execution_count": null,
      "outputs": []
    },
    {
      "cell_type": "code",
      "source": [
        "scaled_X_test=scale.fit_transform(X_test)\n",
        "scaled_X_test"
      ],
      "metadata": {
        "id": "H1pIRa-b-B8H"
      },
      "execution_count": null,
      "outputs": []
    },
    {
      "cell_type": "markdown",
      "source": [
        "# **Linear Regression**"
      ],
      "metadata": {
        "id": "_qHi_fJ9AtCQ"
      }
    },
    {
      "cell_type": "code",
      "source": [
        "linear=LinearRegression()\n",
        "linear.fit(X_train,y_train)\n",
        "print('Coefficient value',linear.coef_)\n",
        "print()\n",
        "print('Intercept value or constant value',linear.intercept_)\n",
        "print()\n",
        "pred=linear.predict(X_test)\n",
        "\n",
        "print('R2 Score',round(metrics.r2_score(y_test,pred)*100,2))\n",
        "print()\n",
        "print('Mean Absolute Error',metrics.mean_absolute_error(y_test,pred))\n",
        "print()\n",
        "print('Mean Squared Error',metrics.mean_squared_error(y_test,pred))"
      ],
      "metadata": {
        "id": "2ZafMBUUxTgs"
      },
      "execution_count": null,
      "outputs": []
    },
    {
      "cell_type": "markdown",
      "source": [
        "# Variables Used\n",
        "1.  a-->\n",
        "2. l1-->Table Format of Null Values-->\n",
        "3. l2-->\n",
        "4. l3-->\n"
      ],
      "metadata": {
        "id": "dQgLZigKDv87"
      }
    },
    {
      "cell_type": "markdown",
      "source": [
        "![Thankyousomuch.jpg](data:image/jpeg;base64,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)"
      ],
      "metadata": {
        "id": "QQkW6Z33p69r"
      }
    }
  ]
}