#due to security issues deployment branch is in Private Repository

{
 "cells": [
  {
   "cell_type": "markdown",
   "metadata": {
    "id": "PDEZM1t1iXGY"
   },
   "source": [
    "# **ITC Stock Price Prediction**"
   ]
  },
  {
   "cell_type": "markdown",
   "metadata": {
    "id": "dbJa-13Jizd4"
   },
   "source": [
    "# **Importing the Necessary Packages**"
   ]
  },
  {
   "cell_type": "code",
   "execution_count": 1,
   "metadata": {
    "id": "XC2gQ7bui27P"
   },
   "outputs": [],
   "source": [
    "import pandas as pd\n",
    "import numpy as np\n",
    "from sklearn.model_selection import train_test_split\n",
    "from sklearn.linear_model import LinearRegression\n",
    "import matplotlib.pyplot as plt\n",
    "from sklearn.preprocessing import StandardScaler\n",
    "from sklearn import metrics\n",
    "import pickle"
   ]
  },
  {
   "cell_type": "markdown",
   "metadata": {
    "id": "msGepAs6jRe3"
   },
   "source": [
    "# **Reading of Csv file from the raw github link**"
   ]
  },
  {
   "cell_type": "code",
   "execution_count": 2,
   "metadata": {
    "id": "wCwRikjniPvg"
   },
   "outputs": [],
   "source": [
    "a='https://raw.githubusercontent.com/Manikandan-professional/Datasets/main/ITC.csv'\n",
    "aa=pd.read_csv(a)"
   ]
  },
  {
   "cell_type": "markdown",
   "metadata": {
    "id": "r1huuD7Nsjtv"
   },
   "source": [
    "# **Conversion of csv to DataFrame**"
   ]
  },
  {
   "cell_type": "code",
   "execution_count": 3,
   "metadata": {
    "colab": {
     "base_uri": "https://localhost:8080/",
     "height": 641
    },
    "id": "pexFIt6SjQwv",
    "outputId": "5d0e7d0f-eb4c-4d09-dea2-41cdcd2706d9"
   },
   "outputs": [
    {
     "data": {
      "text/html": [
       "<div>\n",
       "<style scoped>\n",
       "    .dataframe tbody tr th:only-of-type {\n",
       "        vertical-align: middle;\n",
       "    }\n",
       "\n",
       "    .dataframe tbody tr th {\n",
       "        vertical-align: top;\n",
       "    }\n",
       "\n",
       "    .dataframe thead th {\n",
       "        text-align: right;\n",
       "    }\n",
       "</style>\n",
       "<table border=\"1\" class=\"dataframe\">\n",
       "  <thead>\n",
       "    <tr style=\"text-align: right;\">\n",
       "      <th></th>\n",
       "      <th>Date</th>\n",
       "      <th>Open</th>\n",
       "      <th>High</th>\n",
       "      <th>Low</th>\n",
       "      <th>Close</th>\n",
       "      <th>Adj Close</th>\n",
       "      <th>Volume</th>\n",
       "    </tr>\n",
       "  </thead>\n",
       "  <tbody>\n",
       "    <tr>\n",
       "      <th>0</th>\n",
       "      <td>1996-01-01</td>\n",
       "      <td>5.550000</td>\n",
       "      <td>5.600000</td>\n",
       "      <td>5.533333</td>\n",
       "      <td>5.583333</td>\n",
       "      <td>3.455524</td>\n",
       "      <td>985500.0</td>\n",
       "    </tr>\n",
       "    <tr>\n",
       "      <th>1</th>\n",
       "      <td>1996-01-02</td>\n",
       "      <td>5.466666</td>\n",
       "      <td>5.566666</td>\n",
       "      <td>5.288888</td>\n",
       "      <td>5.372222</td>\n",
       "      <td>3.324867</td>\n",
       "      <td>7470000.0</td>\n",
       "    </tr>\n",
       "    <tr>\n",
       "      <th>2</th>\n",
       "      <td>1996-01-03</td>\n",
       "      <td>5.133333</td>\n",
       "      <td>5.254444</td>\n",
       "      <td>5.101111</td>\n",
       "      <td>5.200000</td>\n",
       "      <td>3.218279</td>\n",
       "      <td>15160500.0</td>\n",
       "    </tr>\n",
       "    <tr>\n",
       "      <th>3</th>\n",
       "      <td>1996-01-04</td>\n",
       "      <td>5.200000</td>\n",
       "      <td>5.332222</td>\n",
       "      <td>5.144444</td>\n",
       "      <td>5.297777</td>\n",
       "      <td>3.278794</td>\n",
       "      <td>12397500.0</td>\n",
       "    </tr>\n",
       "    <tr>\n",
       "      <th>4</th>\n",
       "      <td>1996-01-05</td>\n",
       "      <td>5.297777</td>\n",
       "      <td>5.277777</td>\n",
       "      <td>5.188888</td>\n",
       "      <td>5.202222</td>\n",
       "      <td>3.219654</td>\n",
       "      <td>5008500.0</td>\n",
       "    </tr>\n",
       "    <tr>\n",
       "      <th>...</th>\n",
       "      <td>...</td>\n",
       "      <td>...</td>\n",
       "      <td>...</td>\n",
       "      <td>...</td>\n",
       "      <td>...</td>\n",
       "      <td>...</td>\n",
       "      <td>...</td>\n",
       "    </tr>\n",
       "    <tr>\n",
       "      <th>6581</th>\n",
       "      <td>2022-02-14</td>\n",
       "      <td>226.000000</td>\n",
       "      <td>226.000000</td>\n",
       "      <td>218.500000</td>\n",
       "      <td>219.449997</td>\n",
       "      <td>219.449997</td>\n",
       "      <td>22745228.0</td>\n",
       "    </tr>\n",
       "    <tr>\n",
       "      <th>6582</th>\n",
       "      <td>2022-02-15</td>\n",
       "      <td>221.000000</td>\n",
       "      <td>223.500000</td>\n",
       "      <td>218.550003</td>\n",
       "      <td>223.000000</td>\n",
       "      <td>223.000000</td>\n",
       "      <td>12875311.0</td>\n",
       "    </tr>\n",
       "    <tr>\n",
       "      <th>6583</th>\n",
       "      <td>2022-02-16</td>\n",
       "      <td>223.800003</td>\n",
       "      <td>224.699997</td>\n",
       "      <td>221.850006</td>\n",
       "      <td>222.750000</td>\n",
       "      <td>222.750000</td>\n",
       "      <td>11231596.0</td>\n",
       "    </tr>\n",
       "    <tr>\n",
       "      <th>6584</th>\n",
       "      <td>2022-02-17</td>\n",
       "      <td>223.050003</td>\n",
       "      <td>224.350006</td>\n",
       "      <td>220.850006</td>\n",
       "      <td>222.649994</td>\n",
       "      <td>222.649994</td>\n",
       "      <td>14024149.0</td>\n",
       "    </tr>\n",
       "    <tr>\n",
       "      <th>6585</th>\n",
       "      <td>2022-02-18</td>\n",
       "      <td>222.649994</td>\n",
       "      <td>223.449997</td>\n",
       "      <td>221.500000</td>\n",
       "      <td>221.899994</td>\n",
       "      <td>221.899994</td>\n",
       "      <td>8670947.0</td>\n",
       "    </tr>\n",
       "  </tbody>\n",
       "</table>\n",
       "<p>6586 rows × 7 columns</p>\n",
       "</div>"
      ],
      "text/plain": [
       "            Date        Open        High         Low       Close   Adj Close  \\\n",
       "0     1996-01-01    5.550000    5.600000    5.533333    5.583333    3.455524   \n",
       "1     1996-01-02    5.466666    5.566666    5.288888    5.372222    3.324867   \n",
       "2     1996-01-03    5.133333    5.254444    5.101111    5.200000    3.218279   \n",
       "3     1996-01-04    5.200000    5.332222    5.144444    5.297777    3.278794   \n",
       "4     1996-01-05    5.297777    5.277777    5.188888    5.202222    3.219654   \n",
       "...          ...         ...         ...         ...         ...         ...   \n",
       "6581  2022-02-14  226.000000  226.000000  218.500000  219.449997  219.449997   \n",
       "6582  2022-02-15  221.000000  223.500000  218.550003  223.000000  223.000000   \n",
       "6583  2022-02-16  223.800003  224.699997  221.850006  222.750000  222.750000   \n",
       "6584  2022-02-17  223.050003  224.350006  220.850006  222.649994  222.649994   \n",
       "6585  2022-02-18  222.649994  223.449997  221.500000  221.899994  221.899994   \n",
       "\n",
       "          Volume  \n",
       "0       985500.0  \n",
       "1      7470000.0  \n",
       "2     15160500.0  \n",
       "3     12397500.0  \n",
       "4      5008500.0  \n",
       "...          ...  \n",
       "6581  22745228.0  \n",
       "6582  12875311.0  \n",
       "6583  11231596.0  \n",
       "6584  14024149.0  \n",
       "6585   8670947.0  \n",
       "\n",
       "[6586 rows x 7 columns]"
      ]
     },
     "execution_count": 3,
     "metadata": {},
     "output_type": "execute_result"
    }
   ],
   "source": [
    "df=pd.DataFrame(aa)\n",
    "df"
   ]
  },
  {
   "cell_type": "code",
   "execution_count": 4,
   "metadata": {
    "colab": {
     "base_uri": "https://localhost:8080/"
    },
    "id": "_LdEkzl0szUN",
    "outputId": "31cd658c-8c21-4d69-a3b7-c3e6530e8d1e"
   },
   "outputs": [
    {
     "name": "stdout",
     "output_type": "stream",
     "text": [
      "The Number of Rows in the given Dataset 6586\n",
      "The Number of Columns in the given Dataset 7\n"
     ]
    }
   ],
   "source": [
    "# Number of Rows and Columns in the Given Dataset\n",
    "print('The Number of Rows in the given Dataset',df.shape[0])\n",
    "print('The Number of Columns in the given Dataset',df.shape[1])"
   ]
  },
  {
   "cell_type": "code",
   "execution_count": 5,
   "metadata": {
    "colab": {
     "base_uri": "https://localhost:8080/"
    },
    "id": "6EiNEVj-Dvtg",
    "outputId": "88a48a62-0686-4a96-d1bb-963d6d1d9a0f"
   },
   "outputs": [
    {
     "name": "stdout",
     "output_type": "stream",
     "text": [
      "<class 'pandas.core.frame.DataFrame'>\n",
      "RangeIndex: 6586 entries, 0 to 6585\n",
      "Data columns (total 7 columns):\n",
      " #   Column     Non-Null Count  Dtype  \n",
      "---  ------     --------------  -----  \n",
      " 0   Date       6586 non-null   object \n",
      " 1   Open       6575 non-null   float64\n",
      " 2   High       6575 non-null   float64\n",
      " 3   Low        6575 non-null   float64\n",
      " 4   Close      6575 non-null   float64\n",
      " 5   Adj Close  6575 non-null   float64\n",
      " 6   Volume     6575 non-null   float64\n",
      "dtypes: float64(6), object(1)\n",
      "memory usage: 360.3+ KB\n"
     ]
    }
   ],
   "source": [
    "df.info()"
   ]
  },
  {
   "cell_type": "code",
   "execution_count": 6,
   "metadata": {
    "colab": {
     "base_uri": "https://localhost:8080/",
     "height": 364
    },
    "id": "NoFFULgvDxVf",
    "outputId": "8277b02f-a45b-4e75-8864-44db884ed852"
   },
   "outputs": [
    {
     "data": {
      "text/html": [
       "<div>\n",
       "<style scoped>\n",
       "    .dataframe tbody tr th:only-of-type {\n",
       "        vertical-align: middle;\n",
       "    }\n",
       "\n",
       "    .dataframe tbody tr th {\n",
       "        vertical-align: top;\n",
       "    }\n",
       "\n",
       "    .dataframe thead th {\n",
       "        text-align: right;\n",
       "    }\n",
       "</style>\n",
       "<table border=\"1\" class=\"dataframe\">\n",
       "  <thead>\n",
       "    <tr style=\"text-align: right;\">\n",
       "      <th></th>\n",
       "      <th>Open</th>\n",
       "      <th>High</th>\n",
       "      <th>Low</th>\n",
       "      <th>Close</th>\n",
       "      <th>Adj Close</th>\n",
       "      <th>Volume</th>\n",
       "    </tr>\n",
       "  </thead>\n",
       "  <tbody>\n",
       "    <tr>\n",
       "      <th>count</th>\n",
       "      <td>6575.000000</td>\n",
       "      <td>6575.000000</td>\n",
       "      <td>6575.000000</td>\n",
       "      <td>6575.000000</td>\n",
       "      <td>6575.000000</td>\n",
       "      <td>6.575000e+03</td>\n",
       "    </tr>\n",
       "    <tr>\n",
       "      <th>mean</th>\n",
       "      <td>112.274656</td>\n",
       "      <td>113.537548</td>\n",
       "      <td>110.842004</td>\n",
       "      <td>112.168352</td>\n",
       "      <td>92.484077</td>\n",
       "      <td>4.534682e+07</td>\n",
       "    </tr>\n",
       "    <tr>\n",
       "      <th>std</th>\n",
       "      <td>98.974714</td>\n",
       "      <td>99.874436</td>\n",
       "      <td>97.922662</td>\n",
       "      <td>98.864567</td>\n",
       "      <td>86.763202</td>\n",
       "      <td>1.013248e+08</td>\n",
       "    </tr>\n",
       "    <tr>\n",
       "      <th>min</th>\n",
       "      <td>4.182222</td>\n",
       "      <td>4.182222</td>\n",
       "      <td>4.144444</td>\n",
       "      <td>4.182222</td>\n",
       "      <td>2.588377</td>\n",
       "      <td>0.000000e+00</td>\n",
       "    </tr>\n",
       "    <tr>\n",
       "      <th>25%</th>\n",
       "      <td>17.795000</td>\n",
       "      <td>18.088888</td>\n",
       "      <td>17.451111</td>\n",
       "      <td>17.766110</td>\n",
       "      <td>11.359094</td>\n",
       "      <td>8.762333e+06</td>\n",
       "    </tr>\n",
       "    <tr>\n",
       "      <th>50%</th>\n",
       "      <td>64.666664</td>\n",
       "      <td>66.233330</td>\n",
       "      <td>63.333332</td>\n",
       "      <td>64.566666</td>\n",
       "      <td>47.230267</td>\n",
       "      <td>1.383862e+07</td>\n",
       "    </tr>\n",
       "    <tr>\n",
       "      <th>75%</th>\n",
       "      <td>213.333328</td>\n",
       "      <td>215.600006</td>\n",
       "      <td>210.733337</td>\n",
       "      <td>213.183335</td>\n",
       "      <td>180.883004</td>\n",
       "      <td>2.651928e+07</td>\n",
       "    </tr>\n",
       "    <tr>\n",
       "      <th>max</th>\n",
       "      <td>346.000000</td>\n",
       "      <td>354.799988</td>\n",
       "      <td>340.299988</td>\n",
       "      <td>342.500000</td>\n",
       "      <td>291.353851</td>\n",
       "      <td>1.294168e+09</td>\n",
       "    </tr>\n",
       "  </tbody>\n",
       "</table>\n",
       "</div>"
      ],
      "text/plain": [
       "              Open         High          Low        Close    Adj Close  \\\n",
       "count  6575.000000  6575.000000  6575.000000  6575.000000  6575.000000   \n",
       "mean    112.274656   113.537548   110.842004   112.168352    92.484077   \n",
       "std      98.974714    99.874436    97.922662    98.864567    86.763202   \n",
       "min       4.182222     4.182222     4.144444     4.182222     2.588377   \n",
       "25%      17.795000    18.088888    17.451111    17.766110    11.359094   \n",
       "50%      64.666664    66.233330    63.333332    64.566666    47.230267   \n",
       "75%     213.333328   215.600006   210.733337   213.183335   180.883004   \n",
       "max     346.000000   354.799988   340.299988   342.500000   291.353851   \n",
       "\n",
       "             Volume  \n",
       "count  6.575000e+03  \n",
       "mean   4.534682e+07  \n",
       "std    1.013248e+08  \n",
       "min    0.000000e+00  \n",
       "25%    8.762333e+06  \n",
       "50%    1.383862e+07  \n",
       "75%    2.651928e+07  \n",
       "max    1.294168e+09  "
      ]
     },
     "execution_count": 6,
     "metadata": {},
     "output_type": "execute_result"
    }
   ],
   "source": [
    "df.describe()"
   ]
  },
  {
   "cell_type": "markdown",
   "metadata": {
    "id": "M16ofCwCCee4"
   },
   "source": [
    "# **Data Cleaning**"
   ]
  },
  {
   "cell_type": "code",
   "execution_count": 7,
   "metadata": {
    "colab": {
     "base_uri": "https://localhost:8080/",
     "height": 206
    },
    "id": "tGhmsBoqCCTw",
    "outputId": "efb5485d-2b20-48aa-ab64-9f2c8c4607e5"
   },
   "outputs": [
    {
     "data": {
      "text/html": [
       "<div>\n",
       "<style scoped>\n",
       "    .dataframe tbody tr th:only-of-type {\n",
       "        vertical-align: middle;\n",
       "    }\n",
       "\n",
       "    .dataframe tbody tr th {\n",
       "        vertical-align: top;\n",
       "    }\n",
       "\n",
       "    .dataframe thead th {\n",
       "        text-align: right;\n",
       "    }\n",
       "</style>\n",
       "<table border=\"1\" class=\"dataframe\">\n",
       "  <thead>\n",
       "    <tr style=\"text-align: right;\">\n",
       "      <th></th>\n",
       "      <th>Date</th>\n",
       "      <th>Open</th>\n",
       "      <th>High</th>\n",
       "      <th>Low</th>\n",
       "      <th>Close</th>\n",
       "      <th>Adj Close</th>\n",
       "      <th>Volume</th>\n",
       "    </tr>\n",
       "  </thead>\n",
       "  <tbody>\n",
       "    <tr>\n",
       "      <th>0</th>\n",
       "      <td>1996-01-01</td>\n",
       "      <td>5.550000</td>\n",
       "      <td>5.600000</td>\n",
       "      <td>5.533333</td>\n",
       "      <td>5.583333</td>\n",
       "      <td>3.455524</td>\n",
       "      <td>985500.0</td>\n",
       "    </tr>\n",
       "    <tr>\n",
       "      <th>1</th>\n",
       "      <td>1996-01-02</td>\n",
       "      <td>5.466666</td>\n",
       "      <td>5.566666</td>\n",
       "      <td>5.288888</td>\n",
       "      <td>5.372222</td>\n",
       "      <td>3.324867</td>\n",
       "      <td>7470000.0</td>\n",
       "    </tr>\n",
       "    <tr>\n",
       "      <th>2</th>\n",
       "      <td>1996-01-03</td>\n",
       "      <td>5.133333</td>\n",
       "      <td>5.254444</td>\n",
       "      <td>5.101111</td>\n",
       "      <td>5.200000</td>\n",
       "      <td>3.218279</td>\n",
       "      <td>15160500.0</td>\n",
       "    </tr>\n",
       "    <tr>\n",
       "      <th>3</th>\n",
       "      <td>1996-01-04</td>\n",
       "      <td>5.200000</td>\n",
       "      <td>5.332222</td>\n",
       "      <td>5.144444</td>\n",
       "      <td>5.297777</td>\n",
       "      <td>3.278794</td>\n",
       "      <td>12397500.0</td>\n",
       "    </tr>\n",
       "    <tr>\n",
       "      <th>4</th>\n",
       "      <td>1996-01-05</td>\n",
       "      <td>5.297777</td>\n",
       "      <td>5.277777</td>\n",
       "      <td>5.188888</td>\n",
       "      <td>5.202222</td>\n",
       "      <td>3.219654</td>\n",
       "      <td>5008500.0</td>\n",
       "    </tr>\n",
       "  </tbody>\n",
       "</table>\n",
       "</div>"
      ],
      "text/plain": [
       "         Date      Open      High       Low     Close  Adj Close      Volume\n",
       "0  1996-01-01  5.550000  5.600000  5.533333  5.583333   3.455524    985500.0\n",
       "1  1996-01-02  5.466666  5.566666  5.288888  5.372222   3.324867   7470000.0\n",
       "2  1996-01-03  5.133333  5.254444  5.101111  5.200000   3.218279  15160500.0\n",
       "3  1996-01-04  5.200000  5.332222  5.144444  5.297777   3.278794  12397500.0\n",
       "4  1996-01-05  5.297777  5.277777  5.188888  5.202222   3.219654   5008500.0"
      ]
     },
     "execution_count": 7,
     "metadata": {},
     "output_type": "execute_result"
    }
   ],
   "source": [
    "df.head()"
   ]
  },
  {
   "cell_type": "code",
   "execution_count": 8,
   "metadata": {
    "colab": {
     "base_uri": "https://localhost:8080/",
     "height": 424
    },
    "id": "NssFLVm-CrLI",
    "outputId": "2276af4c-d988-472c-9b67-7cda41524094"
   },
   "outputs": [
    {
     "data": {
      "text/html": [
       "<div>\n",
       "<style scoped>\n",
       "    .dataframe tbody tr th:only-of-type {\n",
       "        vertical-align: middle;\n",
       "    }\n",
       "\n",
       "    .dataframe tbody tr th {\n",
       "        vertical-align: top;\n",
       "    }\n",
       "\n",
       "    .dataframe thead th {\n",
       "        text-align: right;\n",
       "    }\n",
       "</style>\n",
       "<table border=\"1\" class=\"dataframe\">\n",
       "  <thead>\n",
       "    <tr style=\"text-align: right;\">\n",
       "      <th></th>\n",
       "      <th>Open</th>\n",
       "      <th>High</th>\n",
       "      <th>Low</th>\n",
       "      <th>Close</th>\n",
       "    </tr>\n",
       "  </thead>\n",
       "  <tbody>\n",
       "    <tr>\n",
       "      <th>0</th>\n",
       "      <td>5.550000</td>\n",
       "      <td>5.600000</td>\n",
       "      <td>5.533333</td>\n",
       "      <td>5.583333</td>\n",
       "    </tr>\n",
       "    <tr>\n",
       "      <th>1</th>\n",
       "      <td>5.466666</td>\n",
       "      <td>5.566666</td>\n",
       "      <td>5.288888</td>\n",
       "      <td>5.372222</td>\n",
       "    </tr>\n",
       "    <tr>\n",
       "      <th>2</th>\n",
       "      <td>5.133333</td>\n",
       "      <td>5.254444</td>\n",
       "      <td>5.101111</td>\n",
       "      <td>5.200000</td>\n",
       "    </tr>\n",
       "    <tr>\n",
       "      <th>3</th>\n",
       "      <td>5.200000</td>\n",
       "      <td>5.332222</td>\n",
       "      <td>5.144444</td>\n",
       "      <td>5.297777</td>\n",
       "    </tr>\n",
       "    <tr>\n",
       "      <th>4</th>\n",
       "      <td>5.297777</td>\n",
       "      <td>5.277777</td>\n",
       "      <td>5.188888</td>\n",
       "      <td>5.202222</td>\n",
       "    </tr>\n",
       "    <tr>\n",
       "      <th>...</th>\n",
       "      <td>...</td>\n",
       "      <td>...</td>\n",
       "      <td>...</td>\n",
       "      <td>...</td>\n",
       "    </tr>\n",
       "    <tr>\n",
       "      <th>6581</th>\n",
       "      <td>226.000000</td>\n",
       "      <td>226.000000</td>\n",
       "      <td>218.500000</td>\n",
       "      <td>219.449997</td>\n",
       "    </tr>\n",
       "    <tr>\n",
       "      <th>6582</th>\n",
       "      <td>221.000000</td>\n",
       "      <td>223.500000</td>\n",
       "      <td>218.550003</td>\n",
       "      <td>223.000000</td>\n",
       "    </tr>\n",
       "    <tr>\n",
       "      <th>6583</th>\n",
       "      <td>223.800003</td>\n",
       "      <td>224.699997</td>\n",
       "      <td>221.850006</td>\n",
       "      <td>222.750000</td>\n",
       "    </tr>\n",
       "    <tr>\n",
       "      <th>6584</th>\n",
       "      <td>223.050003</td>\n",
       "      <td>224.350006</td>\n",
       "      <td>220.850006</td>\n",
       "      <td>222.649994</td>\n",
       "    </tr>\n",
       "    <tr>\n",
       "      <th>6585</th>\n",
       "      <td>222.649994</td>\n",
       "      <td>223.449997</td>\n",
       "      <td>221.500000</td>\n",
       "      <td>221.899994</td>\n",
       "    </tr>\n",
       "  </tbody>\n",
       "</table>\n",
       "<p>6586 rows × 4 columns</p>\n",
       "</div>"
      ],
      "text/plain": [
       "            Open        High         Low       Close\n",
       "0       5.550000    5.600000    5.533333    5.583333\n",
       "1       5.466666    5.566666    5.288888    5.372222\n",
       "2       5.133333    5.254444    5.101111    5.200000\n",
       "3       5.200000    5.332222    5.144444    5.297777\n",
       "4       5.297777    5.277777    5.188888    5.202222\n",
       "...          ...         ...         ...         ...\n",
       "6581  226.000000  226.000000  218.500000  219.449997\n",
       "6582  221.000000  223.500000  218.550003  223.000000\n",
       "6583  223.800003  224.699997  221.850006  222.750000\n",
       "6584  223.050003  224.350006  220.850006  222.649994\n",
       "6585  222.649994  223.449997  221.500000  221.899994\n",
       "\n",
       "[6586 rows x 4 columns]"
      ]
     },
     "execution_count": 8,
     "metadata": {},
     "output_type": "execute_result"
    }
   ],
   "source": [
    "df=df.drop(columns=['Date','Adj Close','Volume'])\n",
    "df"
   ]
  },
  {
   "cell_type": "code",
   "execution_count": 9,
   "metadata": {
    "colab": {
     "base_uri": "https://localhost:8080/"
    },
    "id": "N-h6bcIUC7Dw",
    "outputId": "6199fc1f-0520-456a-e340-85b5dd7794dc"
   },
   "outputs": [
    {
     "name": "stdout",
     "output_type": "stream",
     "text": [
      "The Minimum value in Open value of ITC stock is 4.182222\n",
      "The Mean value in Open value of ITC stock is 112.27465619726236\n",
      "The Maximum value in Open value of ITC stock is 346.0\n",
      "*********\n",
      "The Minimum value in High value of ITC stock is 4.182222\n",
      "The Mean value in High value of ITC stock is 113.53754849718631\n",
      "The Maximum value in High value of ITC stock is 354.799988\n",
      "*********\n",
      "The Minimum value in Low value of ITC stock is 4.144444\n",
      "The Mean value in Low value of ITC stock is 110.8420043878327\n",
      "The Maximum value in Low value of ITC stock is 340.299988\n",
      "*********\n",
      "The Minimum value in Close value of ITC stock is 4.182222\n",
      "The Mean value in Close value of ITC stock is 112.16835181307984\n",
      "The Maximum value in Close value of ITC stock is 342.5\n",
      "*********\n"
     ]
    }
   ],
   "source": [
    "for i in range(0,len(df.columns),1):\n",
    "  print('The Minimum value in',df.columns[i],'value of ITC stock is',df[df.columns[i]].min())\n",
    "  print('The Mean value in',df.columns[i],'value of ITC stock is',df[df.columns[i]].mean())\n",
    "  print('The Maximum value in',df.columns[i],'value of ITC stock is',df[df.columns[i]].max())\n",
    "  print('*********')"
   ]
  },
  {
   "cell_type": "markdown",
   "metadata": {
    "id": "DBUJOlHSEEsP"
   },
   "source": [
    "# **Before Removing the Null Values**"
   ]
  },
  {
   "cell_type": "code",
   "execution_count": 10,
   "metadata": {
    "colab": {
     "base_uri": "https://localhost:8080/"
    },
    "id": "WEYVvBt8DtFH",
    "outputId": "5c537fff-011f-45f5-b6fb-40123dd9c233"
   },
   "outputs": [
    {
     "data": {
      "text/plain": [
       "Open     11\n",
       "High     11\n",
       "Low      11\n",
       "Close    11\n",
       "dtype: int64"
      ]
     },
     "execution_count": 10,
     "metadata": {},
     "output_type": "execute_result"
    }
   ],
   "source": [
    "df.isnull().sum()"
   ]
  },
  {
   "cell_type": "markdown",
   "metadata": {
    "id": "MJxQEHGEF_sI"
   },
   "source": [
    "# **Removing of Null values**"
   ]
  },
  {
   "cell_type": "code",
   "execution_count": 11,
   "metadata": {
    "id": "cZDaQfzkD83v"
   },
   "outputs": [],
   "source": [
    "df.dropna(inplace=True)"
   ]
  },
  {
   "cell_type": "markdown",
   "metadata": {
    "id": "FR-iJ_zXF7NA"
   },
   "source": [
    "# **After Removing the Null Values**"
   ]
  },
  {
   "cell_type": "code",
   "execution_count": 12,
   "metadata": {
    "colab": {
     "base_uri": "https://localhost:8080/"
    },
    "id": "jVY0cGKxED8H",
    "outputId": "52cf4fae-a7c8-4d14-c5d4-052b9d454255"
   },
   "outputs": [
    {
     "data": {
      "text/plain": [
       "Open     0\n",
       "High     0\n",
       "Low      0\n",
       "Close    0\n",
       "dtype: int64"
      ]
     },
     "execution_count": 12,
     "metadata": {},
     "output_type": "execute_result"
    }
   ],
   "source": [
    "df.isnull().sum()"
   ]
  },
  {
   "cell_type": "markdown",
   "metadata": {
    "id": "yji8Kk89HIW2"
   },
   "source": [
    "# **Data Visulization**"
   ]
  },
  {
   "cell_type": "code",
   "execution_count": 13,
   "metadata": {
    "colab": {
     "base_uri": "https://localhost:8080/",
     "height": 348
    },
    "id": "pe3-HXw8HLWt",
    "outputId": "3ecc4305-3ea3-4a5b-da8a-c40eeee59419"
   },
   "outputs": [
    {
     "data": {
      "text/plain": [
       "<matplotlib.collections.PathCollection at 0x2878009ddf0>"
      ]
     },
     "execution_count": 13,
     "metadata": {},
     "output_type": "execute_result"
    },
    {
     "data": {
      "image/png": "[encoded data removed]",
      "text/plain": [
       "<Figure size 1280x640 with 1 Axes>"
      ]
     },
     "metadata": {
      "needs_background": "light"
     },
     "output_type": "display_data"
    }
   ],
   "source": [
    "plt.figure(figsize=(16,8),dpi=80)\n",
    "plt.scatter(df['Open'],df['Close'])"
   ]
  },
  {
   "cell_type": "code",
   "execution_count": 14,
   "metadata": {
    "colab": {
     "base_uri": "https://localhost:8080/",
     "height": 348
    },
    "id": "IRJu-K3yHmYW",
    "outputId": "4b6d151d-56e0-4abd-e763-458035ac806e"
   },
   "outputs": [
    {
     "data": {
      "text/plain": [
       "<matplotlib.collections.PathCollection at 0x287801c6160>"
      ]
     },
     "execution_count": 14,
     "metadata": {},
     "output_type": "execute_result"
    },
    {
     "data": {
      "image/png": "[encoded data removed]",
      "text/plain": [
       "<Figure size 1280x640 with 1 Axes>"
      ]
     },
     "metadata": {
      "needs_background": "light"
     },
     "output_type": "display_data"
    }
   ],
   "source": [
    "plt.figure(figsize=(16,8),dpi=80)\n",
    "plt.scatter(df['High'],df['Close'])"
   ]
  },
  {
   "cell_type": "code",
   "execution_count": 15,
   "metadata": {
    "colab": {
     "base_uri": "https://localhost:8080/",
     "height": 348
    },
    "id": "h_2MYX-7HmU8",
    "outputId": "23936554-8377-4132-8247-230ab84436a2"
   },
   "outputs": [
    {
     "data": {
      "text/plain": [
       "<matplotlib.collections.PathCollection at 0x2878018b8e0>"
      ]
     },
     "execution_count": 15,
     "metadata": {},
     "output_type": "execute_result"
    },
    {
     "data": {
      "image/png": "[encoded data removed]",
      "text/plain": [
       "<Figure size 1280x640 with 1 Axes>"
      ]
     },
     "metadata": {
      "needs_background": "light"
     },
     "output_type": "display_data"
    }
   ],
   "source": [
    "plt.figure(figsize=(16,8),dpi=80)\n",
    "plt.scatter(df['Low'],df['Close'])"
   ]
  },
  {
   "cell_type": "markdown",
   "metadata": {
    "id": "dmHEn6hRHzI5"
   },
   "source": [
    "**Since it follows linear pattern in the three graphs so it fixed that Linear Regression can be used for our modeling**"
   ]
  },
  {
   "cell_type": "markdown",
   "metadata": {
    "id": "_24FtJqFIIlf"
   },
   "source": [
    "# **Object Creation of Linear Regression**"
   ]
  },
  {
   "cell_type": "code",
   "execution_count": 16,
   "metadata": {
    "id": "3JNmeHf7HuwE"
   },
   "outputs": [],
   "source": [
    "linear=LinearRegression()"
   ]
  },
  {
   "cell_type": "markdown",
   "metadata": {
    "id": "RFH7vuGFIIDc"
   },
   "source": [
    "# **Scaling Object**"
   ]
  },
  {
   "cell_type": "code",
   "execution_count": 17,
   "metadata": {
    "id": "s9RttURKHutV"
   },
   "outputs": [],
   "source": [
    "scale=StandardScaler()"
   ]
  },
  {
   "cell_type": "markdown",
   "metadata": {
    "id": "9buX7ZaVJi0T"
   },
   "source": [
    "# **Splitting of Dataset into feature and Target**"
   ]
  },
  {
   "cell_type": "code",
   "execution_count": 18,
   "metadata": {
    "id": "Y-DIircMIRiT"
   },
   "outputs": [],
   "source": [
    "X=df.iloc[:,:3].values\n",
    "y=df.iloc[:,3:].values\n",
    "X_train,X_test,y_train,y_test=train_test_split(X,y,test_size=0.20,random_state=None)"
   ]
  },
  {
   "cell_type": "markdown",
   "metadata": {
    "id": "ZQRlxhTYKp3u"
   },
   "source": [
    "# **Scaling of the feature of Dataset**"
   ]
  },
  {
   "cell_type": "code",
   "execution_count": 19,
   "metadata": {
    "id": "EZlLYq8YI0tj"
   },
   "outputs": [],
   "source": [
    "X_train=scale.fit_transform(X_train)\n",
    "X_test=scale.fit_transform(X_test)"
   ]
  },
  {
   "cell_type": "code",
   "execution_count": 20,
   "metadata": {
    "colab": {
     "base_uri": "https://localhost:8080/"
    },
    "id": "9_htWhyaIRfY",
    "outputId": "e14c5b6f-ee94-4cbd-f12f-93a445342756"
   },
   "outputs": [
    {
     "name": "stdout",
     "output_type": "stream",
     "text": [
      "(5260, 3) (1315, 3)\n",
      "(5260, 1) (1315, 1)\n"
     ]
    }
   ],
   "source": [
    "print(X_train.shape,X_test.shape)\n",
    "print(y_train.shape,y_test.shape)"
   ]
  },
  {
   "cell_type": "markdown",
   "metadata": {
    "id": "vh6nVgOoMBey"
   },
   "source": [
    "# **Fitting a Model**"
   ]
  },
  {
   "cell_type": "code",
   "execution_count": 21,
   "metadata": {
    "colab": {
     "base_uri": "https://localhost:8080/"
    },
    "id": "nlFkhbcFIRQg",
    "outputId": "08ee95ef-c68f-49b1-c32a-b60909cb595e"
   },
   "outputs": [
    {
     "data": {
      "text/plain": [
       "LinearRegression()"
      ]
     },
     "execution_count": 21,
     "metadata": {},
     "output_type": "execute_result"
    }
   ],
   "source": [
    "linear.fit(X_train,y_train)"
   ]
  },
  {
   "cell_type": "markdown",
   "metadata": {
    "id": "3-7-JAbYMI97"
   },
   "source": [
    "# **Prediction of the values**"
   ]
  },
  {
   "cell_type": "code",
   "execution_count": 22,
   "metadata": {
    "id": "kNbDPBX5LB33"
   },
   "outputs": [],
   "source": [
    "pred=linear.predict(X_test)"
   ]
  },
  {
   "cell_type": "markdown",
   "metadata": {
    "id": "2Tv8f2jaMVS4"
   },
   "source": [
    "# **Calculation on metrics**"
   ]
  },
  {
   "cell_type": "code",
   "execution_count": 23,
   "metadata": {
    "colab": {
     "base_uri": "https://localhost:8080/"
    },
    "id": "1XGW3gkfMUxh",
    "outputId": "447097e1-4fd0-4b77-8c35-731d5961fb1c"
   },
   "outputs": [
    {
     "name": "stdout",
     "output_type": "stream",
     "text": [
      "0.9998267112345581\n"
     ]
    }
   ],
   "source": [
    "print(metrics.r2_score(y_test,pred))"
   ]
  },
  {
   "cell_type": "code",
   "execution_count": 24,
   "metadata": {
    "id": "FId7Nr9GNAZb"
   },
   "outputs": [],
   "source": [
    "l=[]\n",
    "ll=[]\n",
    "for i in range(1,31,1):\n",
    "  l.append(i)\n",
    "  z=float('0.'+str(i))\n",
    "  \n",
    "  X_train,X_test,y_train,y_test=train_test_split(X,y,test_size=z,random_state=None)\n",
    "  X_train=scale.fit_transform(X_train)\n",
    "  X_test=scale.fit_transform(X_test)\n",
    "  linear.fit(X_train,y_train)\n",
    "  pred=linear.predict(X_test)\n",
    "  ll.append(metrics.r2_score(y_test,pred))"
   ]
  },
  {
   "cell_type": "code",
   "execution_count": 25,
   "metadata": {
    "colab": {
     "base_uri": "https://localhost:8080/"
    },
    "id": "BI5rvl_EOnOb",
    "outputId": "47fcf4f2-f0ba-4289-e380-d5bdcd2524a7"
   },
   "outputs": [
    {
     "data": {
      "text/plain": [
       "[0.9996677968870127,\n",
       " 0.9996762938575714,\n",
       " 0.9993557871619841,\n",
       " 0.999551993344198,\n",
       " 0.9998371363785152,\n",
       " 0.9991804818633753,\n",
       " 0.9995371629351307,\n",
       " 0.999860252804678,\n",
       " 0.9993909196361638,\n",
       " 0.999326433436768,\n",
       " 0.999180681186118,\n",
       " 0.999913136912569,\n",
       " 0.9969248660092869,\n",
       " 0.9995976127091123,\n",
       " 0.9951577741940619,\n",
       " 0.9997779164541626,\n",
       " 0.9996905735324803,\n",
       " 0.9950527496454895,\n",
       " 0.9990931104803785,\n",
       " 0.9989077333494762,\n",
       " 0.9998165240521106,\n",
       " 0.9998732362365406,\n",
       " 0.9998593796774417,\n",
       " 0.9994998599687575,\n",
       " 0.9987717540766237,\n",
       " 0.9987561477915574,\n",
       " 0.9992670602216592,\n",
       " 0.9983409862481406,\n",
       " 0.9998899102396117,\n",
       " 0.9998673150331459]"
      ]
     },
     "execution_count": 25,
     "metadata": {},
     "output_type": "execute_result"
    }
   ],
   "source": [
    "ll"
   ]
  },
  {
   "cell_type": "code",
   "execution_count": 26,
   "metadata": {
    "colab": {
     "base_uri": "https://localhost:8080/"
    },
    "id": "YmCWt8bCPTxm",
    "outputId": "64d810af-5cee-48c9-8e7c-ad216adec78d"
   },
   "outputs": [
    {
     "data": {
      "text/plain": [
       "11"
      ]
     },
     "execution_count": 26,
     "metadata": {},
     "output_type": "execute_result"
    }
   ],
   "source": [
    "z_idx_max=ll.index(max(ll))\n",
    "z_idx_max"
   ]
  },
  {
   "cell_type": "code",
   "execution_count": 27,
   "metadata": {
    "colab": {
     "base_uri": "https://localhost:8080/",
     "height": 344
    },
    "id": "DD_lwGyhOWbO",
    "outputId": "43db179a-a910-40d1-f802-fbf3330e27a1"
   },
   "outputs": [
    {
     "data": {
      "text/plain": [
       "<matplotlib.collections.PathCollection at 0x287802c5ca0>"
      ]
     },
     "execution_count": 27,
     "metadata": {},
     "output_type": "execute_result"
    },
    {
     "data": {
      "image/png": "[encoded data removed]",
      "text/plain": [
       "<Figure size 1280x640 with 1 Axes>"
      ]
     },
     "metadata": {
      "needs_background": "light"
     },
     "output_type": "display_data"
    }
   ],
   "source": [
    "plt.figure(figsize=(16,8),dpi=80)\n",
    "ax=plt.axes()\n",
    "ax.set_facecolor('black')\n",
    "plt.plot(l,ll,color='white')\n",
    "plt.scatter(l[14],ll[14],color='red',marker='*',s=250)"
   ]
  },
  {
   "cell_type": "markdown",
   "metadata": {
    "id": "dUT7chKmUc-V"
   },
   "source": [
    "# **Creation of pickle File for Deployment**"
   ]
  },
  {
   "cell_type": "code",
   "execution_count": 28,
   "metadata": {
    "id": "l51ERFMuUiHn"
   },
   "outputs": [],
   "source": [
    "file=open('l.pkl','wb')\n",
    "pickle.dump(linear,file)"
   ]
  }
 ],
 "metadata": {
  "colab": {
   "name": "ITC Stock Price Analysis.ipynb",
   "provenance": []
  },
  "kernelspec": {
   "display_name": "Python 3 (ipykernel)",
   "language": "python",
   "name": "python3"
  },
  "language_info": {
   "codemirror_mode": {
    "name": "ipython",
    "version": 3
   },
   "file_extension": ".py",
   "mimetype": "text/x-python",
   "name": "python",
   "nbconvert_exporter": "python",
   "pygments_lexer": "ipython3",
   "version": "3.9.0"
  }
 },
 "nbformat": 4,
 "nbformat_minor": 1
}
